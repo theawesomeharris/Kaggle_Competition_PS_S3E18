{
 "cells": [
  {
   "cell_type": "markdown",
   "id": "6d1f5e12",
   "metadata": {
    "papermill": {
     "duration": 0.004989,
     "end_time": "2023-07-04T08:42:22.157089",
     "exception": false,
     "start_time": "2023-07-04T08:42:22.152100",
     "status": "completed"
    },
    "tags": []
   },
   "source": [
    "# Getting started\n"
   ]
  },
  {
   "cell_type": "code",
   "execution_count": 1,
   "id": "f5c7e9fc",
   "metadata": {
    "_cell_guid": "b1076dfc-b9ad-4769-8c92-a6c4dae69d19",
    "_uuid": "8f2839f25d086af736a60e9eeb907d3b93b6e0e5",
    "execution": {
     "iopub.execute_input": "2023-07-04T08:42:22.168110Z",
     "iopub.status.busy": "2023-07-04T08:42:22.167439Z",
     "iopub.status.idle": "2023-07-04T08:42:24.715254Z",
     "shell.execute_reply": "2023-07-04T08:42:24.714105Z"
    },
    "papermill": {
     "duration": 2.5568,
     "end_time": "2023-07-04T08:42:24.718388",
     "exception": false,
     "start_time": "2023-07-04T08:42:22.161588",
     "status": "completed"
    },
    "tags": []
   },
   "outputs": [],
   "source": [
    "import warnings\n",
    "warnings.filterwarnings('ignore')\n",
    "\n",
    "import pandas as pd\n",
    "pd.set_option('display.max_columns', None)\n",
    "import numpy as np\n",
    "import scipy\n",
    "\n",
    "import matplotlib.pyplot as plt\n",
    "%matplotlib inline\n",
    "import seaborn as sns\n",
    "sns.set()\n",
    "\n",
    "from sklearn.preprocessing import StandardScaler, FunctionTransformer, PolynomialFeatures\n",
    "from sklearn.decomposition import PCA\n",
    "from sklearn.model_selection import StratifiedKFold, RepeatedStratifiedKFold, cross_val_score, cross_val_predict, cross_validate, train_test_split\n",
    "from sklearn.ensemble import RandomForestClassifier, ExtraTreesClassifier, VotingClassifier, HistGradientBoostingClassifier, BaggingClassifier\n",
    "from sklearn.linear_model import LogisticRegression\n",
    "from sklearn.svm import SVC, LinearSVC\n",
    "from sklearn.pipeline import make_pipeline, Pipeline\n",
    "from sklearn.compose import ColumnTransformer\n",
    "from sklearn.neighbors import KNeighborsClassifier\n",
    "from sklearn.metrics import roc_auc_score\n",
    "\n",
    "import optuna\n",
    "from optuna.samplers import TPESampler\n",
    "# Set the log level for the optuna package to WARNING\n",
    "optuna.logging.set_verbosity(optuna.logging.WARNING)\n",
    "# Run Optuna optimization for each model\n",
    "sampler = TPESampler(seed=42)\n"
   ]
  },
  {
   "cell_type": "code",
   "execution_count": 2,
   "id": "ffc53279",
   "metadata": {
    "execution": {
     "iopub.execute_input": "2023-07-04T08:42:24.728856Z",
     "iopub.status.busy": "2023-07-04T08:42:24.728469Z",
     "iopub.status.idle": "2023-07-04T08:42:25.282325Z",
     "shell.execute_reply": "2023-07-04T08:42:25.281273Z"
    },
    "papermill": {
     "duration": 0.562029,
     "end_time": "2023-07-04T08:42:25.284881",
     "exception": false,
     "start_time": "2023-07-04T08:42:24.722852",
     "status": "completed"
    },
    "tags": []
   },
   "outputs": [
    {
     "data": {
      "text/plain": [
       "((14838, 37),\n",
       " (15859, 37),\n",
       " (15769, 31),\n",
       " (15826, 33),\n",
       " (15841, 37),\n",
       " (15769, 31),\n",
       " (15805, 33))"
      ]
     },
     "execution_count": 2,
     "metadata": {},
     "output_type": "execute_result"
    }
   ],
   "source": [
    "path1 = \"/kaggle/input/playground-series-s3e18/\"\n",
    "path2 = \"/kaggle/input/multi-label-classification-of-enzyme-substrates/\"\n",
    "\n",
    "sample = pd.read_csv(path1+\"sample_submission.csv\")\n",
    "train = pd.read_csv(path1+\"train.csv\",index_col='id')\n",
    "test = pd.read_csv(path1+\"test.csv\",index_col='id')\n",
    "original = pd.read_csv(path2+\"original.csv\",index_col='id')\n",
    "original_1 = pd.read_csv(path2+\"original_1.csv\",index_col='id')\n",
    "\n",
    "id_test = test.index # id column required for submission file\n",
    "targets = ['EC1', 'EC2']\n",
    "features = [f for f in test.columns if not f.startswith('EC')]\n",
    "features_EC1EC2 = features + ['EC1', 'EC2']\n",
    "\n",
    "# Combine playground dataset and synthetic dataset generated\n",
    "train1 = pd.concat([train,original]).drop_duplicates().reset_index(drop=True)\n",
    "train2 = pd.concat([train,original_1]).drop_duplicates().reset_index(drop=True)\n",
    "\n",
    "train1a = train1[features].drop_duplicates().reset_index(drop=True)\n",
    "train2a = train2[features].drop_duplicates().reset_index(drop=True)\n",
    "\n",
    "train1b = train1[features_EC1EC2].drop_duplicates().reset_index(drop=True)\n",
    "train2b = train2[features_EC1EC2].drop_duplicates().reset_index(drop=True)\n",
    "\n",
    "train.shape, train1.shape, train1a.shape, train1b.shape, train2.shape, train2a.shape, train2b.shape"
   ]
  },
  {
   "cell_type": "markdown",
   "id": "2ffa02c8",
   "metadata": {
    "papermill": {
     "duration": 0.004208,
     "end_time": "2023-07-04T08:42:25.295924",
     "exception": false,
     "start_time": "2023-07-04T08:42:25.291716",
     "status": "completed"
    },
    "tags": []
   },
   "source": [
    "Notes:-  \n",
    "- The original dataset has multiple files with different target (EC1~EC6) values.\n",
    "- The original.csv has a set of target values from _ecfp file. This is combined with the trainset as train1 dataset here.\n",
    "- The original_1.csv has a set of target values from _desc file. This is combined with the trainset as train2 dataset here.\n",
    "\n",
    "Further notes:-\n",
    "- train1a and train2a are further skimmed down with dropped duplicates looking at only the features columns only.\n",
    "- The same is applied to train1b and train2b, with dropping duplicates looking at feature columns and EC1+EC2 columns.\n",
    "- This means that in the duplicated rows, same set of features results in different target values.\n"
   ]
  },
  {
   "cell_type": "markdown",
   "id": "cbbd2207",
   "metadata": {
    "papermill": {
     "duration": 0.004073,
     "end_time": "2023-07-04T08:42:25.304320",
     "exception": false,
     "start_time": "2023-07-04T08:42:25.300247",
     "status": "completed"
    },
    "tags": []
   },
   "source": [
    "# Modelling the problem\n",
    "\n",
    "There are two general approaches here:\n",
    "1. To treat the two targets separately with two separate models to make the best of each models.\n",
    "2. To use a wrapper such as MultiOutputClassifer from sk.learn package to predict them together in one model.\n",
    "\n",
    "In such binary classification problem, the following are some popular modelling implementations:\n",
    "1. RandomForestClassifier\n",
    "2. KNeighborsClassifier\n",
    "3. ExtraTreesClassifier\n",
    "4. LogisticRegression\n",
    "5. BaggingClassifier with LogisticRegression\n",
    "6. LGBMClassifier\n",
    "7. XGBClassifier\n",
    "8. CatBoostClassfier\n"
   ]
  },
  {
   "cell_type": "markdown",
   "id": "093c2c89",
   "metadata": {
    "papermill": {
     "duration": 0.00408,
     "end_time": "2023-07-04T08:42:25.312664",
     "exception": false,
     "start_time": "2023-07-04T08:42:25.308584",
     "status": "completed"
    },
    "tags": []
   },
   "source": [
    "# Perform train-test split"
   ]
  },
  {
   "cell_type": "code",
   "execution_count": 3,
   "id": "28493fc5",
   "metadata": {
    "execution": {
     "iopub.execute_input": "2023-07-04T08:42:25.323066Z",
     "iopub.status.busy": "2023-07-04T08:42:25.322658Z",
     "iopub.status.idle": "2023-07-04T08:42:25.340671Z",
     "shell.execute_reply": "2023-07-04T08:42:25.339433Z"
    },
    "papermill": {
     "duration": 0.026525,
     "end_time": "2023-07-04T08:42:25.343387",
     "exception": false,
     "start_time": "2023-07-04T08:42:25.316862",
     "status": "completed"
    },
    "tags": []
   },
   "outputs": [],
   "source": [
    "X = train[features]\n",
    "y1 = train['EC1']\n",
    "y2 = train['EC2']\n",
    "X_train1, X_valid1, y_train1, y_valid1 = train_test_split(X,y1,train_size=0.8,test_size=0.2,random_state=42)\n",
    "X_train2, X_valid2, y_train2, y_valid2 = train_test_split(X,y2,train_size=0.8,test_size=0.2,random_state=42)"
   ]
  },
  {
   "cell_type": "markdown",
   "id": "a600443d",
   "metadata": {
    "papermill": {
     "duration": 0.004356,
     "end_time": "2023-07-04T08:42:25.352520",
     "exception": false,
     "start_time": "2023-07-04T08:42:25.348164",
     "status": "completed"
    },
    "tags": []
   },
   "source": [
    "# Perform Optuna's Optimazation"
   ]
  },
  {
   "cell_type": "markdown",
   "id": "1eda9713",
   "metadata": {
    "execution": {
     "iopub.execute_input": "2023-07-04T08:38:17.875218Z",
     "iopub.status.busy": "2023-07-04T08:38:17.874769Z",
     "iopub.status.idle": "2023-07-04T08:38:17.880715Z",
     "shell.execute_reply": "2023-07-04T08:38:17.879675Z",
     "shell.execute_reply.started": "2023-07-04T08:38:17.875177Z"
    },
    "papermill": {
     "duration": 0.005798,
     "end_time": "2023-07-04T08:42:25.363070",
     "exception": false,
     "start_time": "2023-07-04T08:42:25.357272",
     "status": "completed"
    },
    "tags": []
   },
   "source": [
    "# 1. RandomForestClassifier"
   ]
  },
  {
   "cell_type": "code",
   "execution_count": 4,
   "id": "105df368",
   "metadata": {
    "execution": {
     "iopub.execute_input": "2023-07-04T08:42:25.373826Z",
     "iopub.status.busy": "2023-07-04T08:42:25.373451Z",
     "iopub.status.idle": "2023-07-04T08:42:25.382255Z",
     "shell.execute_reply": "2023-07-04T08:42:25.381206Z"
    },
    "papermill": {
     "duration": 0.016956,
     "end_time": "2023-07-04T08:42:25.384504",
     "exception": false,
     "start_time": "2023-07-04T08:42:25.367548",
     "status": "completed"
    },
    "tags": []
   },
   "outputs": [],
   "source": [
    "def rfc_objective1(trial):\n",
    "    n_estimators = trial.suggest_int(\"n_estimators\", 100, 1000)\n",
    "    min_samples_leaf = trial.suggest_int(\"min_samples_leaf\",1, 200)\n",
    "    \n",
    "    model = RandomForestClassifier(n_estimators=n_estimators,\n",
    "                                   min_samples_leaf=min_samples_leaf,\n",
    "                                   random_state=42)\n",
    "    model.fit(X_train1,y_train1)\n",
    "    y_pred = model.predict_proba(X_valid1)[:,1]\n",
    "    auc = roc_auc_score(y_valid1,y_pred)\n",
    "    return auc\n",
    "\n",
    "def rfc_objective2(trial):\n",
    "    n_estimators = trial.suggest_int(\"n_estimators\", 100, 1000)\n",
    "    min_samples_leaf = trial.suggest_int(\"min_samples_leaf\",1, 200)\n",
    "    \n",
    "    model = RandomForestClassifier(n_estimators=n_estimators,\n",
    "                                   min_samples_leaf=min_samples_leaf,\n",
    "                                   random_state=42)\n",
    "    model.fit(X_train2,y_train2)\n",
    "    y_pred = model.predict_proba(X_valid2)[:,1]\n",
    "    auc = roc_auc_score(y_valid2,y_pred)\n",
    "    return auc"
   ]
  },
  {
   "cell_type": "code",
   "execution_count": 5,
   "id": "035d3735",
   "metadata": {
    "collapsed": true,
    "execution": {
     "iopub.execute_input": "2023-07-04T08:42:25.395932Z",
     "iopub.status.busy": "2023-07-04T08:42:25.395054Z",
     "iopub.status.idle": "2023-07-04T09:09:13.792094Z",
     "shell.execute_reply": "2023-07-04T09:09:13.790933Z"
    },
    "jupyter": {
     "outputs_hidden": true
    },
    "papermill": {
     "duration": 1608.412512,
     "end_time": "2023-07-04T09:09:13.801662",
     "exception": false,
     "start_time": "2023-07-04T08:42:25.389150",
     "status": "completed"
    },
    "tags": []
   },
   "outputs": [
    {
     "data": {
      "application/vnd.jupyter.widget-view+json": {
       "model_id": "90c3a02367ae48fe8e4988299b9d0679",
       "version_major": 2,
       "version_minor": 0
      },
      "text/plain": [
       "  0%|          | 0/100 [00:00<?, ?it/s]"
      ]
     },
     "metadata": {},
     "output_type": "display_data"
    },
    {
     "name": "stdout",
     "output_type": "stream",
     "text": [
      "Best scores for RandomForestClassifier from Optuna:0.7073370325564553\n",
      "Best parameters for RandomForestClassifier from Optuna:{'n_estimators': 616, 'min_samples_leaf': 87}\n",
      "CPU times: user 26min 45s, sys: 2.65 s, total: 26min 48s\n",
      "Wall time: 26min 48s\n"
     ]
    }
   ],
   "source": [
    "%%time\n",
    "rfc_1_study = optuna.create_study(direction=\"maximize\", sampler=sampler)\n",
    "rfc_1_study.optimize(rfc_objective1, n_trials=100, show_progress_bar=True)\n",
    "rfc_1_best_score = rfc_1_study.best_trial.value\n",
    "rfc_1_best_params = rfc_1_study.best_trial.params\n",
    "print(f\"Best scores for RandomForestClassifier from Optuna:{rfc_1_best_score}\")\n",
    "print(f\"Best parameters for RandomForestClassifier from Optuna:{rfc_1_best_params}\")\n"
   ]
  },
  {
   "cell_type": "code",
   "execution_count": 6,
   "id": "724a042c",
   "metadata": {
    "execution": {
     "iopub.execute_input": "2023-07-04T09:09:13.813115Z",
     "iopub.status.busy": "2023-07-04T09:09:13.812721Z",
     "iopub.status.idle": "2023-07-04T09:30:05.957873Z",
     "shell.execute_reply": "2023-07-04T09:30:05.956766Z"
    },
    "papermill": {
     "duration": 1252.162157,
     "end_time": "2023-07-04T09:30:05.968612",
     "exception": false,
     "start_time": "2023-07-04T09:09:13.806455",
     "status": "completed"
    },
    "tags": []
   },
   "outputs": [
    {
     "data": {
      "application/vnd.jupyter.widget-view+json": {
       "model_id": "a783844a5eee4321bb08719cb5d3901f",
       "version_major": 2,
       "version_minor": 0
      },
      "text/plain": [
       "  0%|          | 0/100 [00:00<?, ?it/s]"
      ]
     },
     "metadata": {},
     "output_type": "display_data"
    },
    {
     "name": "stdout",
     "output_type": "stream",
     "text": [
      "Best scores for RandomForestClassifier from Optuna:0.6007871185446009\n",
      "Best parameters for RandomForestClassifier from Optuna:{'n_estimators': 577, 'min_samples_leaf': 199}\n",
      "CPU times: user 20min 49s, sys: 2.22 s, total: 20min 52s\n",
      "Wall time: 20min 52s\n"
     ]
    }
   ],
   "source": [
    "%%time\n",
    "rfc_2_study = optuna.create_study(direction=\"maximize\", sampler=sampler)\n",
    "rfc_2_study.optimize(rfc_objective2, n_trials=100, show_progress_bar=True)\n",
    "rfc_2_best_score = rfc_2_study.best_trial.value\n",
    "rfc_2_best_params = rfc_2_study.best_trial.params\n",
    "print(f\"Best scores for RandomForestClassifier from Optuna:{rfc_2_best_score}\")\n",
    "print(f\"Best parameters for RandomForestClassifier from Optuna:{rfc_2_best_params}\")\n"
   ]
  }
 ],
 "metadata": {
  "kernelspec": {
   "display_name": "Python 3",
   "language": "python",
   "name": "python3"
  },
  "language_info": {
   "codemirror_mode": {
    "name": "ipython",
    "version": 3
   },
   "file_extension": ".py",
   "mimetype": "text/x-python",
   "name": "python",
   "nbconvert_exporter": "python",
   "pygments_lexer": "ipython3",
   "version": "3.10.10"
  },
  "papermill": {
   "default_parameters": {},
   "duration": 2876.488267,
   "end_time": "2023-07-04T09:30:07.106895",
   "environment_variables": {},
   "exception": null,
   "input_path": "__notebook__.ipynb",
   "output_path": "__notebook__.ipynb",
   "parameters": {},
   "start_time": "2023-07-04T08:42:10.618628",
   "version": "2.4.0"
  },
  "widgets": {
   "application/vnd.jupyter.widget-state+json": {
    "state": {
     "01b7cf642f8f44e78b845f8a9cea178a": {
      "model_module": "@jupyter-widgets/base",
      "model_module_version": "1.2.0",
      "model_name": "LayoutModel",
      "state": {
       "_model_module": "@jupyter-widgets/base",
       "_model_module_version": "1.2.0",
       "_model_name": "LayoutModel",
       "_view_count": null,
       "_view_module": "@jupyter-widgets/base",
       "_view_module_version": "1.2.0",
       "_view_name": "LayoutView",
       "align_content": null,
       "align_items": null,
       "align_self": null,
       "border": null,
       "bottom": null,
       "display": null,
       "flex": null,
       "flex_flow": null,
       "grid_area": null,
       "grid_auto_columns": null,
       "grid_auto_flow": null,
       "grid_auto_rows": null,
       "grid_column": null,
       "grid_gap": null,
       "grid_row": null,
       "grid_template_areas": null,
       "grid_template_columns": null,
       "grid_template_rows": null,
       "height": null,
       "justify_content": null,
       "justify_items": null,
       "left": null,
       "margin": null,
       "max_height": null,
       "max_width": null,
       "min_height": null,
       "min_width": null,
       "object_fit": null,
       "object_position": null,
       "order": null,
       "overflow": null,
       "overflow_x": null,
       "overflow_y": null,
       "padding": null,
       "right": null,
       "top": null,
       "visibility": null,
       "width": null
      }
     },
     "04105568b7ae43cca242b097a18e11bc": {
      "model_module": "@jupyter-widgets/controls",
      "model_module_version": "1.5.0",
      "model_name": "HTMLModel",
      "state": {
       "_dom_classes": [],
       "_model_module": "@jupyter-widgets/controls",
       "_model_module_version": "1.5.0",
       "_model_name": "HTMLModel",
       "_view_count": null,
       "_view_module": "@jupyter-widgets/controls",
       "_view_module_version": "1.5.0",
       "_view_name": "HTMLView",
       "description": "",
       "description_tooltip": null,
       "layout": "IPY_MODEL_a42ab4852d7147829502584095ef8be8",
       "placeholder": "​",
       "style": "IPY_MODEL_edda1b308c4e4022950954af21ab4f66",
       "value": " 100/100 [20:52&lt;00:00, 13.94s/it]"
      }
     },
     "1a6cfe29c9ea458ea77338e0fd97e2bb": {
      "model_module": "@jupyter-widgets/controls",
      "model_module_version": "1.5.0",
      "model_name": "HTMLModel",
      "state": {
       "_dom_classes": [],
       "_model_module": "@jupyter-widgets/controls",
       "_model_module_version": "1.5.0",
       "_model_name": "HTMLModel",
       "_view_count": null,
       "_view_module": "@jupyter-widgets/controls",
       "_view_module_version": "1.5.0",
       "_view_name": "HTMLView",
       "description": "",
       "description_tooltip": null,
       "layout": "IPY_MODEL_5e1e6e36fd3249ae923068068e638965",
       "placeholder": "​",
       "style": "IPY_MODEL_90c04bd465144294b1a111bb61a27032",
       "value": "Best trial: 26. Best value: 0.600787: 100%"
      }
     },
     "39ef48a6758a42b9a1ed2378982f3135": {
      "model_module": "@jupyter-widgets/controls",
      "model_module_version": "1.5.0",
      "model_name": "FloatProgressModel",
      "state": {
       "_dom_classes": [],
       "_model_module": "@jupyter-widgets/controls",
       "_model_module_version": "1.5.0",
       "_model_name": "FloatProgressModel",
       "_view_count": null,
       "_view_module": "@jupyter-widgets/controls",
       "_view_module_version": "1.5.0",
       "_view_name": "ProgressView",
       "bar_style": "success",
       "description": "",
       "description_tooltip": null,
       "layout": "IPY_MODEL_affd9d0b5adb42018d3ec990a3768a4f",
       "max": 100.0,
       "min": 0.0,
       "orientation": "horizontal",
       "style": "IPY_MODEL_fd8d490f9b6a41fcba2c65dc7bdfa558",
       "value": 100.0
      }
     },
     "5e1e6e36fd3249ae923068068e638965": {
      "model_module": "@jupyter-widgets/base",
      "model_module_version": "1.2.0",
      "model_name": "LayoutModel",
      "state": {
       "_model_module": "@jupyter-widgets/base",
       "_model_module_version": "1.2.0",
       "_model_name": "LayoutModel",
       "_view_count": null,
       "_view_module": "@jupyter-widgets/base",
       "_view_module_version": "1.2.0",
       "_view_name": "LayoutView",
       "align_content": null,
       "align_items": null,
       "align_self": null,
       "border": null,
       "bottom": null,
       "display": null,
       "flex": null,
       "flex_flow": null,
       "grid_area": null,
       "grid_auto_columns": null,
       "grid_auto_flow": null,
       "grid_auto_rows": null,
       "grid_column": null,
       "grid_gap": null,
       "grid_row": null,
       "grid_template_areas": null,
       "grid_template_columns": null,
       "grid_template_rows": null,
       "height": null,
       "justify_content": null,
       "justify_items": null,
       "left": null,
       "margin": null,
       "max_height": null,
       "max_width": null,
       "min_height": null,
       "min_width": null,
       "object_fit": null,
       "object_position": null,
       "order": null,
       "overflow": null,
       "overflow_x": null,
       "overflow_y": null,
       "padding": null,
       "right": null,
       "top": null,
       "visibility": null,
       "width": null
      }
     },
     "619094a662fd415f947ed38e0ffbac93": {
      "model_module": "@jupyter-widgets/controls",
      "model_module_version": "1.5.0",
      "model_name": "DescriptionStyleModel",
      "state": {
       "_model_module": "@jupyter-widgets/controls",
       "_model_module_version": "1.5.0",
       "_model_name": "DescriptionStyleModel",
       "_view_count": null,
       "_view_module": "@jupyter-widgets/base",
       "_view_module_version": "1.2.0",
       "_view_name": "StyleView",
       "description_width": ""
      }
     },
     "8e9aca55d86245ccb1fd7aaa7a777033": {
      "model_module": "@jupyter-widgets/controls",
      "model_module_version": "1.5.0",
      "model_name": "ProgressStyleModel",
      "state": {
       "_model_module": "@jupyter-widgets/controls",
       "_model_module_version": "1.5.0",
       "_model_name": "ProgressStyleModel",
       "_view_count": null,
       "_view_module": "@jupyter-widgets/base",
       "_view_module_version": "1.2.0",
       "_view_name": "StyleView",
       "bar_color": null,
       "description_width": ""
      }
     },
     "90c04bd465144294b1a111bb61a27032": {
      "model_module": "@jupyter-widgets/controls",
      "model_module_version": "1.5.0",
      "model_name": "DescriptionStyleModel",
      "state": {
       "_model_module": "@jupyter-widgets/controls",
       "_model_module_version": "1.5.0",
       "_model_name": "DescriptionStyleModel",
       "_view_count": null,
       "_view_module": "@jupyter-widgets/base",
       "_view_module_version": "1.2.0",
       "_view_name": "StyleView",
       "description_width": ""
      }
     },
     "90c3a02367ae48fe8e4988299b9d0679": {
      "model_module": "@jupyter-widgets/controls",
      "model_module_version": "1.5.0",
      "model_name": "HBoxModel",
      "state": {
       "_dom_classes": [],
       "_model_module": "@jupyter-widgets/controls",
       "_model_module_version": "1.5.0",
       "_model_name": "HBoxModel",
       "_view_count": null,
       "_view_module": "@jupyter-widgets/controls",
       "_view_module_version": "1.5.0",
       "_view_name": "HBoxView",
       "box_style": "",
       "children": [
        "IPY_MODEL_e4a1106019ea49b3acfbad4b5c43514a",
        "IPY_MODEL_caa95fdeaaab4059861e336d14e60875",
        "IPY_MODEL_cb5b372d5f104727ab6212fc6b6fc378"
       ],
       "layout": "IPY_MODEL_a0bae1b9aa544b5fafd8379f71c9788a"
      }
     },
     "a0bae1b9aa544b5fafd8379f71c9788a": {
      "model_module": "@jupyter-widgets/base",
      "model_module_version": "1.2.0",
      "model_name": "LayoutModel",
      "state": {
       "_model_module": "@jupyter-widgets/base",
       "_model_module_version": "1.2.0",
       "_model_name": "LayoutModel",
       "_view_count": null,
       "_view_module": "@jupyter-widgets/base",
       "_view_module_version": "1.2.0",
       "_view_name": "LayoutView",
       "align_content": null,
       "align_items": null,
       "align_self": null,
       "border": null,
       "bottom": null,
       "display": null,
       "flex": null,
       "flex_flow": null,
       "grid_area": null,
       "grid_auto_columns": null,
       "grid_auto_flow": null,
       "grid_auto_rows": null,
       "grid_column": null,
       "grid_gap": null,
       "grid_row": null,
       "grid_template_areas": null,
       "grid_template_columns": null,
       "grid_template_rows": null,
       "height": null,
       "justify_content": null,
       "justify_items": null,
       "left": null,
       "margin": null,
       "max_height": null,
       "max_width": null,
       "min_height": null,
       "min_width": null,
       "object_fit": null,
       "object_position": null,
       "order": null,
       "overflow": null,
       "overflow_x": null,
       "overflow_y": null,
       "padding": null,
       "right": null,
       "top": null,
       "visibility": null,
       "width": null
      }
     },
     "a42ab4852d7147829502584095ef8be8": {
      "model_module": "@jupyter-widgets/base",
      "model_module_version": "1.2.0",
      "model_name": "LayoutModel",
      "state": {
       "_model_module": "@jupyter-widgets/base",
       "_model_module_version": "1.2.0",
       "_model_name": "LayoutModel",
       "_view_count": null,
       "_view_module": "@jupyter-widgets/base",
       "_view_module_version": "1.2.0",
       "_view_name": "LayoutView",
       "align_content": null,
       "align_items": null,
       "align_self": null,
       "border": null,
       "bottom": null,
       "display": null,
       "flex": null,
       "flex_flow": null,
       "grid_area": null,
       "grid_auto_columns": null,
       "grid_auto_flow": null,
       "grid_auto_rows": null,
       "grid_column": null,
       "grid_gap": null,
       "grid_row": null,
       "grid_template_areas": null,
       "grid_template_columns": null,
       "grid_template_rows": null,
       "height": null,
       "justify_content": null,
       "justify_items": null,
       "left": null,
       "margin": null,
       "max_height": null,
       "max_width": null,
       "min_height": null,
       "min_width": null,
       "object_fit": null,
       "object_position": null,
       "order": null,
       "overflow": null,
       "overflow_x": null,
       "overflow_y": null,
       "padding": null,
       "right": null,
       "top": null,
       "visibility": null,
       "width": null
      }
     },
     "a783844a5eee4321bb08719cb5d3901f": {
      "model_module": "@jupyter-widgets/controls",
      "model_module_version": "1.5.0",
      "model_name": "HBoxModel",
      "state": {
       "_dom_classes": [],
       "_model_module": "@jupyter-widgets/controls",
       "_model_module_version": "1.5.0",
       "_model_name": "HBoxModel",
       "_view_count": null,
       "_view_module": "@jupyter-widgets/controls",
       "_view_module_version": "1.5.0",
       "_view_name": "HBoxView",
       "box_style": "",
       "children": [
        "IPY_MODEL_1a6cfe29c9ea458ea77338e0fd97e2bb",
        "IPY_MODEL_39ef48a6758a42b9a1ed2378982f3135",
        "IPY_MODEL_04105568b7ae43cca242b097a18e11bc"
       ],
       "layout": "IPY_MODEL_01b7cf642f8f44e78b845f8a9cea178a"
      }
     },
     "affd9d0b5adb42018d3ec990a3768a4f": {
      "model_module": "@jupyter-widgets/base",
      "model_module_version": "1.2.0",
      "model_name": "LayoutModel",
      "state": {
       "_model_module": "@jupyter-widgets/base",
       "_model_module_version": "1.2.0",
       "_model_name": "LayoutModel",
       "_view_count": null,
       "_view_module": "@jupyter-widgets/base",
       "_view_module_version": "1.2.0",
       "_view_name": "LayoutView",
       "align_content": null,
       "align_items": null,
       "align_self": null,
       "border": null,
       "bottom": null,
       "display": null,
       "flex": null,
       "flex_flow": null,
       "grid_area": null,
       "grid_auto_columns": null,
       "grid_auto_flow": null,
       "grid_auto_rows": null,
       "grid_column": null,
       "grid_gap": null,
       "grid_row": null,
       "grid_template_areas": null,
       "grid_template_columns": null,
       "grid_template_rows": null,
       "height": null,
       "justify_content": null,
       "justify_items": null,
       "left": null,
       "margin": null,
       "max_height": null,
       "max_width": null,
       "min_height": null,
       "min_width": null,
       "object_fit": null,
       "object_position": null,
       "order": null,
       "overflow": null,
       "overflow_x": null,
       "overflow_y": null,
       "padding": null,
       "right": null,
       "top": null,
       "visibility": null,
       "width": null
      }
     },
     "b9c2bb5d47cb4309858dd9cb29a8ca6a": {
      "model_module": "@jupyter-widgets/controls",
      "model_module_version": "1.5.0",
      "model_name": "DescriptionStyleModel",
      "state": {
       "_model_module": "@jupyter-widgets/controls",
       "_model_module_version": "1.5.0",
       "_model_name": "DescriptionStyleModel",
       "_view_count": null,
       "_view_module": "@jupyter-widgets/base",
       "_view_module_version": "1.2.0",
       "_view_name": "StyleView",
       "description_width": ""
      }
     },
     "c392cbb577ef448a83fcaa0c754a45eb": {
      "model_module": "@jupyter-widgets/base",
      "model_module_version": "1.2.0",
      "model_name": "LayoutModel",
      "state": {
       "_model_module": "@jupyter-widgets/base",
       "_model_module_version": "1.2.0",
       "_model_name": "LayoutModel",
       "_view_count": null,
       "_view_module": "@jupyter-widgets/base",
       "_view_module_version": "1.2.0",
       "_view_name": "LayoutView",
       "align_content": null,
       "align_items": null,
       "align_self": null,
       "border": null,
       "bottom": null,
       "display": null,
       "flex": null,
       "flex_flow": null,
       "grid_area": null,
       "grid_auto_columns": null,
       "grid_auto_flow": null,
       "grid_auto_rows": null,
       "grid_column": null,
       "grid_gap": null,
       "grid_row": null,
       "grid_template_areas": null,
       "grid_template_columns": null,
       "grid_template_rows": null,
       "height": null,
       "justify_content": null,
       "justify_items": null,
       "left": null,
       "margin": null,
       "max_height": null,
       "max_width": null,
       "min_height": null,
       "min_width": null,
       "object_fit": null,
       "object_position": null,
       "order": null,
       "overflow": null,
       "overflow_x": null,
       "overflow_y": null,
       "padding": null,
       "right": null,
       "top": null,
       "visibility": null,
       "width": null
      }
     },
     "caa95fdeaaab4059861e336d14e60875": {
      "model_module": "@jupyter-widgets/controls",
      "model_module_version": "1.5.0",
      "model_name": "FloatProgressModel",
      "state": {
       "_dom_classes": [],
       "_model_module": "@jupyter-widgets/controls",
       "_model_module_version": "1.5.0",
       "_model_name": "FloatProgressModel",
       "_view_count": null,
       "_view_module": "@jupyter-widgets/controls",
       "_view_module_version": "1.5.0",
       "_view_name": "ProgressView",
       "bar_style": "success",
       "description": "",
       "description_tooltip": null,
       "layout": "IPY_MODEL_f708b832315e4412bdeea57138e13fe7",
       "max": 100.0,
       "min": 0.0,
       "orientation": "horizontal",
       "style": "IPY_MODEL_8e9aca55d86245ccb1fd7aaa7a777033",
       "value": 100.0
      }
     },
     "cb5b372d5f104727ab6212fc6b6fc378": {
      "model_module": "@jupyter-widgets/controls",
      "model_module_version": "1.5.0",
      "model_name": "HTMLModel",
      "state": {
       "_dom_classes": [],
       "_model_module": "@jupyter-widgets/controls",
       "_model_module_version": "1.5.0",
       "_model_name": "HTMLModel",
       "_view_count": null,
       "_view_module": "@jupyter-widgets/controls",
       "_view_module_version": "1.5.0",
       "_view_name": "HTMLView",
       "description": "",
       "description_tooltip": null,
       "layout": "IPY_MODEL_c392cbb577ef448a83fcaa0c754a45eb",
       "placeholder": "​",
       "style": "IPY_MODEL_b9c2bb5d47cb4309858dd9cb29a8ca6a",
       "value": " 100/100 [26:48&lt;00:00, 16.94s/it]"
      }
     },
     "df9d3d69ecda4c85a720c9ea30c9b12b": {
      "model_module": "@jupyter-widgets/base",
      "model_module_version": "1.2.0",
      "model_name": "LayoutModel",
      "state": {
       "_model_module": "@jupyter-widgets/base",
       "_model_module_version": "1.2.0",
       "_model_name": "LayoutModel",
       "_view_count": null,
       "_view_module": "@jupyter-widgets/base",
       "_view_module_version": "1.2.0",
       "_view_name": "LayoutView",
       "align_content": null,
       "align_items": null,
       "align_self": null,
       "border": null,
       "bottom": null,
       "display": null,
       "flex": null,
       "flex_flow": null,
       "grid_area": null,
       "grid_auto_columns": null,
       "grid_auto_flow": null,
       "grid_auto_rows": null,
       "grid_column": null,
       "grid_gap": null,
       "grid_row": null,
       "grid_template_areas": null,
       "grid_template_columns": null,
       "grid_template_rows": null,
       "height": null,
       "justify_content": null,
       "justify_items": null,
       "left": null,
       "margin": null,
       "max_height": null,
       "max_width": null,
       "min_height": null,
       "min_width": null,
       "object_fit": null,
       "object_position": null,
       "order": null,
       "overflow": null,
       "overflow_x": null,
       "overflow_y": null,
       "padding": null,
       "right": null,
       "top": null,
       "visibility": null,
       "width": null
      }
     },
     "e4a1106019ea49b3acfbad4b5c43514a": {
      "model_module": "@jupyter-widgets/controls",
      "model_module_version": "1.5.0",
      "model_name": "HTMLModel",
      "state": {
       "_dom_classes": [],
       "_model_module": "@jupyter-widgets/controls",
       "_model_module_version": "1.5.0",
       "_model_name": "HTMLModel",
       "_view_count": null,
       "_view_module": "@jupyter-widgets/controls",
       "_view_module_version": "1.5.0",
       "_view_name": "HTMLView",
       "description": "",
       "description_tooltip": null,
       "layout": "IPY_MODEL_df9d3d69ecda4c85a720c9ea30c9b12b",
       "placeholder": "​",
       "style": "IPY_MODEL_619094a662fd415f947ed38e0ffbac93",
       "value": "Best trial: 69. Best value: 0.707337: 100%"
      }
     },
     "edda1b308c4e4022950954af21ab4f66": {
      "model_module": "@jupyter-widgets/controls",
      "model_module_version": "1.5.0",
      "model_name": "DescriptionStyleModel",
      "state": {
       "_model_module": "@jupyter-widgets/controls",
       "_model_module_version": "1.5.0",
       "_model_name": "DescriptionStyleModel",
       "_view_count": null,
       "_view_module": "@jupyter-widgets/base",
       "_view_module_version": "1.2.0",
       "_view_name": "StyleView",
       "description_width": ""
      }
     },
     "f708b832315e4412bdeea57138e13fe7": {
      "model_module": "@jupyter-widgets/base",
      "model_module_version": "1.2.0",
      "model_name": "LayoutModel",
      "state": {
       "_model_module": "@jupyter-widgets/base",
       "_model_module_version": "1.2.0",
       "_model_name": "LayoutModel",
       "_view_count": null,
       "_view_module": "@jupyter-widgets/base",
       "_view_module_version": "1.2.0",
       "_view_name": "LayoutView",
       "align_content": null,
       "align_items": null,
       "align_self": null,
       "border": null,
       "bottom": null,
       "display": null,
       "flex": null,
       "flex_flow": null,
       "grid_area": null,
       "grid_auto_columns": null,
       "grid_auto_flow": null,
       "grid_auto_rows": null,
       "grid_column": null,
       "grid_gap": null,
       "grid_row": null,
       "grid_template_areas": null,
       "grid_template_columns": null,
       "grid_template_rows": null,
       "height": null,
       "justify_content": null,
       "justify_items": null,
       "left": null,
       "margin": null,
       "max_height": null,
       "max_width": null,
       "min_height": null,
       "min_width": null,
       "object_fit": null,
       "object_position": null,
       "order": null,
       "overflow": null,
       "overflow_x": null,
       "overflow_y": null,
       "padding": null,
       "right": null,
       "top": null,
       "visibility": null,
       "width": null
      }
     },
     "fd8d490f9b6a41fcba2c65dc7bdfa558": {
      "model_module": "@jupyter-widgets/controls",
      "model_module_version": "1.5.0",
      "model_name": "ProgressStyleModel",
      "state": {
       "_model_module": "@jupyter-widgets/controls",
       "_model_module_version": "1.5.0",
       "_model_name": "ProgressStyleModel",
       "_view_count": null,
       "_view_module": "@jupyter-widgets/base",
       "_view_module_version": "1.2.0",
       "_view_name": "StyleView",
       "bar_color": null,
       "description_width": ""
      }
     }
    },
    "version_major": 2,
    "version_minor": 0
   }
  }
 },
 "nbformat": 4,
 "nbformat_minor": 5
}
