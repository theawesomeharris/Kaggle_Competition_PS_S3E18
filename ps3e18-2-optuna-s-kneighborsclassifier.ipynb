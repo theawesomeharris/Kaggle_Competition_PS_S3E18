{
 "cells": [
  {
   "cell_type": "markdown",
   "id": "6ab25839",
   "metadata": {
    "papermill": {
     "duration": 0.005414,
     "end_time": "2023-07-04T08:57:16.088231",
     "exception": false,
     "start_time": "2023-07-04T08:57:16.082817",
     "status": "completed"
    },
    "tags": []
   },
   "source": [
    "# Getting started\n"
   ]
  },
  {
   "cell_type": "code",
   "execution_count": 1,
   "id": "75ea70cc",
   "metadata": {
    "_cell_guid": "b1076dfc-b9ad-4769-8c92-a6c4dae69d19",
    "_uuid": "8f2839f25d086af736a60e9eeb907d3b93b6e0e5",
    "execution": {
     "iopub.execute_input": "2023-07-04T08:57:16.098547Z",
     "iopub.status.busy": "2023-07-04T08:57:16.098093Z",
     "iopub.status.idle": "2023-07-04T08:57:18.868134Z",
     "shell.execute_reply": "2023-07-04T08:57:18.866953Z"
    },
    "papermill": {
     "duration": 2.777924,
     "end_time": "2023-07-04T08:57:18.870793",
     "exception": false,
     "start_time": "2023-07-04T08:57:16.092869",
     "status": "completed"
    },
    "tags": []
   },
   "outputs": [],
   "source": [
    "import warnings\n",
    "warnings.filterwarnings('ignore')\n",
    "\n",
    "import pandas as pd\n",
    "pd.set_option('display.max_columns', None)\n",
    "import numpy as np\n",
    "import scipy\n",
    "\n",
    "import matplotlib.pyplot as plt\n",
    "%matplotlib inline\n",
    "import seaborn as sns\n",
    "sns.set()\n",
    "\n",
    "from sklearn.preprocessing import StandardScaler, FunctionTransformer, PolynomialFeatures\n",
    "from sklearn.decomposition import PCA\n",
    "from sklearn.model_selection import StratifiedKFold, RepeatedStratifiedKFold, cross_val_score, cross_val_predict, cross_validate, train_test_split\n",
    "from sklearn.ensemble import RandomForestClassifier, ExtraTreesClassifier, VotingClassifier, HistGradientBoostingClassifier, BaggingClassifier\n",
    "from sklearn.linear_model import LogisticRegression\n",
    "from sklearn.svm import SVC, LinearSVC\n",
    "from sklearn.pipeline import make_pipeline, Pipeline\n",
    "from sklearn.compose import ColumnTransformer\n",
    "from sklearn.neighbors import KNeighborsClassifier\n",
    "from sklearn.metrics import roc_auc_score\n",
    "\n",
    "import optuna\n",
    "from optuna.samplers import TPESampler\n",
    "# Set the log level for the optuna package to WARNING\n",
    "optuna.logging.set_verbosity(optuna.logging.WARNING)\n",
    "# Run Optuna optimization for each model\n",
    "sampler = TPESampler(seed=42)\n"
   ]
  },
  {
   "cell_type": "code",
   "execution_count": 2,
   "id": "30f2d44b",
   "metadata": {
    "execution": {
     "iopub.execute_input": "2023-07-04T08:57:18.879556Z",
     "iopub.status.busy": "2023-07-04T08:57:18.879108Z",
     "iopub.status.idle": "2023-07-04T08:57:19.433742Z",
     "shell.execute_reply": "2023-07-04T08:57:19.432482Z"
    },
    "papermill": {
     "duration": 0.561936,
     "end_time": "2023-07-04T08:57:19.436246",
     "exception": false,
     "start_time": "2023-07-04T08:57:18.874310",
     "status": "completed"
    },
    "tags": []
   },
   "outputs": [
    {
     "data": {
      "text/plain": [
       "((14838, 37),\n",
       " (15859, 37),\n",
       " (15769, 31),\n",
       " (15826, 33),\n",
       " (15841, 37),\n",
       " (15769, 31),\n",
       " (15805, 33))"
      ]
     },
     "execution_count": 2,
     "metadata": {},
     "output_type": "execute_result"
    }
   ],
   "source": [
    "path1 = \"/kaggle/input/playground-series-s3e18/\"\n",
    "path2 = \"/kaggle/input/multi-label-classification-of-enzyme-substrates/\"\n",
    "\n",
    "sample = pd.read_csv(path1+\"sample_submission.csv\")\n",
    "train = pd.read_csv(path1+\"train.csv\",index_col='id')\n",
    "test = pd.read_csv(path1+\"test.csv\",index_col='id')\n",
    "original = pd.read_csv(path2+\"original.csv\",index_col='id')\n",
    "original_1 = pd.read_csv(path2+\"original_1.csv\",index_col='id')\n",
    "\n",
    "id_test = test.index # id column required for submission file\n",
    "targets = ['EC1', 'EC2']\n",
    "features = [f for f in test.columns if not f.startswith('EC')]\n",
    "features_EC1EC2 = features + ['EC1', 'EC2']\n",
    "\n",
    "# Combine playground dataset and synthetic dataset generated\n",
    "train1 = pd.concat([train,original]).drop_duplicates().reset_index(drop=True)\n",
    "train2 = pd.concat([train,original_1]).drop_duplicates().reset_index(drop=True)\n",
    "\n",
    "train1a = train1[features].drop_duplicates().reset_index(drop=True)\n",
    "train2a = train2[features].drop_duplicates().reset_index(drop=True)\n",
    "\n",
    "train1b = train1[features_EC1EC2].drop_duplicates().reset_index(drop=True)\n",
    "train2b = train2[features_EC1EC2].drop_duplicates().reset_index(drop=True)\n",
    "\n",
    "train.shape, train1.shape, train1a.shape, train1b.shape, train2.shape, train2a.shape, train2b.shape"
   ]
  },
  {
   "cell_type": "markdown",
   "id": "951d848a",
   "metadata": {
    "papermill": {
     "duration": 0.00323,
     "end_time": "2023-07-04T08:57:19.443065",
     "exception": false,
     "start_time": "2023-07-04T08:57:19.439835",
     "status": "completed"
    },
    "tags": []
   },
   "source": [
    "Notes:-  \n",
    "- The original dataset has multiple files with different target (EC1~EC6) values.\n",
    "- The original.csv has a set of target values from _ecfp file. This is combined with the trainset as train1 dataset here.\n",
    "- The original_1.csv has a set of target values from _desc file. This is combined with the trainset as train2 dataset here.\n",
    "\n",
    "Further notes:-\n",
    "- train1a and train2a are further skimmed down with dropped duplicates looking at only the features columns only.\n",
    "- The same is applied to train1b and train2b, with dropping duplicates looking at feature columns and EC1+EC2 columns.\n",
    "- This means that in the duplicated rows, same set of features results in different target values.\n"
   ]
  },
  {
   "cell_type": "markdown",
   "id": "f69ca762",
   "metadata": {
    "papermill": {
     "duration": 0.003145,
     "end_time": "2023-07-04T08:57:19.449683",
     "exception": false,
     "start_time": "2023-07-04T08:57:19.446538",
     "status": "completed"
    },
    "tags": []
   },
   "source": [
    "# Modelling the problem\n",
    "\n",
    "There are two general approaches here:\n",
    "1. To treat the two targets separately with two separate models to make the best of each models.\n",
    "2. To use a wrapper such as MultiOutputClassifer from sk.learn package to predict them together in one model.\n",
    "\n",
    "In such binary classification problem, the following are some popular modelling implementations:\n",
    "1. RandomForestClassifier\n",
    "2. KNeighborsClassifier\n",
    "3. ExtraTreesClassifier\n",
    "4. LogisticRegression\n",
    "5. BaggingClassifier with LogisticRegression\n",
    "6. LGBMClassifier\n",
    "7. XGBClassifier\n",
    "8. CatBoostClassfier\n"
   ]
  },
  {
   "cell_type": "markdown",
   "id": "3dc336ee",
   "metadata": {
    "papermill": {
     "duration": 0.003211,
     "end_time": "2023-07-04T08:57:19.456288",
     "exception": false,
     "start_time": "2023-07-04T08:57:19.453077",
     "status": "completed"
    },
    "tags": []
   },
   "source": [
    "# Perform train-test split"
   ]
  },
  {
   "cell_type": "code",
   "execution_count": 3,
   "id": "5a33fbe6",
   "metadata": {
    "execution": {
     "iopub.execute_input": "2023-07-04T08:57:19.465050Z",
     "iopub.status.busy": "2023-07-04T08:57:19.464650Z",
     "iopub.status.idle": "2023-07-04T08:57:19.485740Z",
     "shell.execute_reply": "2023-07-04T08:57:19.484733Z"
    },
    "papermill": {
     "duration": 0.028759,
     "end_time": "2023-07-04T08:57:19.488432",
     "exception": false,
     "start_time": "2023-07-04T08:57:19.459673",
     "status": "completed"
    },
    "tags": []
   },
   "outputs": [],
   "source": [
    "X = train[features]\n",
    "y1 = train['EC1']\n",
    "y2 = train['EC2']\n",
    "X_train1, X_valid1, y_train1, y_valid1 = train_test_split(X,y1,train_size=0.8,test_size=0.2,random_state=42)\n",
    "X_train2, X_valid2, y_train2, y_valid2 = train_test_split(X,y2,train_size=0.8,test_size=0.2,random_state=42)"
   ]
  },
  {
   "cell_type": "markdown",
   "id": "a74d9a2b",
   "metadata": {
    "papermill": {
     "duration": 0.003239,
     "end_time": "2023-07-04T08:57:19.495281",
     "exception": false,
     "start_time": "2023-07-04T08:57:19.492042",
     "status": "completed"
    },
    "tags": []
   },
   "source": [
    "# Perform Optuna's Optimazation"
   ]
  },
  {
   "cell_type": "markdown",
   "id": "8ea344e3",
   "metadata": {
    "execution": {
     "iopub.execute_input": "2023-07-04T08:38:17.875218Z",
     "iopub.status.busy": "2023-07-04T08:38:17.874769Z",
     "iopub.status.idle": "2023-07-04T08:38:17.880715Z",
     "shell.execute_reply": "2023-07-04T08:38:17.879675Z",
     "shell.execute_reply.started": "2023-07-04T08:38:17.875177Z"
    },
    "papermill": {
     "duration": 0.005093,
     "end_time": "2023-07-04T08:57:19.503937",
     "exception": false,
     "start_time": "2023-07-04T08:57:19.498844",
     "status": "completed"
    },
    "tags": []
   },
   "source": [
    "# 2. KNeighborsClassifier"
   ]
  },
  {
   "cell_type": "code",
   "execution_count": 4,
   "id": "18629d56",
   "metadata": {
    "execution": {
     "iopub.execute_input": "2023-07-04T08:57:19.513468Z",
     "iopub.status.busy": "2023-07-04T08:57:19.512780Z",
     "iopub.status.idle": "2023-07-04T08:57:19.521474Z",
     "shell.execute_reply": "2023-07-04T08:57:19.520572Z"
    },
    "papermill": {
     "duration": 0.016531,
     "end_time": "2023-07-04T08:57:19.524172",
     "exception": false,
     "start_time": "2023-07-04T08:57:19.507641",
     "status": "completed"
    },
    "tags": []
   },
   "outputs": [],
   "source": [
    "def knc_objective1(trial):\n",
    "    n_neighbors = trial.suggest_int(\"n_neighbors\", 1, 3000)\n",
    "    \n",
    "    log_features = [f for f in features if (train[f] >= 0).all() and scipy.stats.skew(train[f]) > 0]\n",
    "    model = make_pipeline(ColumnTransformer([('log', FunctionTransformer(np.log1p), log_features)],\n",
    "                                            remainder='passthrough'),\n",
    "                          StandardScaler(),\n",
    "                          KNeighborsClassifier(n_neighbors=n_neighbors, weights='distance'))\n",
    "    model.fit(X_train1,y_train1)\n",
    "    y_pred = model.predict_proba(X_valid1)[:,1]\n",
    "    auc = roc_auc_score(y_valid1,y_pred)\n",
    "    return auc\n",
    "\n",
    "def knc_objective2(trial):\n",
    "    n_neighbors = trial.suggest_int(\"n_neighbors\", 1, 3000)\n",
    "    \n",
    "    log_features = [f for f in features if (train[f] >= 0).all() and scipy.stats.skew(train[f]) > 0]\n",
    "    model = make_pipeline(ColumnTransformer([('log', FunctionTransformer(np.log1p), log_features)],\n",
    "                                            remainder='passthrough'),\n",
    "                          StandardScaler(),\n",
    "                          KNeighborsClassifier(n_neighbors=n_neighbors, weights='distance'))\n",
    "    model.fit(X_train2,y_train2)\n",
    "    y_pred = model.predict_proba(X_valid2)[:,1]\n",
    "    auc = roc_auc_score(y_valid2,y_pred)\n",
    "    return auc"
   ]
  },
  {
   "cell_type": "code",
   "execution_count": 5,
   "id": "0ed1b1d9",
   "metadata": {
    "execution": {
     "iopub.execute_input": "2023-07-04T08:57:19.533438Z",
     "iopub.status.busy": "2023-07-04T08:57:19.532805Z",
     "iopub.status.idle": "2023-07-04T10:43:32.821698Z",
     "shell.execute_reply": "2023-07-04T10:43:32.820298Z"
    },
    "papermill": {
     "duration": 6373.296223,
     "end_time": "2023-07-04T10:43:32.824112",
     "exception": false,
     "start_time": "2023-07-04T08:57:19.527889",
     "status": "completed"
    },
    "tags": []
   },
   "outputs": [
    {
     "data": {
      "application/vnd.jupyter.widget-view+json": {
       "model_id": "6e8e91ffc06f42208ae210745f4e70fa",
       "version_major": 2,
       "version_minor": 0
      },
      "text/plain": [
       "  0%|          | 0/3000 [00:00<?, ?it/s]"
      ]
     },
     "metadata": {},
     "output_type": "display_data"
    },
    {
     "name": "stdout",
     "output_type": "stream",
     "text": [
      "Best scores for KNeighborsClassifier from Optuna:0.6980406256172229\n",
      "Best parameters for KNeighborsClassifier from Optuna:{'n_neighbors': 2574}\n",
      "CPU times: user 5h 49min 39s, sys: 2min 32s, total: 5h 52min 12s\n",
      "Wall time: 1h 46min 13s\n"
     ]
    }
   ],
   "source": [
    "%%time\n",
    "knc_1_study = optuna.create_study(direction=\"maximize\", sampler=sampler)\n",
    "knc_1_study.optimize(knc_objective1, n_trials=3000, show_progress_bar=True)\n",
    "knc_1_best_score = knc_1_study.best_trial.value\n",
    "knc_1_best_params = knc_1_study.best_trial.params\n",
    "print(f\"Best scores for KNeighborsClassifier from Optuna:{knc_1_best_score}\")\n",
    "print(f\"Best parameters for KNeighborsClassifier from Optuna:{knc_1_best_params}\")\n"
   ]
  },
  {
   "cell_type": "code",
   "execution_count": 6,
   "id": "11ffe297",
   "metadata": {
    "execution": {
     "iopub.execute_input": "2023-07-04T10:43:32.833883Z",
     "iopub.status.busy": "2023-07-04T10:43:32.833059Z",
     "iopub.status.idle": "2023-07-04T11:33:02.879000Z",
     "shell.execute_reply": "2023-07-04T11:33:02.877838Z"
    },
    "papermill": {
     "duration": 2970.053714,
     "end_time": "2023-07-04T11:33:02.881695",
     "exception": false,
     "start_time": "2023-07-04T10:43:32.827981",
     "status": "completed"
    },
    "tags": []
   },
   "outputs": [
    {
     "data": {
      "application/vnd.jupyter.widget-view+json": {
       "model_id": "026bb8cf8eaa40b9a3eb8a31b3438283",
       "version_major": 2,
       "version_minor": 0
      },
      "text/plain": [
       "  0%|          | 0/3000 [00:00<?, ?it/s]"
      ]
     },
     "metadata": {},
     "output_type": "display_data"
    },
    {
     "name": "stdout",
     "output_type": "stream",
     "text": [
      "Best scores for KNeighborsClassifier from Optuna:0.5935900821596244\n",
      "Best parameters for KNeighborsClassifier from Optuna:{'n_neighbors': 619}\n",
      "CPU times: user 2h 43min 46s, sys: 37.3 s, total: 2h 44min 23s\n",
      "Wall time: 49min 30s\n"
     ]
    }
   ],
   "source": [
    "%%time\n",
    "knc_2_study = optuna.create_study(direction=\"maximize\", sampler=sampler)\n",
    "knc_2_study.optimize(knc_objective2, n_trials=3000, show_progress_bar=True)\n",
    "knc_2_best_score = knc_2_study.best_trial.value\n",
    "knc_2_best_params = knc_2_study.best_trial.params\n",
    "print(f\"Best scores for KNeighborsClassifier from Optuna:{knc_2_best_score}\")\n",
    "print(f\"Best parameters for KNeighborsClassifier from Optuna:{knc_2_best_params}\")\n"
   ]
  }
 ],
 "metadata": {
  "kernelspec": {
   "display_name": "Python 3",
   "language": "python",
   "name": "python3"
  },
  "language_info": {
   "codemirror_mode": {
    "name": "ipython",
    "version": 3
   },
   "file_extension": ".py",
   "mimetype": "text/x-python",
   "name": "python",
   "nbconvert_exporter": "python",
   "pygments_lexer": "ipython3",
   "version": "3.10.10"
  },
  "papermill": {
   "default_parameters": {},
   "duration": 9358.370643,
   "end_time": "2023-07-04T11:33:04.029315",
   "environment_variables": {},
   "exception": null,
   "input_path": "__notebook__.ipynb",
   "output_path": "__notebook__.ipynb",
   "parameters": {},
   "start_time": "2023-07-04T08:57:05.658672",
   "version": "2.4.0"
  },
  "widgets": {
   "application/vnd.jupyter.widget-state+json": {
    "state": {
     "026bb8cf8eaa40b9a3eb8a31b3438283": {
      "model_module": "@jupyter-widgets/controls",
      "model_module_version": "1.5.0",
      "model_name": "HBoxModel",
      "state": {
       "_dom_classes": [],
       "_model_module": "@jupyter-widgets/controls",
       "_model_module_version": "1.5.0",
       "_model_name": "HBoxModel",
       "_view_count": null,
       "_view_module": "@jupyter-widgets/controls",
       "_view_module_version": "1.5.0",
       "_view_name": "HBoxView",
       "box_style": "",
       "children": [
        "IPY_MODEL_78daefc302ed421a8369da6c2a266d1b",
        "IPY_MODEL_f20e92b1055548bebcb4e7f13f0f0d43",
        "IPY_MODEL_1902dea5a449408194af293eede9bd7c"
       ],
       "layout": "IPY_MODEL_cb34b4d1bff94a56aa1f9923584da674"
      }
     },
     "1902dea5a449408194af293eede9bd7c": {
      "model_module": "@jupyter-widgets/controls",
      "model_module_version": "1.5.0",
      "model_name": "HTMLModel",
      "state": {
       "_dom_classes": [],
       "_model_module": "@jupyter-widgets/controls",
       "_model_module_version": "1.5.0",
       "_model_name": "HTMLModel",
       "_view_count": null,
       "_view_module": "@jupyter-widgets/controls",
       "_view_module_version": "1.5.0",
       "_view_name": "HTMLView",
       "description": "",
       "description_tooltip": null,
       "layout": "IPY_MODEL_cfe275df4447409295726c7c50afd20a",
       "placeholder": "​",
       "style": "IPY_MODEL_f53c9465bb48457591aae869a4bdea58",
       "value": " 3000/3000 [49:30&lt;00:00,  1.08it/s]"
      }
     },
     "1f8b1f10b78843eaa62c949afcb6ac31": {
      "model_module": "@jupyter-widgets/base",
      "model_module_version": "1.2.0",
      "model_name": "LayoutModel",
      "state": {
       "_model_module": "@jupyter-widgets/base",
       "_model_module_version": "1.2.0",
       "_model_name": "LayoutModel",
       "_view_count": null,
       "_view_module": "@jupyter-widgets/base",
       "_view_module_version": "1.2.0",
       "_view_name": "LayoutView",
       "align_content": null,
       "align_items": null,
       "align_self": null,
       "border": null,
       "bottom": null,
       "display": null,
       "flex": null,
       "flex_flow": null,
       "grid_area": null,
       "grid_auto_columns": null,
       "grid_auto_flow": null,
       "grid_auto_rows": null,
       "grid_column": null,
       "grid_gap": null,
       "grid_row": null,
       "grid_template_areas": null,
       "grid_template_columns": null,
       "grid_template_rows": null,
       "height": null,
       "justify_content": null,
       "justify_items": null,
       "left": null,
       "margin": null,
       "max_height": null,
       "max_width": null,
       "min_height": null,
       "min_width": null,
       "object_fit": null,
       "object_position": null,
       "order": null,
       "overflow": null,
       "overflow_x": null,
       "overflow_y": null,
       "padding": null,
       "right": null,
       "top": null,
       "visibility": null,
       "width": null
      }
     },
     "2223517ed9dd4974b9cb8b1d5ba08d90": {
      "model_module": "@jupyter-widgets/controls",
      "model_module_version": "1.5.0",
      "model_name": "ProgressStyleModel",
      "state": {
       "_model_module": "@jupyter-widgets/controls",
       "_model_module_version": "1.5.0",
       "_model_name": "ProgressStyleModel",
       "_view_count": null,
       "_view_module": "@jupyter-widgets/base",
       "_view_module_version": "1.2.0",
       "_view_name": "StyleView",
       "bar_color": null,
       "description_width": ""
      }
     },
     "36077ea63bf8412bbfea716b5c124eb0": {
      "model_module": "@jupyter-widgets/controls",
      "model_module_version": "1.5.0",
      "model_name": "HTMLModel",
      "state": {
       "_dom_classes": [],
       "_model_module": "@jupyter-widgets/controls",
       "_model_module_version": "1.5.0",
       "_model_name": "HTMLModel",
       "_view_count": null,
       "_view_module": "@jupyter-widgets/controls",
       "_view_module_version": "1.5.0",
       "_view_name": "HTMLView",
       "description": "",
       "description_tooltip": null,
       "layout": "IPY_MODEL_e759b8a5646c4604a08d76dd2eaf9e81",
       "placeholder": "​",
       "style": "IPY_MODEL_51fd590ec59c46608dc4157478c38f10",
       "value": " 3000/3000 [1:46:13&lt;00:00,  2.19s/it]"
      }
     },
     "3d37aa58aac44bad8ad25ee5f8b0a703": {
      "model_module": "@jupyter-widgets/controls",
      "model_module_version": "1.5.0",
      "model_name": "ProgressStyleModel",
      "state": {
       "_model_module": "@jupyter-widgets/controls",
       "_model_module_version": "1.5.0",
       "_model_name": "ProgressStyleModel",
       "_view_count": null,
       "_view_module": "@jupyter-widgets/base",
       "_view_module_version": "1.2.0",
       "_view_name": "StyleView",
       "bar_color": null,
       "description_width": ""
      }
     },
     "45a152934d9142d3ab6dc2737678693a": {
      "model_module": "@jupyter-widgets/controls",
      "model_module_version": "1.5.0",
      "model_name": "HTMLModel",
      "state": {
       "_dom_classes": [],
       "_model_module": "@jupyter-widgets/controls",
       "_model_module_version": "1.5.0",
       "_model_name": "HTMLModel",
       "_view_count": null,
       "_view_module": "@jupyter-widgets/controls",
       "_view_module_version": "1.5.0",
       "_view_name": "HTMLView",
       "description": "",
       "description_tooltip": null,
       "layout": "IPY_MODEL_56302ccc36f44bc5842a3937e7141f9e",
       "placeholder": "​",
       "style": "IPY_MODEL_7e953d514a964cf388fab5218343ae61",
       "value": "Best trial: 49. Best value: 0.698041: 100%"
      }
     },
     "51fd590ec59c46608dc4157478c38f10": {
      "model_module": "@jupyter-widgets/controls",
      "model_module_version": "1.5.0",
      "model_name": "DescriptionStyleModel",
      "state": {
       "_model_module": "@jupyter-widgets/controls",
       "_model_module_version": "1.5.0",
       "_model_name": "DescriptionStyleModel",
       "_view_count": null,
       "_view_module": "@jupyter-widgets/base",
       "_view_module_version": "1.2.0",
       "_view_name": "StyleView",
       "description_width": ""
      }
     },
     "5228be56e6774fe5a2142fa0545d91ad": {
      "model_module": "@jupyter-widgets/base",
      "model_module_version": "1.2.0",
      "model_name": "LayoutModel",
      "state": {
       "_model_module": "@jupyter-widgets/base",
       "_model_module_version": "1.2.0",
       "_model_name": "LayoutModel",
       "_view_count": null,
       "_view_module": "@jupyter-widgets/base",
       "_view_module_version": "1.2.0",
       "_view_name": "LayoutView",
       "align_content": null,
       "align_items": null,
       "align_self": null,
       "border": null,
       "bottom": null,
       "display": null,
       "flex": null,
       "flex_flow": null,
       "grid_area": null,
       "grid_auto_columns": null,
       "grid_auto_flow": null,
       "grid_auto_rows": null,
       "grid_column": null,
       "grid_gap": null,
       "grid_row": null,
       "grid_template_areas": null,
       "grid_template_columns": null,
       "grid_template_rows": null,
       "height": null,
       "justify_content": null,
       "justify_items": null,
       "left": null,
       "margin": null,
       "max_height": null,
       "max_width": null,
       "min_height": null,
       "min_width": null,
       "object_fit": null,
       "object_position": null,
       "order": null,
       "overflow": null,
       "overflow_x": null,
       "overflow_y": null,
       "padding": null,
       "right": null,
       "top": null,
       "visibility": null,
       "width": null
      }
     },
     "56302ccc36f44bc5842a3937e7141f9e": {
      "model_module": "@jupyter-widgets/base",
      "model_module_version": "1.2.0",
      "model_name": "LayoutModel",
      "state": {
       "_model_module": "@jupyter-widgets/base",
       "_model_module_version": "1.2.0",
       "_model_name": "LayoutModel",
       "_view_count": null,
       "_view_module": "@jupyter-widgets/base",
       "_view_module_version": "1.2.0",
       "_view_name": "LayoutView",
       "align_content": null,
       "align_items": null,
       "align_self": null,
       "border": null,
       "bottom": null,
       "display": null,
       "flex": null,
       "flex_flow": null,
       "grid_area": null,
       "grid_auto_columns": null,
       "grid_auto_flow": null,
       "grid_auto_rows": null,
       "grid_column": null,
       "grid_gap": null,
       "grid_row": null,
       "grid_template_areas": null,
       "grid_template_columns": null,
       "grid_template_rows": null,
       "height": null,
       "justify_content": null,
       "justify_items": null,
       "left": null,
       "margin": null,
       "max_height": null,
       "max_width": null,
       "min_height": null,
       "min_width": null,
       "object_fit": null,
       "object_position": null,
       "order": null,
       "overflow": null,
       "overflow_x": null,
       "overflow_y": null,
       "padding": null,
       "right": null,
       "top": null,
       "visibility": null,
       "width": null
      }
     },
     "6e8e91ffc06f42208ae210745f4e70fa": {
      "model_module": "@jupyter-widgets/controls",
      "model_module_version": "1.5.0",
      "model_name": "HBoxModel",
      "state": {
       "_dom_classes": [],
       "_model_module": "@jupyter-widgets/controls",
       "_model_module_version": "1.5.0",
       "_model_name": "HBoxModel",
       "_view_count": null,
       "_view_module": "@jupyter-widgets/controls",
       "_view_module_version": "1.5.0",
       "_view_name": "HBoxView",
       "box_style": "",
       "children": [
        "IPY_MODEL_45a152934d9142d3ab6dc2737678693a",
        "IPY_MODEL_fa2ac09838504259ae55d71d0d6b1ab5",
        "IPY_MODEL_36077ea63bf8412bbfea716b5c124eb0"
       ],
       "layout": "IPY_MODEL_5228be56e6774fe5a2142fa0545d91ad"
      }
     },
     "78daefc302ed421a8369da6c2a266d1b": {
      "model_module": "@jupyter-widgets/controls",
      "model_module_version": "1.5.0",
      "model_name": "HTMLModel",
      "state": {
       "_dom_classes": [],
       "_model_module": "@jupyter-widgets/controls",
       "_model_module_version": "1.5.0",
       "_model_name": "HTMLModel",
       "_view_count": null,
       "_view_module": "@jupyter-widgets/controls",
       "_view_module_version": "1.5.0",
       "_view_name": "HTMLView",
       "description": "",
       "description_tooltip": null,
       "layout": "IPY_MODEL_a18224516afd4e16b3b07aeb78ac4a44",
       "placeholder": "​",
       "style": "IPY_MODEL_7a837fb27fc4466ea5a8c4915584c64b",
       "value": "Best trial: 632. Best value: 0.59359: 100%"
      }
     },
     "7a837fb27fc4466ea5a8c4915584c64b": {
      "model_module": "@jupyter-widgets/controls",
      "model_module_version": "1.5.0",
      "model_name": "DescriptionStyleModel",
      "state": {
       "_model_module": "@jupyter-widgets/controls",
       "_model_module_version": "1.5.0",
       "_model_name": "DescriptionStyleModel",
       "_view_count": null,
       "_view_module": "@jupyter-widgets/base",
       "_view_module_version": "1.2.0",
       "_view_name": "StyleView",
       "description_width": ""
      }
     },
     "7e953d514a964cf388fab5218343ae61": {
      "model_module": "@jupyter-widgets/controls",
      "model_module_version": "1.5.0",
      "model_name": "DescriptionStyleModel",
      "state": {
       "_model_module": "@jupyter-widgets/controls",
       "_model_module_version": "1.5.0",
       "_model_name": "DescriptionStyleModel",
       "_view_count": null,
       "_view_module": "@jupyter-widgets/base",
       "_view_module_version": "1.2.0",
       "_view_name": "StyleView",
       "description_width": ""
      }
     },
     "a18224516afd4e16b3b07aeb78ac4a44": {
      "model_module": "@jupyter-widgets/base",
      "model_module_version": "1.2.0",
      "model_name": "LayoutModel",
      "state": {
       "_model_module": "@jupyter-widgets/base",
       "_model_module_version": "1.2.0",
       "_model_name": "LayoutModel",
       "_view_count": null,
       "_view_module": "@jupyter-widgets/base",
       "_view_module_version": "1.2.0",
       "_view_name": "LayoutView",
       "align_content": null,
       "align_items": null,
       "align_self": null,
       "border": null,
       "bottom": null,
       "display": null,
       "flex": null,
       "flex_flow": null,
       "grid_area": null,
       "grid_auto_columns": null,
       "grid_auto_flow": null,
       "grid_auto_rows": null,
       "grid_column": null,
       "grid_gap": null,
       "grid_row": null,
       "grid_template_areas": null,
       "grid_template_columns": null,
       "grid_template_rows": null,
       "height": null,
       "justify_content": null,
       "justify_items": null,
       "left": null,
       "margin": null,
       "max_height": null,
       "max_width": null,
       "min_height": null,
       "min_width": null,
       "object_fit": null,
       "object_position": null,
       "order": null,
       "overflow": null,
       "overflow_x": null,
       "overflow_y": null,
       "padding": null,
       "right": null,
       "top": null,
       "visibility": null,
       "width": null
      }
     },
     "a3971b2510e24eed91070b4c45854cbd": {
      "model_module": "@jupyter-widgets/base",
      "model_module_version": "1.2.0",
      "model_name": "LayoutModel",
      "state": {
       "_model_module": "@jupyter-widgets/base",
       "_model_module_version": "1.2.0",
       "_model_name": "LayoutModel",
       "_view_count": null,
       "_view_module": "@jupyter-widgets/base",
       "_view_module_version": "1.2.0",
       "_view_name": "LayoutView",
       "align_content": null,
       "align_items": null,
       "align_self": null,
       "border": null,
       "bottom": null,
       "display": null,
       "flex": null,
       "flex_flow": null,
       "grid_area": null,
       "grid_auto_columns": null,
       "grid_auto_flow": null,
       "grid_auto_rows": null,
       "grid_column": null,
       "grid_gap": null,
       "grid_row": null,
       "grid_template_areas": null,
       "grid_template_columns": null,
       "grid_template_rows": null,
       "height": null,
       "justify_content": null,
       "justify_items": null,
       "left": null,
       "margin": null,
       "max_height": null,
       "max_width": null,
       "min_height": null,
       "min_width": null,
       "object_fit": null,
       "object_position": null,
       "order": null,
       "overflow": null,
       "overflow_x": null,
       "overflow_y": null,
       "padding": null,
       "right": null,
       "top": null,
       "visibility": null,
       "width": null
      }
     },
     "cb34b4d1bff94a56aa1f9923584da674": {
      "model_module": "@jupyter-widgets/base",
      "model_module_version": "1.2.0",
      "model_name": "LayoutModel",
      "state": {
       "_model_module": "@jupyter-widgets/base",
       "_model_module_version": "1.2.0",
       "_model_name": "LayoutModel",
       "_view_count": null,
       "_view_module": "@jupyter-widgets/base",
       "_view_module_version": "1.2.0",
       "_view_name": "LayoutView",
       "align_content": null,
       "align_items": null,
       "align_self": null,
       "border": null,
       "bottom": null,
       "display": null,
       "flex": null,
       "flex_flow": null,
       "grid_area": null,
       "grid_auto_columns": null,
       "grid_auto_flow": null,
       "grid_auto_rows": null,
       "grid_column": null,
       "grid_gap": null,
       "grid_row": null,
       "grid_template_areas": null,
       "grid_template_columns": null,
       "grid_template_rows": null,
       "height": null,
       "justify_content": null,
       "justify_items": null,
       "left": null,
       "margin": null,
       "max_height": null,
       "max_width": null,
       "min_height": null,
       "min_width": null,
       "object_fit": null,
       "object_position": null,
       "order": null,
       "overflow": null,
       "overflow_x": null,
       "overflow_y": null,
       "padding": null,
       "right": null,
       "top": null,
       "visibility": null,
       "width": null
      }
     },
     "cfe275df4447409295726c7c50afd20a": {
      "model_module": "@jupyter-widgets/base",
      "model_module_version": "1.2.0",
      "model_name": "LayoutModel",
      "state": {
       "_model_module": "@jupyter-widgets/base",
       "_model_module_version": "1.2.0",
       "_model_name": "LayoutModel",
       "_view_count": null,
       "_view_module": "@jupyter-widgets/base",
       "_view_module_version": "1.2.0",
       "_view_name": "LayoutView",
       "align_content": null,
       "align_items": null,
       "align_self": null,
       "border": null,
       "bottom": null,
       "display": null,
       "flex": null,
       "flex_flow": null,
       "grid_area": null,
       "grid_auto_columns": null,
       "grid_auto_flow": null,
       "grid_auto_rows": null,
       "grid_column": null,
       "grid_gap": null,
       "grid_row": null,
       "grid_template_areas": null,
       "grid_template_columns": null,
       "grid_template_rows": null,
       "height": null,
       "justify_content": null,
       "justify_items": null,
       "left": null,
       "margin": null,
       "max_height": null,
       "max_width": null,
       "min_height": null,
       "min_width": null,
       "object_fit": null,
       "object_position": null,
       "order": null,
       "overflow": null,
       "overflow_x": null,
       "overflow_y": null,
       "padding": null,
       "right": null,
       "top": null,
       "visibility": null,
       "width": null
      }
     },
     "e759b8a5646c4604a08d76dd2eaf9e81": {
      "model_module": "@jupyter-widgets/base",
      "model_module_version": "1.2.0",
      "model_name": "LayoutModel",
      "state": {
       "_model_module": "@jupyter-widgets/base",
       "_model_module_version": "1.2.0",
       "_model_name": "LayoutModel",
       "_view_count": null,
       "_view_module": "@jupyter-widgets/base",
       "_view_module_version": "1.2.0",
       "_view_name": "LayoutView",
       "align_content": null,
       "align_items": null,
       "align_self": null,
       "border": null,
       "bottom": null,
       "display": null,
       "flex": null,
       "flex_flow": null,
       "grid_area": null,
       "grid_auto_columns": null,
       "grid_auto_flow": null,
       "grid_auto_rows": null,
       "grid_column": null,
       "grid_gap": null,
       "grid_row": null,
       "grid_template_areas": null,
       "grid_template_columns": null,
       "grid_template_rows": null,
       "height": null,
       "justify_content": null,
       "justify_items": null,
       "left": null,
       "margin": null,
       "max_height": null,
       "max_width": null,
       "min_height": null,
       "min_width": null,
       "object_fit": null,
       "object_position": null,
       "order": null,
       "overflow": null,
       "overflow_x": null,
       "overflow_y": null,
       "padding": null,
       "right": null,
       "top": null,
       "visibility": null,
       "width": null
      }
     },
     "f20e92b1055548bebcb4e7f13f0f0d43": {
      "model_module": "@jupyter-widgets/controls",
      "model_module_version": "1.5.0",
      "model_name": "FloatProgressModel",
      "state": {
       "_dom_classes": [],
       "_model_module": "@jupyter-widgets/controls",
       "_model_module_version": "1.5.0",
       "_model_name": "FloatProgressModel",
       "_view_count": null,
       "_view_module": "@jupyter-widgets/controls",
       "_view_module_version": "1.5.0",
       "_view_name": "ProgressView",
       "bar_style": "success",
       "description": "",
       "description_tooltip": null,
       "layout": "IPY_MODEL_a3971b2510e24eed91070b4c45854cbd",
       "max": 3000.0,
       "min": 0.0,
       "orientation": "horizontal",
       "style": "IPY_MODEL_3d37aa58aac44bad8ad25ee5f8b0a703",
       "value": 3000.0
      }
     },
     "f53c9465bb48457591aae869a4bdea58": {
      "model_module": "@jupyter-widgets/controls",
      "model_module_version": "1.5.0",
      "model_name": "DescriptionStyleModel",
      "state": {
       "_model_module": "@jupyter-widgets/controls",
       "_model_module_version": "1.5.0",
       "_model_name": "DescriptionStyleModel",
       "_view_count": null,
       "_view_module": "@jupyter-widgets/base",
       "_view_module_version": "1.2.0",
       "_view_name": "StyleView",
       "description_width": ""
      }
     },
     "fa2ac09838504259ae55d71d0d6b1ab5": {
      "model_module": "@jupyter-widgets/controls",
      "model_module_version": "1.5.0",
      "model_name": "FloatProgressModel",
      "state": {
       "_dom_classes": [],
       "_model_module": "@jupyter-widgets/controls",
       "_model_module_version": "1.5.0",
       "_model_name": "FloatProgressModel",
       "_view_count": null,
       "_view_module": "@jupyter-widgets/controls",
       "_view_module_version": "1.5.0",
       "_view_name": "ProgressView",
       "bar_style": "success",
       "description": "",
       "description_tooltip": null,
       "layout": "IPY_MODEL_1f8b1f10b78843eaa62c949afcb6ac31",
       "max": 3000.0,
       "min": 0.0,
       "orientation": "horizontal",
       "style": "IPY_MODEL_2223517ed9dd4974b9cb8b1d5ba08d90",
       "value": 3000.0
      }
     }
    },
    "version_major": 2,
    "version_minor": 0
   }
  }
 },
 "nbformat": 4,
 "nbformat_minor": 5
}
