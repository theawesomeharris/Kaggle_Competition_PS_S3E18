{
 "cells": [
  {
   "cell_type": "markdown",
   "id": "e8c3d276",
   "metadata": {
    "papermill": {
     "duration": 0.004201,
     "end_time": "2023-07-04T08:57:49.629957",
     "exception": false,
     "start_time": "2023-07-04T08:57:49.625756",
     "status": "completed"
    },
    "tags": []
   },
   "source": [
    "### Getting started\n"
   ]
  },
  {
   "cell_type": "code",
   "execution_count": 1,
   "id": "def55df9",
   "metadata": {
    "_cell_guid": "b1076dfc-b9ad-4769-8c92-a6c4dae69d19",
    "_uuid": "8f2839f25d086af736a60e9eeb907d3b93b6e0e5",
    "execution": {
     "iopub.execute_input": "2023-07-04T08:57:49.640144Z",
     "iopub.status.busy": "2023-07-04T08:57:49.639141Z",
     "iopub.status.idle": "2023-07-04T08:57:52.517301Z",
     "shell.execute_reply": "2023-07-04T08:57:52.515990Z"
    },
    "papermill": {
     "duration": 2.886756,
     "end_time": "2023-07-04T08:57:52.520507",
     "exception": false,
     "start_time": "2023-07-04T08:57:49.633751",
     "status": "completed"
    },
    "tags": []
   },
   "outputs": [],
   "source": [
    "import warnings\n",
    "warnings.filterwarnings('ignore')\n",
    "\n",
    "import pandas as pd\n",
    "pd.set_option('display.max_columns', None)\n",
    "import numpy as np\n",
    "import scipy\n",
    "\n",
    "import matplotlib.pyplot as plt\n",
    "%matplotlib inline\n",
    "import seaborn as sns\n",
    "sns.set()\n",
    "\n",
    "from sklearn.preprocessing import StandardScaler, FunctionTransformer, PolynomialFeatures\n",
    "from sklearn.decomposition import PCA\n",
    "from sklearn.model_selection import StratifiedKFold, RepeatedStratifiedKFold, cross_val_score, cross_val_predict, cross_validate, train_test_split\n",
    "from sklearn.ensemble import RandomForestClassifier, ExtraTreesClassifier, VotingClassifier, HistGradientBoostingClassifier, BaggingClassifier\n",
    "from sklearn.linear_model import LogisticRegression\n",
    "from sklearn.svm import SVC, LinearSVC\n",
    "from sklearn.pipeline import make_pipeline, Pipeline\n",
    "from sklearn.compose import ColumnTransformer\n",
    "from sklearn.neighbors import KNeighborsClassifier\n",
    "from sklearn.metrics import roc_auc_score\n",
    "\n",
    "import optuna\n",
    "from optuna.samplers import TPESampler\n",
    "# Set the log level for the optuna package to WARNING\n",
    "optuna.logging.set_verbosity(optuna.logging.WARNING)\n",
    "# Run Optuna optimization for each model\n",
    "sampler = TPESampler(seed=42)\n"
   ]
  },
  {
   "cell_type": "code",
   "execution_count": 2,
   "id": "adec084c",
   "metadata": {
    "execution": {
     "iopub.execute_input": "2023-07-04T08:57:52.530901Z",
     "iopub.status.busy": "2023-07-04T08:57:52.529683Z",
     "iopub.status.idle": "2023-07-04T08:57:53.127679Z",
     "shell.execute_reply": "2023-07-04T08:57:53.126439Z"
    },
    "papermill": {
     "duration": 0.60639,
     "end_time": "2023-07-04T08:57:53.130816",
     "exception": false,
     "start_time": "2023-07-04T08:57:52.524426",
     "status": "completed"
    },
    "tags": []
   },
   "outputs": [
    {
     "data": {
      "text/plain": [
       "((14838, 37),\n",
       " (15859, 37),\n",
       " (15769, 31),\n",
       " (15826, 33),\n",
       " (15841, 37),\n",
       " (15769, 31),\n",
       " (15805, 33))"
      ]
     },
     "execution_count": 2,
     "metadata": {},
     "output_type": "execute_result"
    }
   ],
   "source": [
    "path1 = \"/kaggle/input/playground-series-s3e18/\"\n",
    "path2 = \"/kaggle/input/multi-label-classification-of-enzyme-substrates/\"\n",
    "\n",
    "sample = pd.read_csv(path1+\"sample_submission.csv\")\n",
    "train = pd.read_csv(path1+\"train.csv\",index_col='id')\n",
    "test = pd.read_csv(path1+\"test.csv\",index_col='id')\n",
    "original = pd.read_csv(path2+\"original.csv\",index_col='id')\n",
    "original_1 = pd.read_csv(path2+\"original_1.csv\",index_col='id')\n",
    "\n",
    "id_test = test.index # id column required for submission file\n",
    "targets = ['EC1', 'EC2']\n",
    "features = [f for f in test.columns if not f.startswith('EC')]\n",
    "features_EC1EC2 = features + ['EC1', 'EC2']\n",
    "\n",
    "# Combine playground dataset and synthetic dataset generated\n",
    "train1 = pd.concat([train,original]).drop_duplicates().reset_index(drop=True)\n",
    "train2 = pd.concat([train,original_1]).drop_duplicates().reset_index(drop=True)\n",
    "\n",
    "train1a = train1[features].drop_duplicates().reset_index(drop=True)\n",
    "train2a = train2[features].drop_duplicates().reset_index(drop=True)\n",
    "\n",
    "train1b = train1[features_EC1EC2].drop_duplicates().reset_index(drop=True)\n",
    "train2b = train2[features_EC1EC2].drop_duplicates().reset_index(drop=True)\n",
    "\n",
    "train.shape, train1.shape, train1a.shape, train1b.shape, train2.shape, train2a.shape, train2b.shape"
   ]
  },
  {
   "cell_type": "markdown",
   "id": "08d9d8c6",
   "metadata": {
    "papermill": {
     "duration": 0.003406,
     "end_time": "2023-07-04T08:57:53.138019",
     "exception": false,
     "start_time": "2023-07-04T08:57:53.134613",
     "status": "completed"
    },
    "tags": []
   },
   "source": [
    "Notes:-  \n",
    "- The original dataset has multiple files with different target (EC1~EC6) values.\n",
    "- The original.csv has a set of target values from _ecfp file. This is combined with the trainset as train1 dataset here.\n",
    "- The original_1.csv has a set of target values from _desc file. This is combined with the trainset as train2 dataset here.\n",
    "\n",
    "Further notes:-\n",
    "- train1a and train2a are further skimmed down with dropped duplicates looking at only the features columns only.\n",
    "- The same is applied to train1b and train2b, with dropping duplicates looking at feature columns and EC1+EC2 columns.\n",
    "- This means that in the duplicated rows, same set of features results in different target values.\n"
   ]
  },
  {
   "cell_type": "markdown",
   "id": "4cf896a3",
   "metadata": {
    "papermill": {
     "duration": 0.003259,
     "end_time": "2023-07-04T08:57:53.144960",
     "exception": false,
     "start_time": "2023-07-04T08:57:53.141701",
     "status": "completed"
    },
    "tags": []
   },
   "source": [
    "# Modelling the problem\n",
    "\n",
    "There are two general approaches here:\n",
    "1. To treat the two targets separately with two separate models to make the best of each models.\n",
    "2. To use a wrapper such as MultiOutputClassifer from sk.learn package to predict them together in one model.\n",
    "\n",
    "In such binary classification problem, the following are some popular modelling implementations:\n",
    "1. RandomForestClassifier\n",
    "2. KNeighborsClassifier\n",
    "3. ExtraTreesClassifier\n",
    "4. LogisticRegression\n",
    "5. BaggingClassifier with LogisticRegression\n",
    "6. LGBMClassifier\n",
    "7. XGBClassifier\n",
    "8. CatBoostClassfier\n"
   ]
  },
  {
   "cell_type": "markdown",
   "id": "0507cf8e",
   "metadata": {
    "papermill": {
     "duration": 0.003201,
     "end_time": "2023-07-04T08:57:53.151619",
     "exception": false,
     "start_time": "2023-07-04T08:57:53.148418",
     "status": "completed"
    },
    "tags": []
   },
   "source": [
    "# Perform train-test split"
   ]
  },
  {
   "cell_type": "code",
   "execution_count": 3,
   "id": "2cabd902",
   "metadata": {
    "execution": {
     "iopub.execute_input": "2023-07-04T08:57:53.160603Z",
     "iopub.status.busy": "2023-07-04T08:57:53.160140Z",
     "iopub.status.idle": "2023-07-04T08:57:53.184597Z",
     "shell.execute_reply": "2023-07-04T08:57:53.183449Z"
    },
    "papermill": {
     "duration": 0.032559,
     "end_time": "2023-07-04T08:57:53.187556",
     "exception": false,
     "start_time": "2023-07-04T08:57:53.154997",
     "status": "completed"
    },
    "tags": []
   },
   "outputs": [],
   "source": [
    "X = train[features]\n",
    "y1 = train['EC1']\n",
    "y2 = train['EC2']\n",
    "X_train1, X_valid1, y_train1, y_valid1 = train_test_split(X,y1,train_size=0.8,test_size=0.2,random_state=42)\n",
    "X_train2, X_valid2, y_train2, y_valid2 = train_test_split(X,y2,train_size=0.8,test_size=0.2,random_state=42)"
   ]
  },
  {
   "cell_type": "markdown",
   "id": "bc7cc005",
   "metadata": {
    "papermill": {
     "duration": 0.003497,
     "end_time": "2023-07-04T08:57:53.194960",
     "exception": false,
     "start_time": "2023-07-04T08:57:53.191463",
     "status": "completed"
    },
    "tags": []
   },
   "source": [
    "# Perform Optuna's Optimazation"
   ]
  },
  {
   "cell_type": "markdown",
   "id": "a0124c45",
   "metadata": {
    "execution": {
     "iopub.execute_input": "2023-07-04T08:38:17.875218Z",
     "iopub.status.busy": "2023-07-04T08:38:17.874769Z",
     "iopub.status.idle": "2023-07-04T08:38:17.880715Z",
     "shell.execute_reply": "2023-07-04T08:38:17.879675Z",
     "shell.execute_reply.started": "2023-07-04T08:38:17.875177Z"
    },
    "papermill": {
     "duration": 0.005589,
     "end_time": "2023-07-04T08:57:53.204197",
     "exception": false,
     "start_time": "2023-07-04T08:57:53.198608",
     "status": "completed"
    },
    "tags": []
   },
   "source": [
    "# 3. ExtraTreesClassifier"
   ]
  },
  {
   "cell_type": "code",
   "execution_count": 4,
   "id": "86a999bd",
   "metadata": {
    "execution": {
     "iopub.execute_input": "2023-07-04T08:57:53.213509Z",
     "iopub.status.busy": "2023-07-04T08:57:53.213071Z",
     "iopub.status.idle": "2023-07-04T08:57:53.222027Z",
     "shell.execute_reply": "2023-07-04T08:57:53.220855Z"
    },
    "papermill": {
     "duration": 0.016435,
     "end_time": "2023-07-04T08:57:53.224245",
     "exception": false,
     "start_time": "2023-07-04T08:57:53.207810",
     "status": "completed"
    },
    "tags": []
   },
   "outputs": [],
   "source": [
    "def etc_objective1(trial):\n",
    "    n_estimators = trial.suggest_int(\"n_estimators\", 1, 3000)\n",
    "    max_depth = trial.suggest_int(\"max_depth\", 3, 10)\n",
    "    min_samples_leaf = trial.suggest_int(\"min_samples_leaf\", 1, 10)\n",
    "    \n",
    "    model = ExtraTreesClassifier(n_estimators=n_estimators,\n",
    "                                 max_depth=max_depth,\n",
    "                                 min_samples_leaf=min_samples_leaf,\n",
    "                                 random_state=42)\n",
    "    model.fit(X_train1,y_train1)\n",
    "    y_pred = model.predict_proba(X_valid1)[:,1]\n",
    "    auc = roc_auc_score(y_valid1,y_pred)\n",
    "    return auc\n",
    "\n",
    "def etc_objective2(trial):\n",
    "    n_estimators = trial.suggest_int(\"n_estimators\", 1, 3000)\n",
    "    max_depth = trial.suggest_int(\"max_depth\", 3, 10)\n",
    "    min_samples_leaf = trial.suggest_int(\"min_samples_leaf\", 1, 10)\n",
    "    \n",
    "    model = ExtraTreesClassifier(n_estimators=n_estimators,\n",
    "                                 max_depth=max_depth,\n",
    "                                 min_samples_leaf=min_samples_leaf,\n",
    "                                 random_state=42)\n",
    "    model.fit(X_train2,y_train2)\n",
    "    y_pred = model.predict_proba(X_valid2)[:,1]\n",
    "    auc = roc_auc_score(y_valid2,y_pred)\n",
    "    return auc"
   ]
  },
  {
   "cell_type": "code",
   "execution_count": 5,
   "id": "62d85e9f",
   "metadata": {
    "execution": {
     "iopub.execute_input": "2023-07-04T08:57:53.233637Z",
     "iopub.status.busy": "2023-07-04T08:57:53.233198Z",
     "iopub.status.idle": "2023-07-04T10:40:10.868854Z",
     "shell.execute_reply": "2023-07-04T10:40:10.867618Z"
    },
    "papermill": {
     "duration": 6137.643569,
     "end_time": "2023-07-04T10:40:10.871564",
     "exception": false,
     "start_time": "2023-07-04T08:57:53.227995",
     "status": "completed"
    },
    "tags": []
   },
   "outputs": [
    {
     "data": {
      "application/vnd.jupyter.widget-view+json": {
       "model_id": "55de525ef59645caaa839759e63522bb",
       "version_major": 2,
       "version_minor": 0
      },
      "text/plain": [
       "  0%|          | 0/3000 [00:00<?, ?it/s]"
      ]
     },
     "metadata": {},
     "output_type": "display_data"
    },
    {
     "name": "stdout",
     "output_type": "stream",
     "text": [
      "Best scores for ExtraTreesClassifier from Optuna:0.7105969986503391\n",
      "Best parameters for ExtraTreesClassifier from Optuna:{'n_estimators': 69, 'max_depth': 8, 'min_samples_leaf': 6}\n",
      "CPU times: user 1h 42min, sys: 16.4 s, total: 1h 42min 17s\n",
      "Wall time: 1h 42min 17s\n"
     ]
    }
   ],
   "source": [
    "%%time\n",
    "etc_1_study = optuna.create_study(direction=\"maximize\", sampler=sampler)\n",
    "etc_1_study.optimize(etc_objective1, n_trials=3000, show_progress_bar=True)\n",
    "etc_1_best_score = etc_1_study.best_trial.value\n",
    "etc_1_best_params = etc_1_study.best_trial.params\n",
    "print(f\"Best scores for ExtraTreesClassifier from Optuna:{etc_1_best_score}\")\n",
    "print(f\"Best parameters for ExtraTreesClassifier from Optuna:{etc_1_best_params}\")\n"
   ]
  },
  {
   "cell_type": "code",
   "execution_count": 6,
   "id": "79d37a55",
   "metadata": {
    "execution": {
     "iopub.execute_input": "2023-07-04T10:40:10.882703Z",
     "iopub.status.busy": "2023-07-04T10:40:10.881616Z",
     "iopub.status.idle": "2023-07-04T12:10:59.496753Z",
     "shell.execute_reply": "2023-07-04T12:10:59.495264Z"
    },
    "papermill": {
     "duration": 5448.624451,
     "end_time": "2023-07-04T12:10:59.500226",
     "exception": false,
     "start_time": "2023-07-04T10:40:10.875775",
     "status": "completed"
    },
    "tags": []
   },
   "outputs": [
    {
     "data": {
      "application/vnd.jupyter.widget-view+json": {
       "model_id": "93e4938209b346fd8684c0b17f6fa2f0",
       "version_major": 2,
       "version_minor": 0
      },
      "text/plain": [
       "  0%|          | 0/3000 [00:00<?, ?it/s]"
      ]
     },
     "metadata": {},
     "output_type": "display_data"
    },
    {
     "name": "stdout",
     "output_type": "stream",
     "text": [
      "Best scores for ExtraTreesClassifier from Optuna:0.5996431191314554\n",
      "Best parameters for ExtraTreesClassifier from Optuna:{'n_estimators': 10, 'max_depth': 5, 'min_samples_leaf': 8}\n",
      "CPU times: user 1h 30min 31s, sys: 15.7 s, total: 1h 30min 46s\n",
      "Wall time: 1h 30min 48s\n"
     ]
    }
   ],
   "source": [
    "%%time\n",
    "etc_2_study = optuna.create_study(direction=\"maximize\", sampler=sampler)\n",
    "etc_2_study.optimize(etc_objective2, n_trials=3000, show_progress_bar=True)\n",
    "etc_2_best_score = etc_2_study.best_trial.value\n",
    "etc_2_best_params = etc_2_study.best_trial.params\n",
    "print(f\"Best scores for ExtraTreesClassifier from Optuna:{etc_2_best_score}\")\n",
    "print(f\"Best parameters for ExtraTreesClassifier from Optuna:{etc_2_best_params}\")\n"
   ]
  }
 ],
 "metadata": {
  "kernelspec": {
   "display_name": "Python 3",
   "language": "python",
   "name": "python3"
  },
  "language_info": {
   "codemirror_mode": {
    "name": "ipython",
    "version": 3
   },
   "file_extension": ".py",
   "mimetype": "text/x-python",
   "name": "python",
   "nbconvert_exporter": "python",
   "pygments_lexer": "ipython3",
   "version": "3.10.10"
  },
  "papermill": {
   "default_parameters": {},
   "duration": 11603.502196,
   "end_time": "2023-07-04T12:11:02.060695",
   "environment_variables": {},
   "exception": null,
   "input_path": "__notebook__.ipynb",
   "output_path": "__notebook__.ipynb",
   "parameters": {},
   "start_time": "2023-07-04T08:57:38.558499",
   "version": "2.4.0"
  },
  "widgets": {
   "application/vnd.jupyter.widget-state+json": {
    "state": {
     "01f646ef2b434f61b9a47b8b15d9b8e5": {
      "model_module": "@jupyter-widgets/controls",
      "model_module_version": "1.5.0",
      "model_name": "FloatProgressModel",
      "state": {
       "_dom_classes": [],
       "_model_module": "@jupyter-widgets/controls",
       "_model_module_version": "1.5.0",
       "_model_name": "FloatProgressModel",
       "_view_count": null,
       "_view_module": "@jupyter-widgets/controls",
       "_view_module_version": "1.5.0",
       "_view_name": "ProgressView",
       "bar_style": "success",
       "description": "",
       "description_tooltip": null,
       "layout": "IPY_MODEL_0ef96de61ac6439992f412fe13736c2f",
       "max": 3000.0,
       "min": 0.0,
       "orientation": "horizontal",
       "style": "IPY_MODEL_56803b6ce1544f5f83baff9262d854df",
       "value": 3000.0
      }
     },
     "0ef96de61ac6439992f412fe13736c2f": {
      "model_module": "@jupyter-widgets/base",
      "model_module_version": "1.2.0",
      "model_name": "LayoutModel",
      "state": {
       "_model_module": "@jupyter-widgets/base",
       "_model_module_version": "1.2.0",
       "_model_name": "LayoutModel",
       "_view_count": null,
       "_view_module": "@jupyter-widgets/base",
       "_view_module_version": "1.2.0",
       "_view_name": "LayoutView",
       "align_content": null,
       "align_items": null,
       "align_self": null,
       "border": null,
       "bottom": null,
       "display": null,
       "flex": null,
       "flex_flow": null,
       "grid_area": null,
       "grid_auto_columns": null,
       "grid_auto_flow": null,
       "grid_auto_rows": null,
       "grid_column": null,
       "grid_gap": null,
       "grid_row": null,
       "grid_template_areas": null,
       "grid_template_columns": null,
       "grid_template_rows": null,
       "height": null,
       "justify_content": null,
       "justify_items": null,
       "left": null,
       "margin": null,
       "max_height": null,
       "max_width": null,
       "min_height": null,
       "min_width": null,
       "object_fit": null,
       "object_position": null,
       "order": null,
       "overflow": null,
       "overflow_x": null,
       "overflow_y": null,
       "padding": null,
       "right": null,
       "top": null,
       "visibility": null,
       "width": null
      }
     },
     "2055e47753194f12b442c883bac0e6dc": {
      "model_module": "@jupyter-widgets/controls",
      "model_module_version": "1.5.0",
      "model_name": "FloatProgressModel",
      "state": {
       "_dom_classes": [],
       "_model_module": "@jupyter-widgets/controls",
       "_model_module_version": "1.5.0",
       "_model_name": "FloatProgressModel",
       "_view_count": null,
       "_view_module": "@jupyter-widgets/controls",
       "_view_module_version": "1.5.0",
       "_view_name": "ProgressView",
       "bar_style": "success",
       "description": "",
       "description_tooltip": null,
       "layout": "IPY_MODEL_6e623d8d315f463aae5530c7cbae93fe",
       "max": 3000.0,
       "min": 0.0,
       "orientation": "horizontal",
       "style": "IPY_MODEL_7b87781c46cf4ff783895ed90bcb0524",
       "value": 3000.0
      }
     },
     "4b3db27f9b9a4b2f9afaa19aa5c5edb0": {
      "model_module": "@jupyter-widgets/controls",
      "model_module_version": "1.5.0",
      "model_name": "DescriptionStyleModel",
      "state": {
       "_model_module": "@jupyter-widgets/controls",
       "_model_module_version": "1.5.0",
       "_model_name": "DescriptionStyleModel",
       "_view_count": null,
       "_view_module": "@jupyter-widgets/base",
       "_view_module_version": "1.2.0",
       "_view_name": "StyleView",
       "description_width": ""
      }
     },
     "4f7af0f49819426191dbd653f8f45290": {
      "model_module": "@jupyter-widgets/controls",
      "model_module_version": "1.5.0",
      "model_name": "DescriptionStyleModel",
      "state": {
       "_model_module": "@jupyter-widgets/controls",
       "_model_module_version": "1.5.0",
       "_model_name": "DescriptionStyleModel",
       "_view_count": null,
       "_view_module": "@jupyter-widgets/base",
       "_view_module_version": "1.2.0",
       "_view_name": "StyleView",
       "description_width": ""
      }
     },
     "55de525ef59645caaa839759e63522bb": {
      "model_module": "@jupyter-widgets/controls",
      "model_module_version": "1.5.0",
      "model_name": "HBoxModel",
      "state": {
       "_dom_classes": [],
       "_model_module": "@jupyter-widgets/controls",
       "_model_module_version": "1.5.0",
       "_model_name": "HBoxModel",
       "_view_count": null,
       "_view_module": "@jupyter-widgets/controls",
       "_view_module_version": "1.5.0",
       "_view_name": "HBoxView",
       "box_style": "",
       "children": [
        "IPY_MODEL_7962d95291004695b6cb3b382861ed55",
        "IPY_MODEL_2055e47753194f12b442c883bac0e6dc",
        "IPY_MODEL_d7bd471f08fc42e39623368fd49acde2"
       ],
       "layout": "IPY_MODEL_f860bbeea5ed43c3abc6312c0677a6be"
      }
     },
     "56803b6ce1544f5f83baff9262d854df": {
      "model_module": "@jupyter-widgets/controls",
      "model_module_version": "1.5.0",
      "model_name": "ProgressStyleModel",
      "state": {
       "_model_module": "@jupyter-widgets/controls",
       "_model_module_version": "1.5.0",
       "_model_name": "ProgressStyleModel",
       "_view_count": null,
       "_view_module": "@jupyter-widgets/base",
       "_view_module_version": "1.2.0",
       "_view_name": "StyleView",
       "bar_color": null,
       "description_width": ""
      }
     },
     "6014c44a7bfc4d348c937636800424ab": {
      "model_module": "@jupyter-widgets/base",
      "model_module_version": "1.2.0",
      "model_name": "LayoutModel",
      "state": {
       "_model_module": "@jupyter-widgets/base",
       "_model_module_version": "1.2.0",
       "_model_name": "LayoutModel",
       "_view_count": null,
       "_view_module": "@jupyter-widgets/base",
       "_view_module_version": "1.2.0",
       "_view_name": "LayoutView",
       "align_content": null,
       "align_items": null,
       "align_self": null,
       "border": null,
       "bottom": null,
       "display": null,
       "flex": null,
       "flex_flow": null,
       "grid_area": null,
       "grid_auto_columns": null,
       "grid_auto_flow": null,
       "grid_auto_rows": null,
       "grid_column": null,
       "grid_gap": null,
       "grid_row": null,
       "grid_template_areas": null,
       "grid_template_columns": null,
       "grid_template_rows": null,
       "height": null,
       "justify_content": null,
       "justify_items": null,
       "left": null,
       "margin": null,
       "max_height": null,
       "max_width": null,
       "min_height": null,
       "min_width": null,
       "object_fit": null,
       "object_position": null,
       "order": null,
       "overflow": null,
       "overflow_x": null,
       "overflow_y": null,
       "padding": null,
       "right": null,
       "top": null,
       "visibility": null,
       "width": null
      }
     },
     "69435a195a04497fb007c33de973ac61": {
      "model_module": "@jupyter-widgets/controls",
      "model_module_version": "1.5.0",
      "model_name": "DescriptionStyleModel",
      "state": {
       "_model_module": "@jupyter-widgets/controls",
       "_model_module_version": "1.5.0",
       "_model_name": "DescriptionStyleModel",
       "_view_count": null,
       "_view_module": "@jupyter-widgets/base",
       "_view_module_version": "1.2.0",
       "_view_name": "StyleView",
       "description_width": ""
      }
     },
     "6c2108c348ae47a18bcd8eb8d6428055": {
      "model_module": "@jupyter-widgets/controls",
      "model_module_version": "1.5.0",
      "model_name": "DescriptionStyleModel",
      "state": {
       "_model_module": "@jupyter-widgets/controls",
       "_model_module_version": "1.5.0",
       "_model_name": "DescriptionStyleModel",
       "_view_count": null,
       "_view_module": "@jupyter-widgets/base",
       "_view_module_version": "1.2.0",
       "_view_name": "StyleView",
       "description_width": ""
      }
     },
     "6e623d8d315f463aae5530c7cbae93fe": {
      "model_module": "@jupyter-widgets/base",
      "model_module_version": "1.2.0",
      "model_name": "LayoutModel",
      "state": {
       "_model_module": "@jupyter-widgets/base",
       "_model_module_version": "1.2.0",
       "_model_name": "LayoutModel",
       "_view_count": null,
       "_view_module": "@jupyter-widgets/base",
       "_view_module_version": "1.2.0",
       "_view_name": "LayoutView",
       "align_content": null,
       "align_items": null,
       "align_self": null,
       "border": null,
       "bottom": null,
       "display": null,
       "flex": null,
       "flex_flow": null,
       "grid_area": null,
       "grid_auto_columns": null,
       "grid_auto_flow": null,
       "grid_auto_rows": null,
       "grid_column": null,
       "grid_gap": null,
       "grid_row": null,
       "grid_template_areas": null,
       "grid_template_columns": null,
       "grid_template_rows": null,
       "height": null,
       "justify_content": null,
       "justify_items": null,
       "left": null,
       "margin": null,
       "max_height": null,
       "max_width": null,
       "min_height": null,
       "min_width": null,
       "object_fit": null,
       "object_position": null,
       "order": null,
       "overflow": null,
       "overflow_x": null,
       "overflow_y": null,
       "padding": null,
       "right": null,
       "top": null,
       "visibility": null,
       "width": null
      }
     },
     "7962d95291004695b6cb3b382861ed55": {
      "model_module": "@jupyter-widgets/controls",
      "model_module_version": "1.5.0",
      "model_name": "HTMLModel",
      "state": {
       "_dom_classes": [],
       "_model_module": "@jupyter-widgets/controls",
       "_model_module_version": "1.5.0",
       "_model_name": "HTMLModel",
       "_view_count": null,
       "_view_module": "@jupyter-widgets/controls",
       "_view_module_version": "1.5.0",
       "_view_name": "HTMLView",
       "description": "",
       "description_tooltip": null,
       "layout": "IPY_MODEL_9da1d584e45e494d951ef8647bc12324",
       "placeholder": "​",
       "style": "IPY_MODEL_6c2108c348ae47a18bcd8eb8d6428055",
       "value": "Best trial: 136. Best value: 0.710597: 100%"
      }
     },
     "7b87781c46cf4ff783895ed90bcb0524": {
      "model_module": "@jupyter-widgets/controls",
      "model_module_version": "1.5.0",
      "model_name": "ProgressStyleModel",
      "state": {
       "_model_module": "@jupyter-widgets/controls",
       "_model_module_version": "1.5.0",
       "_model_name": "ProgressStyleModel",
       "_view_count": null,
       "_view_module": "@jupyter-widgets/base",
       "_view_module_version": "1.2.0",
       "_view_name": "StyleView",
       "bar_color": null,
       "description_width": ""
      }
     },
     "93e4938209b346fd8684c0b17f6fa2f0": {
      "model_module": "@jupyter-widgets/controls",
      "model_module_version": "1.5.0",
      "model_name": "HBoxModel",
      "state": {
       "_dom_classes": [],
       "_model_module": "@jupyter-widgets/controls",
       "_model_module_version": "1.5.0",
       "_model_name": "HBoxModel",
       "_view_count": null,
       "_view_module": "@jupyter-widgets/controls",
       "_view_module_version": "1.5.0",
       "_view_name": "HBoxView",
       "box_style": "",
       "children": [
        "IPY_MODEL_b96e9861823149689218e59f209362ca",
        "IPY_MODEL_01f646ef2b434f61b9a47b8b15d9b8e5",
        "IPY_MODEL_94b71eac8b5646a8b91b4c84e6a5dc2b"
       ],
       "layout": "IPY_MODEL_e5c059ba0e9e48889363fe7ed27770c1"
      }
     },
     "94b71eac8b5646a8b91b4c84e6a5dc2b": {
      "model_module": "@jupyter-widgets/controls",
      "model_module_version": "1.5.0",
      "model_name": "HTMLModel",
      "state": {
       "_dom_classes": [],
       "_model_module": "@jupyter-widgets/controls",
       "_model_module_version": "1.5.0",
       "_model_name": "HTMLModel",
       "_view_count": null,
       "_view_module": "@jupyter-widgets/controls",
       "_view_module_version": "1.5.0",
       "_view_name": "HTMLView",
       "description": "",
       "description_tooltip": null,
       "layout": "IPY_MODEL_caa44726bc2348c3b7eb48a1ecfad3d3",
       "placeholder": "​",
       "style": "IPY_MODEL_4f7af0f49819426191dbd653f8f45290",
       "value": " 3000/3000 [1:30:48&lt;00:00,  2.06s/it]"
      }
     },
     "9da1d584e45e494d951ef8647bc12324": {
      "model_module": "@jupyter-widgets/base",
      "model_module_version": "1.2.0",
      "model_name": "LayoutModel",
      "state": {
       "_model_module": "@jupyter-widgets/base",
       "_model_module_version": "1.2.0",
       "_model_name": "LayoutModel",
       "_view_count": null,
       "_view_module": "@jupyter-widgets/base",
       "_view_module_version": "1.2.0",
       "_view_name": "LayoutView",
       "align_content": null,
       "align_items": null,
       "align_self": null,
       "border": null,
       "bottom": null,
       "display": null,
       "flex": null,
       "flex_flow": null,
       "grid_area": null,
       "grid_auto_columns": null,
       "grid_auto_flow": null,
       "grid_auto_rows": null,
       "grid_column": null,
       "grid_gap": null,
       "grid_row": null,
       "grid_template_areas": null,
       "grid_template_columns": null,
       "grid_template_rows": null,
       "height": null,
       "justify_content": null,
       "justify_items": null,
       "left": null,
       "margin": null,
       "max_height": null,
       "max_width": null,
       "min_height": null,
       "min_width": null,
       "object_fit": null,
       "object_position": null,
       "order": null,
       "overflow": null,
       "overflow_x": null,
       "overflow_y": null,
       "padding": null,
       "right": null,
       "top": null,
       "visibility": null,
       "width": null
      }
     },
     "b96e9861823149689218e59f209362ca": {
      "model_module": "@jupyter-widgets/controls",
      "model_module_version": "1.5.0",
      "model_name": "HTMLModel",
      "state": {
       "_dom_classes": [],
       "_model_module": "@jupyter-widgets/controls",
       "_model_module_version": "1.5.0",
       "_model_name": "HTMLModel",
       "_view_count": null,
       "_view_module": "@jupyter-widgets/controls",
       "_view_module_version": "1.5.0",
       "_view_name": "HTMLView",
       "description": "",
       "description_tooltip": null,
       "layout": "IPY_MODEL_6014c44a7bfc4d348c937636800424ab",
       "placeholder": "​",
       "style": "IPY_MODEL_69435a195a04497fb007c33de973ac61",
       "value": "Best trial: 188. Best value: 0.599643: 100%"
      }
     },
     "caa44726bc2348c3b7eb48a1ecfad3d3": {
      "model_module": "@jupyter-widgets/base",
      "model_module_version": "1.2.0",
      "model_name": "LayoutModel",
      "state": {
       "_model_module": "@jupyter-widgets/base",
       "_model_module_version": "1.2.0",
       "_model_name": "LayoutModel",
       "_view_count": null,
       "_view_module": "@jupyter-widgets/base",
       "_view_module_version": "1.2.0",
       "_view_name": "LayoutView",
       "align_content": null,
       "align_items": null,
       "align_self": null,
       "border": null,
       "bottom": null,
       "display": null,
       "flex": null,
       "flex_flow": null,
       "grid_area": null,
       "grid_auto_columns": null,
       "grid_auto_flow": null,
       "grid_auto_rows": null,
       "grid_column": null,
       "grid_gap": null,
       "grid_row": null,
       "grid_template_areas": null,
       "grid_template_columns": null,
       "grid_template_rows": null,
       "height": null,
       "justify_content": null,
       "justify_items": null,
       "left": null,
       "margin": null,
       "max_height": null,
       "max_width": null,
       "min_height": null,
       "min_width": null,
       "object_fit": null,
       "object_position": null,
       "order": null,
       "overflow": null,
       "overflow_x": null,
       "overflow_y": null,
       "padding": null,
       "right": null,
       "top": null,
       "visibility": null,
       "width": null
      }
     },
     "d7bd471f08fc42e39623368fd49acde2": {
      "model_module": "@jupyter-widgets/controls",
      "model_module_version": "1.5.0",
      "model_name": "HTMLModel",
      "state": {
       "_dom_classes": [],
       "_model_module": "@jupyter-widgets/controls",
       "_model_module_version": "1.5.0",
       "_model_name": "HTMLModel",
       "_view_count": null,
       "_view_module": "@jupyter-widgets/controls",
       "_view_module_version": "1.5.0",
       "_view_name": "HTMLView",
       "description": "",
       "description_tooltip": null,
       "layout": "IPY_MODEL_e7aff194a6924cc3a0f8ce6e894e6964",
       "placeholder": "​",
       "style": "IPY_MODEL_4b3db27f9b9a4b2f9afaa19aa5c5edb0",
       "value": " 3000/3000 [1:42:17&lt;00:00,  1.06s/it]"
      }
     },
     "e5c059ba0e9e48889363fe7ed27770c1": {
      "model_module": "@jupyter-widgets/base",
      "model_module_version": "1.2.0",
      "model_name": "LayoutModel",
      "state": {
       "_model_module": "@jupyter-widgets/base",
       "_model_module_version": "1.2.0",
       "_model_name": "LayoutModel",
       "_view_count": null,
       "_view_module": "@jupyter-widgets/base",
       "_view_module_version": "1.2.0",
       "_view_name": "LayoutView",
       "align_content": null,
       "align_items": null,
       "align_self": null,
       "border": null,
       "bottom": null,
       "display": null,
       "flex": null,
       "flex_flow": null,
       "grid_area": null,
       "grid_auto_columns": null,
       "grid_auto_flow": null,
       "grid_auto_rows": null,
       "grid_column": null,
       "grid_gap": null,
       "grid_row": null,
       "grid_template_areas": null,
       "grid_template_columns": null,
       "grid_template_rows": null,
       "height": null,
       "justify_content": null,
       "justify_items": null,
       "left": null,
       "margin": null,
       "max_height": null,
       "max_width": null,
       "min_height": null,
       "min_width": null,
       "object_fit": null,
       "object_position": null,
       "order": null,
       "overflow": null,
       "overflow_x": null,
       "overflow_y": null,
       "padding": null,
       "right": null,
       "top": null,
       "visibility": null,
       "width": null
      }
     },
     "e7aff194a6924cc3a0f8ce6e894e6964": {
      "model_module": "@jupyter-widgets/base",
      "model_module_version": "1.2.0",
      "model_name": "LayoutModel",
      "state": {
       "_model_module": "@jupyter-widgets/base",
       "_model_module_version": "1.2.0",
       "_model_name": "LayoutModel",
       "_view_count": null,
       "_view_module": "@jupyter-widgets/base",
       "_view_module_version": "1.2.0",
       "_view_name": "LayoutView",
       "align_content": null,
       "align_items": null,
       "align_self": null,
       "border": null,
       "bottom": null,
       "display": null,
       "flex": null,
       "flex_flow": null,
       "grid_area": null,
       "grid_auto_columns": null,
       "grid_auto_flow": null,
       "grid_auto_rows": null,
       "grid_column": null,
       "grid_gap": null,
       "grid_row": null,
       "grid_template_areas": null,
       "grid_template_columns": null,
       "grid_template_rows": null,
       "height": null,
       "justify_content": null,
       "justify_items": null,
       "left": null,
       "margin": null,
       "max_height": null,
       "max_width": null,
       "min_height": null,
       "min_width": null,
       "object_fit": null,
       "object_position": null,
       "order": null,
       "overflow": null,
       "overflow_x": null,
       "overflow_y": null,
       "padding": null,
       "right": null,
       "top": null,
       "visibility": null,
       "width": null
      }
     },
     "f860bbeea5ed43c3abc6312c0677a6be": {
      "model_module": "@jupyter-widgets/base",
      "model_module_version": "1.2.0",
      "model_name": "LayoutModel",
      "state": {
       "_model_module": "@jupyter-widgets/base",
       "_model_module_version": "1.2.0",
       "_model_name": "LayoutModel",
       "_view_count": null,
       "_view_module": "@jupyter-widgets/base",
       "_view_module_version": "1.2.0",
       "_view_name": "LayoutView",
       "align_content": null,
       "align_items": null,
       "align_self": null,
       "border": null,
       "bottom": null,
       "display": null,
       "flex": null,
       "flex_flow": null,
       "grid_area": null,
       "grid_auto_columns": null,
       "grid_auto_flow": null,
       "grid_auto_rows": null,
       "grid_column": null,
       "grid_gap": null,
       "grid_row": null,
       "grid_template_areas": null,
       "grid_template_columns": null,
       "grid_template_rows": null,
       "height": null,
       "justify_content": null,
       "justify_items": null,
       "left": null,
       "margin": null,
       "max_height": null,
       "max_width": null,
       "min_height": null,
       "min_width": null,
       "object_fit": null,
       "object_position": null,
       "order": null,
       "overflow": null,
       "overflow_x": null,
       "overflow_y": null,
       "padding": null,
       "right": null,
       "top": null,
       "visibility": null,
       "width": null
      }
     }
    },
    "version_major": 2,
    "version_minor": 0
   }
  }
 },
 "nbformat": 4,
 "nbformat_minor": 5
}
