{
 "cells": [
  {
   "cell_type": "markdown",
   "id": "bd547d81",
   "metadata": {
    "papermill": {
     "duration": 0.003393,
     "end_time": "2023-07-04T09:37:19.480186",
     "exception": false,
     "start_time": "2023-07-04T09:37:19.476793",
     "status": "completed"
    },
    "tags": []
   },
   "source": [
    "### Getting started\n"
   ]
  },
  {
   "cell_type": "code",
   "execution_count": 1,
   "id": "100f7c88",
   "metadata": {
    "_cell_guid": "b1076dfc-b9ad-4769-8c92-a6c4dae69d19",
    "_uuid": "8f2839f25d086af736a60e9eeb907d3b93b6e0e5",
    "execution": {
     "iopub.execute_input": "2023-07-04T09:37:19.487258Z",
     "iopub.status.busy": "2023-07-04T09:37:19.486911Z",
     "iopub.status.idle": "2023-07-04T09:37:22.958321Z",
     "shell.execute_reply": "2023-07-04T09:37:22.956964Z"
    },
    "papermill": {
     "duration": 3.478676,
     "end_time": "2023-07-04T09:37:22.961692",
     "exception": false,
     "start_time": "2023-07-04T09:37:19.483016",
     "status": "completed"
    },
    "tags": []
   },
   "outputs": [],
   "source": [
    "import warnings\n",
    "warnings.filterwarnings('ignore')\n",
    "\n",
    "import pandas as pd\n",
    "pd.set_option('display.max_columns', None)\n",
    "import numpy as np\n",
    "import scipy\n",
    "\n",
    "import matplotlib.pyplot as plt\n",
    "%matplotlib inline\n",
    "import seaborn as sns\n",
    "sns.set()\n",
    "\n",
    "from sklearn.preprocessing import StandardScaler, FunctionTransformer, PolynomialFeatures\n",
    "from sklearn.decomposition import PCA\n",
    "from sklearn.model_selection import StratifiedKFold, RepeatedStratifiedKFold, cross_val_score, cross_val_predict, cross_validate, train_test_split\n",
    "from sklearn.ensemble import RandomForestClassifier, ExtraTreesClassifier, VotingClassifier, HistGradientBoostingClassifier, BaggingClassifier\n",
    "from sklearn.linear_model import LogisticRegression\n",
    "from sklearn.svm import SVC, LinearSVC\n",
    "from sklearn.pipeline import make_pipeline, Pipeline\n",
    "from sklearn.compose import ColumnTransformer\n",
    "from sklearn.neighbors import KNeighborsClassifier\n",
    "from sklearn.metrics import roc_auc_score\n",
    "\n",
    "from lightgbm import LGBMClassifier\n",
    "\n",
    "import optuna\n",
    "from optuna.samplers import TPESampler\n",
    "# Set the log level for the optuna package to WARNING\n",
    "optuna.logging.set_verbosity(optuna.logging.WARNING)\n",
    "# Run Optuna optimization for each model\n",
    "sampler = TPESampler(seed=42)\n"
   ]
  },
  {
   "cell_type": "code",
   "execution_count": 2,
   "id": "16544247",
   "metadata": {
    "execution": {
     "iopub.execute_input": "2023-07-04T09:37:22.969238Z",
     "iopub.status.busy": "2023-07-04T09:37:22.968930Z",
     "iopub.status.idle": "2023-07-04T09:37:23.376799Z",
     "shell.execute_reply": "2023-07-04T09:37:23.375730Z"
    },
    "papermill": {
     "duration": 0.413862,
     "end_time": "2023-07-04T09:37:23.378642",
     "exception": false,
     "start_time": "2023-07-04T09:37:22.964780",
     "status": "completed"
    },
    "tags": []
   },
   "outputs": [
    {
     "data": {
      "text/plain": [
       "((14838, 37),\n",
       " (15859, 37),\n",
       " (15769, 31),\n",
       " (15826, 33),\n",
       " (15841, 37),\n",
       " (15769, 31),\n",
       " (15805, 33))"
      ]
     },
     "execution_count": 2,
     "metadata": {},
     "output_type": "execute_result"
    }
   ],
   "source": [
    "path1 = \"/kaggle/input/playground-series-s3e18/\"\n",
    "path2 = \"/kaggle/input/multi-label-classification-of-enzyme-substrates/\"\n",
    "\n",
    "sample = pd.read_csv(path1+\"sample_submission.csv\")\n",
    "train = pd.read_csv(path1+\"train.csv\",index_col='id')\n",
    "test = pd.read_csv(path1+\"test.csv\",index_col='id')\n",
    "original = pd.read_csv(path2+\"original.csv\",index_col='id')\n",
    "original_1 = pd.read_csv(path2+\"original_1.csv\",index_col='id')\n",
    "\n",
    "id_test = test.index # id column required for submission file\n",
    "targets = ['EC1', 'EC2']\n",
    "features = [f for f in test.columns if not f.startswith('EC')]\n",
    "features_EC1EC2 = features + ['EC1', 'EC2']\n",
    "\n",
    "# Combine playground dataset and synthetic dataset generated\n",
    "train1 = pd.concat([train,original]).drop_duplicates().reset_index(drop=True)\n",
    "train2 = pd.concat([train,original_1]).drop_duplicates().reset_index(drop=True)\n",
    "\n",
    "train1a = train1[features].drop_duplicates().reset_index(drop=True)\n",
    "train2a = train2[features].drop_duplicates().reset_index(drop=True)\n",
    "\n",
    "train1b = train1[features_EC1EC2].drop_duplicates().reset_index(drop=True)\n",
    "train2b = train2[features_EC1EC2].drop_duplicates().reset_index(drop=True)\n",
    "\n",
    "train.shape, train1.shape, train1a.shape, train1b.shape, train2.shape, train2a.shape, train2b.shape"
   ]
  },
  {
   "cell_type": "markdown",
   "id": "b9e9d8f8",
   "metadata": {
    "papermill": {
     "duration": 0.00263,
     "end_time": "2023-07-04T09:37:23.384417",
     "exception": false,
     "start_time": "2023-07-04T09:37:23.381787",
     "status": "completed"
    },
    "tags": []
   },
   "source": [
    "Notes:-  \n",
    "- The original dataset has multiple files with different target (EC1~EC6) values.\n",
    "- The original.csv has a set of target values from _ecfp file. This is combined with the trainset as train1 dataset here.\n",
    "- The original_1.csv has a set of target values from _desc file. This is combined with the trainset as train2 dataset here.\n",
    "\n",
    "Further notes:-\n",
    "- train1a and train2a are further skimmed down with dropped duplicates looking at only the features columns only.\n",
    "- The same is applied to train1b and train2b, with dropping duplicates looking at feature columns and EC1+EC2 columns.\n",
    "- This means that in the duplicated rows, same set of features results in different target values.\n"
   ]
  },
  {
   "cell_type": "markdown",
   "id": "e2cb1676",
   "metadata": {
    "papermill": {
     "duration": 0.002569,
     "end_time": "2023-07-04T09:37:23.389835",
     "exception": false,
     "start_time": "2023-07-04T09:37:23.387266",
     "status": "completed"
    },
    "tags": []
   },
   "source": [
    "# Modelling the problem\n",
    "\n",
    "There are two general approaches here:\n",
    "1. To treat the two targets separately with two separate models to make the best of each models.\n",
    "2. To use a wrapper such as MultiOutputClassifer from sk.learn package to predict them together in one model.\n",
    "\n",
    "In such binary classification problem, the following are some popular modelling implementations:\n",
    "1. RandomForestClassifier\n",
    "2. KNeighborsClassifier\n",
    "3. ExtraTreesClassifier\n",
    "4. LogisticRegression\n",
    "5. BaggingClassifier with LogisticRegression\n",
    "6. LGBMClassifier\n",
    "7. XGBClassifier\n",
    "8. CatBoostClassfier\n"
   ]
  },
  {
   "cell_type": "markdown",
   "id": "c5580dec",
   "metadata": {
    "papermill": {
     "duration": 0.002669,
     "end_time": "2023-07-04T09:37:23.395247",
     "exception": false,
     "start_time": "2023-07-04T09:37:23.392578",
     "status": "completed"
    },
    "tags": []
   },
   "source": [
    "# Perform train-test split"
   ]
  },
  {
   "cell_type": "code",
   "execution_count": 3,
   "id": "b23d1e59",
   "metadata": {
    "execution": {
     "iopub.execute_input": "2023-07-04T09:37:23.402500Z",
     "iopub.status.busy": "2023-07-04T09:37:23.402189Z",
     "iopub.status.idle": "2023-07-04T09:37:23.420766Z",
     "shell.execute_reply": "2023-07-04T09:37:23.419403Z"
    },
    "papermill": {
     "duration": 0.025467,
     "end_time": "2023-07-04T09:37:23.423437",
     "exception": false,
     "start_time": "2023-07-04T09:37:23.397970",
     "status": "completed"
    },
    "tags": []
   },
   "outputs": [],
   "source": [
    "X = train[features]\n",
    "y1 = train['EC1']\n",
    "y2 = train['EC2']\n",
    "X_train1, X_valid1, y_train1, y_valid1 = train_test_split(X,y1,train_size=0.8,test_size=0.2,random_state=42)\n",
    "X_train2, X_valid2, y_train2, y_valid2 = train_test_split(X,y2,train_size=0.8,test_size=0.2,random_state=42)"
   ]
  },
  {
   "cell_type": "markdown",
   "id": "165f3d6d",
   "metadata": {
    "papermill": {
     "duration": 0.002748,
     "end_time": "2023-07-04T09:37:23.429443",
     "exception": false,
     "start_time": "2023-07-04T09:37:23.426695",
     "status": "completed"
    },
    "tags": []
   },
   "source": [
    "# Perform Optuna's Optimazation"
   ]
  },
  {
   "cell_type": "markdown",
   "id": "8411995b",
   "metadata": {
    "execution": {
     "iopub.execute_input": "2023-07-04T08:38:17.875218Z",
     "iopub.status.busy": "2023-07-04T08:38:17.874769Z",
     "iopub.status.idle": "2023-07-04T08:38:17.880715Z",
     "shell.execute_reply": "2023-07-04T08:38:17.879675Z",
     "shell.execute_reply.started": "2023-07-04T08:38:17.875177Z"
    },
    "papermill": {
     "duration": 0.004098,
     "end_time": "2023-07-04T09:37:23.436410",
     "exception": false,
     "start_time": "2023-07-04T09:37:23.432312",
     "status": "completed"
    },
    "tags": []
   },
   "source": [
    "# 6. LGBMClassifier"
   ]
  },
  {
   "cell_type": "code",
   "execution_count": 4,
   "id": "13451921",
   "metadata": {
    "execution": {
     "iopub.execute_input": "2023-07-04T09:37:23.444657Z",
     "iopub.status.busy": "2023-07-04T09:37:23.443484Z",
     "iopub.status.idle": "2023-07-04T09:37:23.453277Z",
     "shell.execute_reply": "2023-07-04T09:37:23.452185Z"
    },
    "papermill": {
     "duration": 0.016518,
     "end_time": "2023-07-04T09:37:23.455717",
     "exception": false,
     "start_time": "2023-07-04T09:37:23.439199",
     "status": "completed"
    },
    "tags": []
   },
   "outputs": [],
   "source": [
    "def lgbm_objective1(trial):\n",
    "    n_estimators = trial.suggest_int(\"n_estimators\", 50, 1000)\n",
    "    colsample_bytree = trial.suggest_float(\"colsample_bytree\", 0.5, 1)\n",
    "    min_child_samples = trial.suggest_int(\"min_child_samples\", 1, 20)\n",
    "    num_leaves = trial.suggest_int(\"num_leaves\", 20, 100)\n",
    "    subsample = trial.suggest_float(\"subsample\", 0.5, 1)\n",
    "    reg_lambda = trial.suggest_float(\"reg_lambda\", 0.1, 1)\n",
    "    learning_rate = trial.suggest_float(\"learning_rate\",0.01,0.1)\n",
    "\n",
    "    model = LGBMClassifier(n_estimators=n_estimators,\n",
    "                           colsample_bytree=colsample_bytree,\n",
    "                           min_child_samples=min_child_samples,\n",
    "                           num_leaves=num_leaves,\n",
    "                           subsample=subsample,\n",
    "                           reg_lambda=reg_lambda,\n",
    "                           learning_rate=learning_rate,\n",
    "                           random_state=42)\n",
    "    model.fit(X_train1,y_train1)\n",
    "    y_pred = model.predict_proba(X_valid1)[:,1]\n",
    "    auc = roc_auc_score(y_valid1,y_pred)\n",
    "    return auc\n",
    "\n",
    "def lgbm_objective2(trial):\n",
    "    n_estimators = trial.suggest_int(\"n_estimators\", 50, 1000)\n",
    "    colsample_bytree = trial.suggest_float(\"colsample_bytree\", 0.5, 1)\n",
    "    min_child_samples = trial.suggest_int(\"min_child_samples\", 1, 20)\n",
    "    num_leaves = trial.suggest_int(\"num_leaves\", 20, 100)\n",
    "    subsample = trial.suggest_float(\"subsample\", 0.5, 1)\n",
    "    reg_lambda = trial.suggest_float(\"reg_lambda\", 0.1, 1)\n",
    "    learning_rate = trial.suggest_float(\"learning_rate\",0.01,0.1)\n",
    "\n",
    "    model = LGBMClassifier(n_estimators=n_estimators,\n",
    "                           colsample_bytree=colsample_bytree,\n",
    "                           min_child_samples=min_child_samples,\n",
    "                           num_leaves=num_leaves,\n",
    "                           subsample=subsample,\n",
    "                           reg_lambda=reg_lambda,\n",
    "                           learning_rate=learning_rate,\n",
    "                           random_state=42)\n",
    "    model.fit(X_train2,y_train2)\n",
    "    y_pred = model.predict_proba(X_valid2)[:,1]\n",
    "    auc = roc_auc_score(y_valid2,y_pred)\n",
    "    return auc"
   ]
  },
  {
   "cell_type": "code",
   "execution_count": 5,
   "id": "25cb0f1e",
   "metadata": {
    "execution": {
     "iopub.execute_input": "2023-07-04T09:37:23.464872Z",
     "iopub.status.busy": "2023-07-04T09:37:23.463550Z",
     "iopub.status.idle": "2023-07-04T11:03:53.001496Z",
     "shell.execute_reply": "2023-07-04T11:03:53.000416Z"
    },
    "papermill": {
     "duration": 5189.544381,
     "end_time": "2023-07-04T11:03:53.003539",
     "exception": false,
     "start_time": "2023-07-04T09:37:23.459158",
     "status": "completed"
    },
    "tags": []
   },
   "outputs": [
    {
     "data": {
      "application/vnd.jupyter.widget-view+json": {
       "model_id": "c4598f0c6aad46adaef90bbe3a9edb4d",
       "version_major": 2,
       "version_minor": 0
      },
      "text/plain": [
       "  0%|          | 0/3000 [00:00<?, ?it/s]"
      ]
     },
     "metadata": {},
     "output_type": "display_data"
    },
    {
     "name": "stdout",
     "output_type": "stream",
     "text": [
      "Best scores for LGBMClassifier from Optuna:0.7072493354565803\n",
      "Best parameters for LGBMClassifier from Optuna:{'n_estimators': 50, 'colsample_bytree': 0.5507229319465622, 'min_child_samples': 9, 'num_leaves': 50, 'subsample': 0.6598526759532787, 'reg_lambda': 0.8038403157726732, 'learning_rate': 0.010009761278480958}\n",
      "CPU times: user 1h 17min 25s, sys: 46min 11s, total: 2h 3min 36s\n",
      "Wall time: 1h 26min 29s\n"
     ]
    }
   ],
   "source": [
    "%%time\n",
    "lgbm_1_study = optuna.create_study(direction=\"maximize\", sampler=sampler)\n",
    "lgbm_1_study.optimize(lgbm_objective1, n_trials=3000, show_progress_bar=True)\n",
    "lgbm_1_best_score = lgbm_1_study.best_trial.value\n",
    "lgbm_1_best_params = lgbm_1_study.best_trial.params\n",
    "print(f\"Best scores for LGBMClassifier from Optuna:{lgbm_1_best_score}\")\n",
    "print(f\"Best parameters for LGBMClassifier from Optuna:{lgbm_1_best_params}\")\n"
   ]
  },
  {
   "cell_type": "code",
   "execution_count": 6,
   "id": "528a0e1a",
   "metadata": {
    "execution": {
     "iopub.execute_input": "2023-07-04T11:03:53.011720Z",
     "iopub.status.busy": "2023-07-04T11:03:53.011329Z",
     "iopub.status.idle": "2023-07-04T12:15:04.643948Z",
     "shell.execute_reply": "2023-07-04T12:15:04.642469Z"
    },
    "papermill": {
     "duration": 4271.640169,
     "end_time": "2023-07-04T12:15:04.647119",
     "exception": false,
     "start_time": "2023-07-04T11:03:53.006950",
     "status": "completed"
    },
    "tags": []
   },
   "outputs": [
    {
     "data": {
      "application/vnd.jupyter.widget-view+json": {
       "model_id": "bb189011ccc24a9c9d51bc25bbf4ff47",
       "version_major": 2,
       "version_minor": 0
      },
      "text/plain": [
       "  0%|          | 0/3000 [00:00<?, ?it/s]"
      ]
     },
     "metadata": {},
     "output_type": "display_data"
    },
    {
     "name": "stdout",
     "output_type": "stream",
     "text": [
      "Best scores for LGBMClassifier from Optuna:0.6033604753521127\n",
      "Best parameters for LGBMClassifier from Optuna:{'n_estimators': 53, 'colsample_bytree': 0.7674075661162904, 'min_child_samples': 13, 'num_leaves': 30, 'subsample': 0.8703236966385992, 'reg_lambda': 0.2916031581382088, 'learning_rate': 0.041242999842440384}\n",
      "CPU times: user 1h 9min 4s, sys: 35min 13s, total: 1h 44min 18s\n",
      "Wall time: 1h 11min 11s\n"
     ]
    }
   ],
   "source": [
    "%%time\n",
    "lgbm_2_study = optuna.create_study(direction=\"maximize\", sampler=sampler)\n",
    "lgbm_2_study.optimize(lgbm_objective2, n_trials=3000, show_progress_bar=True)\n",
    "lgbm_2_best_score = lgbm_2_study.best_trial.value\n",
    "lgbm_2_best_params = lgbm_2_study.best_trial.params\n",
    "print(f\"Best scores for LGBMClassifier from Optuna:{lgbm_2_best_score}\")\n",
    "print(f\"Best parameters for LGBMClassifier from Optuna:{lgbm_2_best_params}\")\n"
   ]
  }
 ],
 "metadata": {
  "kernelspec": {
   "display_name": "Python 3",
   "language": "python",
   "name": "python3"
  },
  "language_info": {
   "codemirror_mode": {
    "name": "ipython",
    "version": 3
   },
   "file_extension": ".py",
   "mimetype": "text/x-python",
   "name": "python",
   "nbconvert_exporter": "python",
   "pygments_lexer": "ipython3",
   "version": "3.10.10"
  },
  "papermill": {
   "default_parameters": {},
   "duration": 9475.343064,
   "end_time": "2023-07-04T12:15:05.889843",
   "environment_variables": {},
   "exception": null,
   "input_path": "__notebook__.ipynb",
   "output_path": "__notebook__.ipynb",
   "parameters": {},
   "start_time": "2023-07-04T09:37:10.546779",
   "version": "2.4.0"
  },
  "widgets": {
   "application/vnd.jupyter.widget-state+json": {
    "state": {
     "0238496d35fc460fa61de23dab0584fc": {
      "model_module": "@jupyter-widgets/controls",
      "model_module_version": "1.5.0",
      "model_name": "ProgressStyleModel",
      "state": {
       "_model_module": "@jupyter-widgets/controls",
       "_model_module_version": "1.5.0",
       "_model_name": "ProgressStyleModel",
       "_view_count": null,
       "_view_module": "@jupyter-widgets/base",
       "_view_module_version": "1.2.0",
       "_view_name": "StyleView",
       "bar_color": null,
       "description_width": ""
      }
     },
     "0f311e9fd71c4a928644b71000189134": {
      "model_module": "@jupyter-widgets/base",
      "model_module_version": "1.2.0",
      "model_name": "LayoutModel",
      "state": {
       "_model_module": "@jupyter-widgets/base",
       "_model_module_version": "1.2.0",
       "_model_name": "LayoutModel",
       "_view_count": null,
       "_view_module": "@jupyter-widgets/base",
       "_view_module_version": "1.2.0",
       "_view_name": "LayoutView",
       "align_content": null,
       "align_items": null,
       "align_self": null,
       "border": null,
       "bottom": null,
       "display": null,
       "flex": null,
       "flex_flow": null,
       "grid_area": null,
       "grid_auto_columns": null,
       "grid_auto_flow": null,
       "grid_auto_rows": null,
       "grid_column": null,
       "grid_gap": null,
       "grid_row": null,
       "grid_template_areas": null,
       "grid_template_columns": null,
       "grid_template_rows": null,
       "height": null,
       "justify_content": null,
       "justify_items": null,
       "left": null,
       "margin": null,
       "max_height": null,
       "max_width": null,
       "min_height": null,
       "min_width": null,
       "object_fit": null,
       "object_position": null,
       "order": null,
       "overflow": null,
       "overflow_x": null,
       "overflow_y": null,
       "padding": null,
       "right": null,
       "top": null,
       "visibility": null,
       "width": null
      }
     },
     "27e490871b1d4fc89de61e613d520c6e": {
      "model_module": "@jupyter-widgets/controls",
      "model_module_version": "1.5.0",
      "model_name": "DescriptionStyleModel",
      "state": {
       "_model_module": "@jupyter-widgets/controls",
       "_model_module_version": "1.5.0",
       "_model_name": "DescriptionStyleModel",
       "_view_count": null,
       "_view_module": "@jupyter-widgets/base",
       "_view_module_version": "1.2.0",
       "_view_name": "StyleView",
       "description_width": ""
      }
     },
     "2b6b6918822b4f72b8ed2b720de280fc": {
      "model_module": "@jupyter-widgets/controls",
      "model_module_version": "1.5.0",
      "model_name": "DescriptionStyleModel",
      "state": {
       "_model_module": "@jupyter-widgets/controls",
       "_model_module_version": "1.5.0",
       "_model_name": "DescriptionStyleModel",
       "_view_count": null,
       "_view_module": "@jupyter-widgets/base",
       "_view_module_version": "1.2.0",
       "_view_name": "StyleView",
       "description_width": ""
      }
     },
     "471945ad9c314ab3a72f6de89570353c": {
      "model_module": "@jupyter-widgets/controls",
      "model_module_version": "1.5.0",
      "model_name": "FloatProgressModel",
      "state": {
       "_dom_classes": [],
       "_model_module": "@jupyter-widgets/controls",
       "_model_module_version": "1.5.0",
       "_model_name": "FloatProgressModel",
       "_view_count": null,
       "_view_module": "@jupyter-widgets/controls",
       "_view_module_version": "1.5.0",
       "_view_name": "ProgressView",
       "bar_style": "success",
       "description": "",
       "description_tooltip": null,
       "layout": "IPY_MODEL_a7cfbb3aae4847999374faa7c72dd2e9",
       "max": 3000.0,
       "min": 0.0,
       "orientation": "horizontal",
       "style": "IPY_MODEL_0238496d35fc460fa61de23dab0584fc",
       "value": 3000.0
      }
     },
     "6ea66165277d4339a874fd75590b2a0a": {
      "model_module": "@jupyter-widgets/base",
      "model_module_version": "1.2.0",
      "model_name": "LayoutModel",
      "state": {
       "_model_module": "@jupyter-widgets/base",
       "_model_module_version": "1.2.0",
       "_model_name": "LayoutModel",
       "_view_count": null,
       "_view_module": "@jupyter-widgets/base",
       "_view_module_version": "1.2.0",
       "_view_name": "LayoutView",
       "align_content": null,
       "align_items": null,
       "align_self": null,
       "border": null,
       "bottom": null,
       "display": null,
       "flex": null,
       "flex_flow": null,
       "grid_area": null,
       "grid_auto_columns": null,
       "grid_auto_flow": null,
       "grid_auto_rows": null,
       "grid_column": null,
       "grid_gap": null,
       "grid_row": null,
       "grid_template_areas": null,
       "grid_template_columns": null,
       "grid_template_rows": null,
       "height": null,
       "justify_content": null,
       "justify_items": null,
       "left": null,
       "margin": null,
       "max_height": null,
       "max_width": null,
       "min_height": null,
       "min_width": null,
       "object_fit": null,
       "object_position": null,
       "order": null,
       "overflow": null,
       "overflow_x": null,
       "overflow_y": null,
       "padding": null,
       "right": null,
       "top": null,
       "visibility": null,
       "width": null
      }
     },
     "6f264ccca846472ca6928a35a6bc50ac": {
      "model_module": "@jupyter-widgets/controls",
      "model_module_version": "1.5.0",
      "model_name": "ProgressStyleModel",
      "state": {
       "_model_module": "@jupyter-widgets/controls",
       "_model_module_version": "1.5.0",
       "_model_name": "ProgressStyleModel",
       "_view_count": null,
       "_view_module": "@jupyter-widgets/base",
       "_view_module_version": "1.2.0",
       "_view_name": "StyleView",
       "bar_color": null,
       "description_width": ""
      }
     },
     "8558dbdf8ab2410c9be41fa274963d94": {
      "model_module": "@jupyter-widgets/base",
      "model_module_version": "1.2.0",
      "model_name": "LayoutModel",
      "state": {
       "_model_module": "@jupyter-widgets/base",
       "_model_module_version": "1.2.0",
       "_model_name": "LayoutModel",
       "_view_count": null,
       "_view_module": "@jupyter-widgets/base",
       "_view_module_version": "1.2.0",
       "_view_name": "LayoutView",
       "align_content": null,
       "align_items": null,
       "align_self": null,
       "border": null,
       "bottom": null,
       "display": null,
       "flex": null,
       "flex_flow": null,
       "grid_area": null,
       "grid_auto_columns": null,
       "grid_auto_flow": null,
       "grid_auto_rows": null,
       "grid_column": null,
       "grid_gap": null,
       "grid_row": null,
       "grid_template_areas": null,
       "grid_template_columns": null,
       "grid_template_rows": null,
       "height": null,
       "justify_content": null,
       "justify_items": null,
       "left": null,
       "margin": null,
       "max_height": null,
       "max_width": null,
       "min_height": null,
       "min_width": null,
       "object_fit": null,
       "object_position": null,
       "order": null,
       "overflow": null,
       "overflow_x": null,
       "overflow_y": null,
       "padding": null,
       "right": null,
       "top": null,
       "visibility": null,
       "width": null
      }
     },
     "8a8b1630456148a1b00e28b744258930": {
      "model_module": "@jupyter-widgets/base",
      "model_module_version": "1.2.0",
      "model_name": "LayoutModel",
      "state": {
       "_model_module": "@jupyter-widgets/base",
       "_model_module_version": "1.2.0",
       "_model_name": "LayoutModel",
       "_view_count": null,
       "_view_module": "@jupyter-widgets/base",
       "_view_module_version": "1.2.0",
       "_view_name": "LayoutView",
       "align_content": null,
       "align_items": null,
       "align_self": null,
       "border": null,
       "bottom": null,
       "display": null,
       "flex": null,
       "flex_flow": null,
       "grid_area": null,
       "grid_auto_columns": null,
       "grid_auto_flow": null,
       "grid_auto_rows": null,
       "grid_column": null,
       "grid_gap": null,
       "grid_row": null,
       "grid_template_areas": null,
       "grid_template_columns": null,
       "grid_template_rows": null,
       "height": null,
       "justify_content": null,
       "justify_items": null,
       "left": null,
       "margin": null,
       "max_height": null,
       "max_width": null,
       "min_height": null,
       "min_width": null,
       "object_fit": null,
       "object_position": null,
       "order": null,
       "overflow": null,
       "overflow_x": null,
       "overflow_y": null,
       "padding": null,
       "right": null,
       "top": null,
       "visibility": null,
       "width": null
      }
     },
     "917e44a0600e421daf742370fc2decbb": {
      "model_module": "@jupyter-widgets/controls",
      "model_module_version": "1.5.0",
      "model_name": "HTMLModel",
      "state": {
       "_dom_classes": [],
       "_model_module": "@jupyter-widgets/controls",
       "_model_module_version": "1.5.0",
       "_model_name": "HTMLModel",
       "_view_count": null,
       "_view_module": "@jupyter-widgets/controls",
       "_view_module_version": "1.5.0",
       "_view_name": "HTMLView",
       "description": "",
       "description_tooltip": null,
       "layout": "IPY_MODEL_e9f5627e7d3b4942b4ce21e5ed49be21",
       "placeholder": "​",
       "style": "IPY_MODEL_adfcfd3e1b0c42c9baba88f657bf024a",
       "value": "Best trial: 1821. Best value: 0.60336: 100%"
      }
     },
     "9952bebd1a3844bfaa09d1194fc77781": {
      "model_module": "@jupyter-widgets/controls",
      "model_module_version": "1.5.0",
      "model_name": "FloatProgressModel",
      "state": {
       "_dom_classes": [],
       "_model_module": "@jupyter-widgets/controls",
       "_model_module_version": "1.5.0",
       "_model_name": "FloatProgressModel",
       "_view_count": null,
       "_view_module": "@jupyter-widgets/controls",
       "_view_module_version": "1.5.0",
       "_view_name": "ProgressView",
       "bar_style": "success",
       "description": "",
       "description_tooltip": null,
       "layout": "IPY_MODEL_6ea66165277d4339a874fd75590b2a0a",
       "max": 3000.0,
       "min": 0.0,
       "orientation": "horizontal",
       "style": "IPY_MODEL_6f264ccca846472ca6928a35a6bc50ac",
       "value": 3000.0
      }
     },
     "a7cfbb3aae4847999374faa7c72dd2e9": {
      "model_module": "@jupyter-widgets/base",
      "model_module_version": "1.2.0",
      "model_name": "LayoutModel",
      "state": {
       "_model_module": "@jupyter-widgets/base",
       "_model_module_version": "1.2.0",
       "_model_name": "LayoutModel",
       "_view_count": null,
       "_view_module": "@jupyter-widgets/base",
       "_view_module_version": "1.2.0",
       "_view_name": "LayoutView",
       "align_content": null,
       "align_items": null,
       "align_self": null,
       "border": null,
       "bottom": null,
       "display": null,
       "flex": null,
       "flex_flow": null,
       "grid_area": null,
       "grid_auto_columns": null,
       "grid_auto_flow": null,
       "grid_auto_rows": null,
       "grid_column": null,
       "grid_gap": null,
       "grid_row": null,
       "grid_template_areas": null,
       "grid_template_columns": null,
       "grid_template_rows": null,
       "height": null,
       "justify_content": null,
       "justify_items": null,
       "left": null,
       "margin": null,
       "max_height": null,
       "max_width": null,
       "min_height": null,
       "min_width": null,
       "object_fit": null,
       "object_position": null,
       "order": null,
       "overflow": null,
       "overflow_x": null,
       "overflow_y": null,
       "padding": null,
       "right": null,
       "top": null,
       "visibility": null,
       "width": null
      }
     },
     "adfcfd3e1b0c42c9baba88f657bf024a": {
      "model_module": "@jupyter-widgets/controls",
      "model_module_version": "1.5.0",
      "model_name": "DescriptionStyleModel",
      "state": {
       "_model_module": "@jupyter-widgets/controls",
       "_model_module_version": "1.5.0",
       "_model_name": "DescriptionStyleModel",
       "_view_count": null,
       "_view_module": "@jupyter-widgets/base",
       "_view_module_version": "1.2.0",
       "_view_name": "StyleView",
       "description_width": ""
      }
     },
     "b38f82c24ead4ce1b4c3f8ca8dfe8b34": {
      "model_module": "@jupyter-widgets/controls",
      "model_module_version": "1.5.0",
      "model_name": "HTMLModel",
      "state": {
       "_dom_classes": [],
       "_model_module": "@jupyter-widgets/controls",
       "_model_module_version": "1.5.0",
       "_model_name": "HTMLModel",
       "_view_count": null,
       "_view_module": "@jupyter-widgets/controls",
       "_view_module_version": "1.5.0",
       "_view_name": "HTMLView",
       "description": "",
       "description_tooltip": null,
       "layout": "IPY_MODEL_baece68f385449e5bd959df8cb393ca1",
       "placeholder": "​",
       "style": "IPY_MODEL_2b6b6918822b4f72b8ed2b720de280fc",
       "value": " 3000/3000 [1:26:29&lt;00:00,  1.88s/it]"
      }
     },
     "ba886c1f068640848798e1b2fa805b59": {
      "model_module": "@jupyter-widgets/base",
      "model_module_version": "1.2.0",
      "model_name": "LayoutModel",
      "state": {
       "_model_module": "@jupyter-widgets/base",
       "_model_module_version": "1.2.0",
       "_model_name": "LayoutModel",
       "_view_count": null,
       "_view_module": "@jupyter-widgets/base",
       "_view_module_version": "1.2.0",
       "_view_name": "LayoutView",
       "align_content": null,
       "align_items": null,
       "align_self": null,
       "border": null,
       "bottom": null,
       "display": null,
       "flex": null,
       "flex_flow": null,
       "grid_area": null,
       "grid_auto_columns": null,
       "grid_auto_flow": null,
       "grid_auto_rows": null,
       "grid_column": null,
       "grid_gap": null,
       "grid_row": null,
       "grid_template_areas": null,
       "grid_template_columns": null,
       "grid_template_rows": null,
       "height": null,
       "justify_content": null,
       "justify_items": null,
       "left": null,
       "margin": null,
       "max_height": null,
       "max_width": null,
       "min_height": null,
       "min_width": null,
       "object_fit": null,
       "object_position": null,
       "order": null,
       "overflow": null,
       "overflow_x": null,
       "overflow_y": null,
       "padding": null,
       "right": null,
       "top": null,
       "visibility": null,
       "width": null
      }
     },
     "baece68f385449e5bd959df8cb393ca1": {
      "model_module": "@jupyter-widgets/base",
      "model_module_version": "1.2.0",
      "model_name": "LayoutModel",
      "state": {
       "_model_module": "@jupyter-widgets/base",
       "_model_module_version": "1.2.0",
       "_model_name": "LayoutModel",
       "_view_count": null,
       "_view_module": "@jupyter-widgets/base",
       "_view_module_version": "1.2.0",
       "_view_name": "LayoutView",
       "align_content": null,
       "align_items": null,
       "align_self": null,
       "border": null,
       "bottom": null,
       "display": null,
       "flex": null,
       "flex_flow": null,
       "grid_area": null,
       "grid_auto_columns": null,
       "grid_auto_flow": null,
       "grid_auto_rows": null,
       "grid_column": null,
       "grid_gap": null,
       "grid_row": null,
       "grid_template_areas": null,
       "grid_template_columns": null,
       "grid_template_rows": null,
       "height": null,
       "justify_content": null,
       "justify_items": null,
       "left": null,
       "margin": null,
       "max_height": null,
       "max_width": null,
       "min_height": null,
       "min_width": null,
       "object_fit": null,
       "object_position": null,
       "order": null,
       "overflow": null,
       "overflow_x": null,
       "overflow_y": null,
       "padding": null,
       "right": null,
       "top": null,
       "visibility": null,
       "width": null
      }
     },
     "bb189011ccc24a9c9d51bc25bbf4ff47": {
      "model_module": "@jupyter-widgets/controls",
      "model_module_version": "1.5.0",
      "model_name": "HBoxModel",
      "state": {
       "_dom_classes": [],
       "_model_module": "@jupyter-widgets/controls",
       "_model_module_version": "1.5.0",
       "_model_name": "HBoxModel",
       "_view_count": null,
       "_view_module": "@jupyter-widgets/controls",
       "_view_module_version": "1.5.0",
       "_view_name": "HBoxView",
       "box_style": "",
       "children": [
        "IPY_MODEL_917e44a0600e421daf742370fc2decbb",
        "IPY_MODEL_471945ad9c314ab3a72f6de89570353c",
        "IPY_MODEL_bf9882b46f484fac912e19298074b618"
       ],
       "layout": "IPY_MODEL_0f311e9fd71c4a928644b71000189134"
      }
     },
     "bf9882b46f484fac912e19298074b618": {
      "model_module": "@jupyter-widgets/controls",
      "model_module_version": "1.5.0",
      "model_name": "HTMLModel",
      "state": {
       "_dom_classes": [],
       "_model_module": "@jupyter-widgets/controls",
       "_model_module_version": "1.5.0",
       "_model_name": "HTMLModel",
       "_view_count": null,
       "_view_module": "@jupyter-widgets/controls",
       "_view_module_version": "1.5.0",
       "_view_name": "HTMLView",
       "description": "",
       "description_tooltip": null,
       "layout": "IPY_MODEL_8558dbdf8ab2410c9be41fa274963d94",
       "placeholder": "​",
       "style": "IPY_MODEL_27e490871b1d4fc89de61e613d520c6e",
       "value": " 3000/3000 [1:11:11&lt;00:00,  1.53s/it]"
      }
     },
     "c4598f0c6aad46adaef90bbe3a9edb4d": {
      "model_module": "@jupyter-widgets/controls",
      "model_module_version": "1.5.0",
      "model_name": "HBoxModel",
      "state": {
       "_dom_classes": [],
       "_model_module": "@jupyter-widgets/controls",
       "_model_module_version": "1.5.0",
       "_model_name": "HBoxModel",
       "_view_count": null,
       "_view_module": "@jupyter-widgets/controls",
       "_view_module_version": "1.5.0",
       "_view_name": "HBoxView",
       "box_style": "",
       "children": [
        "IPY_MODEL_ff941c22ebf440168cad60d2bb31b4ee",
        "IPY_MODEL_9952bebd1a3844bfaa09d1194fc77781",
        "IPY_MODEL_b38f82c24ead4ce1b4c3f8ca8dfe8b34"
       ],
       "layout": "IPY_MODEL_8a8b1630456148a1b00e28b744258930"
      }
     },
     "e5746b43b5594df7892089807852dfa8": {
      "model_module": "@jupyter-widgets/controls",
      "model_module_version": "1.5.0",
      "model_name": "DescriptionStyleModel",
      "state": {
       "_model_module": "@jupyter-widgets/controls",
       "_model_module_version": "1.5.0",
       "_model_name": "DescriptionStyleModel",
       "_view_count": null,
       "_view_module": "@jupyter-widgets/base",
       "_view_module_version": "1.2.0",
       "_view_name": "StyleView",
       "description_width": ""
      }
     },
     "e9f5627e7d3b4942b4ce21e5ed49be21": {
      "model_module": "@jupyter-widgets/base",
      "model_module_version": "1.2.0",
      "model_name": "LayoutModel",
      "state": {
       "_model_module": "@jupyter-widgets/base",
       "_model_module_version": "1.2.0",
       "_model_name": "LayoutModel",
       "_view_count": null,
       "_view_module": "@jupyter-widgets/base",
       "_view_module_version": "1.2.0",
       "_view_name": "LayoutView",
       "align_content": null,
       "align_items": null,
       "align_self": null,
       "border": null,
       "bottom": null,
       "display": null,
       "flex": null,
       "flex_flow": null,
       "grid_area": null,
       "grid_auto_columns": null,
       "grid_auto_flow": null,
       "grid_auto_rows": null,
       "grid_column": null,
       "grid_gap": null,
       "grid_row": null,
       "grid_template_areas": null,
       "grid_template_columns": null,
       "grid_template_rows": null,
       "height": null,
       "justify_content": null,
       "justify_items": null,
       "left": null,
       "margin": null,
       "max_height": null,
       "max_width": null,
       "min_height": null,
       "min_width": null,
       "object_fit": null,
       "object_position": null,
       "order": null,
       "overflow": null,
       "overflow_x": null,
       "overflow_y": null,
       "padding": null,
       "right": null,
       "top": null,
       "visibility": null,
       "width": null
      }
     },
     "ff941c22ebf440168cad60d2bb31b4ee": {
      "model_module": "@jupyter-widgets/controls",
      "model_module_version": "1.5.0",
      "model_name": "HTMLModel",
      "state": {
       "_dom_classes": [],
       "_model_module": "@jupyter-widgets/controls",
       "_model_module_version": "1.5.0",
       "_model_name": "HTMLModel",
       "_view_count": null,
       "_view_module": "@jupyter-widgets/controls",
       "_view_module_version": "1.5.0",
       "_view_name": "HTMLView",
       "description": "",
       "description_tooltip": null,
       "layout": "IPY_MODEL_ba886c1f068640848798e1b2fa805b59",
       "placeholder": "​",
       "style": "IPY_MODEL_e5746b43b5594df7892089807852dfa8",
       "value": "Best trial: 2003. Best value: 0.707249: 100%"
      }
     }
    },
    "version_major": 2,
    "version_minor": 0
   }
  }
 },
 "nbformat": 4,
 "nbformat_minor": 5
}
