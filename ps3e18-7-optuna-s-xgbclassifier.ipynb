{
 "cells": [
  {
   "cell_type": "markdown",
   "id": "55a00a4f",
   "metadata": {
    "papermill": {
     "duration": 0.005045,
     "end_time": "2023-07-04T09:47:11.262467",
     "exception": false,
     "start_time": "2023-07-04T09:47:11.257422",
     "status": "completed"
    },
    "tags": []
   },
   "source": [
    "### Getting started\n"
   ]
  },
  {
   "cell_type": "code",
   "execution_count": 1,
   "id": "dfa4b049",
   "metadata": {
    "_cell_guid": "b1076dfc-b9ad-4769-8c92-a6c4dae69d19",
    "_uuid": "8f2839f25d086af736a60e9eeb907d3b93b6e0e5",
    "execution": {
     "iopub.execute_input": "2023-07-04T09:47:11.273530Z",
     "iopub.status.busy": "2023-07-04T09:47:11.273142Z",
     "iopub.status.idle": "2023-07-04T09:47:15.876271Z",
     "shell.execute_reply": "2023-07-04T09:47:15.874867Z"
    },
    "papermill": {
     "duration": 4.612125,
     "end_time": "2023-07-04T09:47:15.879320",
     "exception": false,
     "start_time": "2023-07-04T09:47:11.267195",
     "status": "completed"
    },
    "tags": []
   },
   "outputs": [],
   "source": [
    "import warnings\n",
    "warnings.filterwarnings('ignore')\n",
    "\n",
    "import pandas as pd\n",
    "pd.set_option('display.max_columns', None)\n",
    "import numpy as np\n",
    "import scipy\n",
    "\n",
    "import matplotlib.pyplot as plt\n",
    "%matplotlib inline\n",
    "import seaborn as sns\n",
    "sns.set()\n",
    "\n",
    "from sklearn.preprocessing import StandardScaler, FunctionTransformer, PolynomialFeatures\n",
    "from sklearn.decomposition import PCA\n",
    "from sklearn.model_selection import StratifiedKFold, RepeatedStratifiedKFold, cross_val_score, cross_val_predict, cross_validate, train_test_split\n",
    "from sklearn.ensemble import RandomForestClassifier, ExtraTreesClassifier, VotingClassifier, HistGradientBoostingClassifier, BaggingClassifier\n",
    "from sklearn.linear_model import LogisticRegression\n",
    "from sklearn.svm import SVC, LinearSVC\n",
    "from sklearn.pipeline import make_pipeline, Pipeline\n",
    "from sklearn.compose import ColumnTransformer\n",
    "from sklearn.neighbors import KNeighborsClassifier\n",
    "from sklearn.metrics import roc_auc_score\n",
    "\n",
    "from lightgbm import LGBMClassifier\n",
    "from xgboost import XGBClassifier\n",
    "\n",
    "import optuna\n",
    "from optuna.samplers import TPESampler\n",
    "# Set the log level for the optuna package to WARNING\n",
    "optuna.logging.set_verbosity(optuna.logging.WARNING)\n",
    "# Run Optuna optimization for each model\n",
    "sampler = TPESampler(seed=42)\n"
   ]
  },
  {
   "cell_type": "code",
   "execution_count": 2,
   "id": "a5193b08",
   "metadata": {
    "execution": {
     "iopub.execute_input": "2023-07-04T09:47:15.890571Z",
     "iopub.status.busy": "2023-07-04T09:47:15.890171Z",
     "iopub.status.idle": "2023-07-04T09:47:16.499158Z",
     "shell.execute_reply": "2023-07-04T09:47:16.497366Z"
    },
    "papermill": {
     "duration": 0.617889,
     "end_time": "2023-07-04T09:47:16.501978",
     "exception": false,
     "start_time": "2023-07-04T09:47:15.884089",
     "status": "completed"
    },
    "tags": []
   },
   "outputs": [
    {
     "data": {
      "text/plain": [
       "((14838, 37),\n",
       " (15859, 37),\n",
       " (15769, 31),\n",
       " (15826, 33),\n",
       " (15841, 37),\n",
       " (15769, 31),\n",
       " (15805, 33))"
      ]
     },
     "execution_count": 2,
     "metadata": {},
     "output_type": "execute_result"
    }
   ],
   "source": [
    "path1 = \"/kaggle/input/playground-series-s3e18/\"\n",
    "path2 = \"/kaggle/input/multi-label-classification-of-enzyme-substrates/\"\n",
    "\n",
    "sample = pd.read_csv(path1+\"sample_submission.csv\")\n",
    "train = pd.read_csv(path1+\"train.csv\",index_col='id')\n",
    "test = pd.read_csv(path1+\"test.csv\",index_col='id')\n",
    "original = pd.read_csv(path2+\"original.csv\",index_col='id')\n",
    "original_1 = pd.read_csv(path2+\"original_1.csv\",index_col='id')\n",
    "\n",
    "id_test = test.index # id column required for submission file\n",
    "targets = ['EC1', 'EC2']\n",
    "features = [f for f in test.columns if not f.startswith('EC')]\n",
    "features_EC1EC2 = features + ['EC1', 'EC2']\n",
    "\n",
    "# Combine playground dataset and synthetic dataset generated\n",
    "train1 = pd.concat([train,original]).drop_duplicates().reset_index(drop=True)\n",
    "train2 = pd.concat([train,original_1]).drop_duplicates().reset_index(drop=True)\n",
    "\n",
    "train1a = train1[features].drop_duplicates().reset_index(drop=True)\n",
    "train2a = train2[features].drop_duplicates().reset_index(drop=True)\n",
    "\n",
    "train1b = train1[features_EC1EC2].drop_duplicates().reset_index(drop=True)\n",
    "train2b = train2[features_EC1EC2].drop_duplicates().reset_index(drop=True)\n",
    "\n",
    "train.shape, train1.shape, train1a.shape, train1b.shape, train2.shape, train2a.shape, train2b.shape"
   ]
  },
  {
   "cell_type": "markdown",
   "id": "c26562a9",
   "metadata": {
    "papermill": {
     "duration": 0.005121,
     "end_time": "2023-07-04T09:47:16.512756",
     "exception": false,
     "start_time": "2023-07-04T09:47:16.507635",
     "status": "completed"
    },
    "tags": []
   },
   "source": [
    "Notes:-  \n",
    "- The original dataset has multiple files with different target (EC1~EC6) values.\n",
    "- The original.csv has a set of target values from _ecfp file. This is combined with the trainset as train1 dataset here.\n",
    "- The original_1.csv has a set of target values from _desc file. This is combined with the trainset as train2 dataset here.\n",
    "\n",
    "Further notes:-\n",
    "- train1a and train2a are further skimmed down with dropped duplicates looking at only the features columns only.\n",
    "- The same is applied to train1b and train2b, with dropping duplicates looking at feature columns and EC1+EC2 columns.\n",
    "- This means that in the duplicated rows, same set of features results in different target values.\n"
   ]
  },
  {
   "cell_type": "markdown",
   "id": "882686cc",
   "metadata": {
    "papermill": {
     "duration": 0.004487,
     "end_time": "2023-07-04T09:47:16.522417",
     "exception": false,
     "start_time": "2023-07-04T09:47:16.517930",
     "status": "completed"
    },
    "tags": []
   },
   "source": [
    "# Modelling the problem\n",
    "\n",
    "There are two general approaches here:\n",
    "1. To treat the two targets separately with two separate models to make the best of each models.\n",
    "2. To use a wrapper such as MultiOutputClassifer from sk.learn package to predict them together in one model.\n",
    "\n",
    "In such binary classification problem, the following are some popular modelling implementations:\n",
    "1. RandomForestClassifier\n",
    "2. KNeighborsClassifier\n",
    "3. ExtraTreesClassifier\n",
    "4. LogisticRegression\n",
    "5. BaggingClassifier with LogisticRegression\n",
    "6. LGBMClassifier\n",
    "7. XGBClassifier\n",
    "8. CatBoostClassfier\n"
   ]
  },
  {
   "cell_type": "markdown",
   "id": "8339ac9d",
   "metadata": {
    "papermill": {
     "duration": 0.004507,
     "end_time": "2023-07-04T09:47:16.531762",
     "exception": false,
     "start_time": "2023-07-04T09:47:16.527255",
     "status": "completed"
    },
    "tags": []
   },
   "source": [
    "# Perform train-test split"
   ]
  },
  {
   "cell_type": "code",
   "execution_count": 3,
   "id": "1058f598",
   "metadata": {
    "execution": {
     "iopub.execute_input": "2023-07-04T09:47:16.543236Z",
     "iopub.status.busy": "2023-07-04T09:47:16.542757Z",
     "iopub.status.idle": "2023-07-04T09:47:16.566758Z",
     "shell.execute_reply": "2023-07-04T09:47:16.565281Z"
    },
    "papermill": {
     "duration": 0.033384,
     "end_time": "2023-07-04T09:47:16.569941",
     "exception": false,
     "start_time": "2023-07-04T09:47:16.536557",
     "status": "completed"
    },
    "tags": []
   },
   "outputs": [],
   "source": [
    "X = train[features]\n",
    "y1 = train['EC1']\n",
    "y2 = train['EC2']\n",
    "X_train1, X_valid1, y_train1, y_valid1 = train_test_split(X,y1,train_size=0.8,test_size=0.2,random_state=42)\n",
    "X_train2, X_valid2, y_train2, y_valid2 = train_test_split(X,y2,train_size=0.8,test_size=0.2,random_state=42)"
   ]
  },
  {
   "cell_type": "markdown",
   "id": "795814ee",
   "metadata": {
    "papermill": {
     "duration": 0.004434,
     "end_time": "2023-07-04T09:47:16.579471",
     "exception": false,
     "start_time": "2023-07-04T09:47:16.575037",
     "status": "completed"
    },
    "tags": []
   },
   "source": [
    "# Perform Optuna's Optimazation"
   ]
  },
  {
   "cell_type": "markdown",
   "id": "87bfe6d4",
   "metadata": {
    "execution": {
     "iopub.execute_input": "2023-07-04T08:38:17.875218Z",
     "iopub.status.busy": "2023-07-04T08:38:17.874769Z",
     "iopub.status.idle": "2023-07-04T08:38:17.880715Z",
     "shell.execute_reply": "2023-07-04T08:38:17.879675Z",
     "shell.execute_reply.started": "2023-07-04T08:38:17.875177Z"
    },
    "papermill": {
     "duration": 0.006306,
     "end_time": "2023-07-04T09:47:16.590943",
     "exception": false,
     "start_time": "2023-07-04T09:47:16.584637",
     "status": "completed"
    },
    "tags": []
   },
   "source": [
    "# 6. XGBClassifier"
   ]
  },
  {
   "cell_type": "code",
   "execution_count": 4,
   "id": "8c382a84",
   "metadata": {
    "execution": {
     "iopub.execute_input": "2023-07-04T09:47:16.602667Z",
     "iopub.status.busy": "2023-07-04T09:47:16.602260Z",
     "iopub.status.idle": "2023-07-04T09:47:16.616476Z",
     "shell.execute_reply": "2023-07-04T09:47:16.615377Z"
    },
    "papermill": {
     "duration": 0.023421,
     "end_time": "2023-07-04T09:47:16.619023",
     "exception": false,
     "start_time": "2023-07-04T09:47:16.595602",
     "status": "completed"
    },
    "tags": []
   },
   "outputs": [],
   "source": [
    "def xgb_objective1(trial):\n",
    "    learning_rate = trial.suggest_float(\"learning_rate\",0.01,0.1)\n",
    "    n_estimators = trial.suggest_int(\"n_estimators\", 50, 1000)\n",
    "    max_depth = trial.suggest_int(\"max_depth\", 1, 10)\n",
    "    subsample = trial.suggest_float(\"subsample\", 0.5, 1) \n",
    "    colsample_bytree = trial.suggest_float(\"colsample_bytree\", 0.5, 1)\n",
    "    reg_alpha = trial.suggest_float(\"reg_alpha\",0.01,1)\n",
    "    reg_lambda = trial.suggest_float(\"reg_lambda\", 0.01, 1)\n",
    "    min_child_weight = trial.suggest_int(\"min_child_weight\", 1, 20)\n",
    "\n",
    "    model = XGBClassifier(learning_rate=learning_rate,\n",
    "                          n_estimators=n_estimators,\n",
    "                          max_depth=max_depth,\n",
    "                          subsample=subsample,\n",
    "                          colsample_bytree=colsample_bytree,\n",
    "                          reg_alpha=reg_alpha,\n",
    "                          reg_lambda=reg_lambda,\n",
    "                          min_child_weight=min_child_weight,                           \n",
    "                          random_state=42)\n",
    "    model.fit(X_train1,y_train1)\n",
    "    y_pred = model.predict_proba(X_valid1)[:,1]\n",
    "    auc = roc_auc_score(y_valid1,y_pred)\n",
    "    return auc\n",
    "\n",
    "def xgb_objective2(trial):\n",
    "    learning_rate = trial.suggest_float(\"learning_rate\",0.01,0.1)\n",
    "    n_estimators = trial.suggest_int(\"n_estimators\", 50, 1000)\n",
    "    max_depth = trial.suggest_int(\"max_depth\", 1, 10)\n",
    "    subsample = trial.suggest_float(\"subsample\", 0.5, 1) \n",
    "    colsample_bytree = trial.suggest_float(\"colsample_bytree\", 0.5, 1)\n",
    "    reg_alpha = trial.suggest_float(\"reg_alpha\",0.01,1)\n",
    "    reg_lambda = trial.suggest_float(\"reg_lambda\", 0.01, 1)\n",
    "    min_child_weight = trial.suggest_int(\"min_child_weight\", 1, 20)\n",
    "\n",
    "    model = XGBClassifier(learning_rate=learning_rate,\n",
    "                          n_estimators=n_estimators,\n",
    "                          max_depth=max_depth,\n",
    "                          subsample=subsample,\n",
    "                          colsample_bytree=colsample_bytree,\n",
    "                          reg_alpha=reg_alpha,\n",
    "                          reg_lambda=reg_lambda,\n",
    "                          min_child_weight=min_child_weight,                           \n",
    "                          random_state=42)\n",
    "    model.fit(X_train2,y_train2)\n",
    "    y_pred = model.predict_proba(X_valid2)[:,1]\n",
    "    auc = roc_auc_score(y_valid2,y_pred)\n",
    "    return auc"
   ]
  },
  {
   "cell_type": "code",
   "execution_count": 5,
   "id": "cea0b620",
   "metadata": {
    "execution": {
     "iopub.execute_input": "2023-07-04T09:47:16.630888Z",
     "iopub.status.busy": "2023-07-04T09:47:16.629743Z",
     "iopub.status.idle": "2023-07-04T11:40:47.875188Z",
     "shell.execute_reply": "2023-07-04T11:40:47.874199Z"
    },
    "papermill": {
     "duration": 6811.254043,
     "end_time": "2023-07-04T11:40:47.877776",
     "exception": false,
     "start_time": "2023-07-04T09:47:16.623733",
     "status": "completed"
    },
    "tags": []
   },
   "outputs": [
    {
     "data": {
      "application/vnd.jupyter.widget-view+json": {
       "model_id": "a657188145564b1a901701ee2526c77d",
       "version_major": 2,
       "version_minor": 0
      },
      "text/plain": [
       "  0%|          | 0/3000 [00:00<?, ?it/s]"
      ]
     },
     "metadata": {},
     "output_type": "display_data"
    },
    {
     "name": "stdout",
     "output_type": "stream",
     "text": [
      "Best scores for XGBClassifier from Optuna:0.7080103199683981\n",
      "Best parameters for XGBClassifier from Optuna:{'learning_rate': 0.045158134680917734, 'n_estimators': 222, 'max_depth': 2, 'subsample': 0.5397753577527876, 'colsample_bytree': 0.7586553356817731, 'reg_alpha': 0.38945043374274435, 'reg_lambda': 0.6577436221801908, 'min_child_weight': 18}\n",
      "CPU times: user 6h 32min 54s, sys: 1min 20s, total: 6h 34min 14s\n",
      "Wall time: 1h 53min 31s\n"
     ]
    }
   ],
   "source": [
    "%%time\n",
    "xgb_1_study = optuna.create_study(direction=\"maximize\", sampler=sampler)\n",
    "xgb_1_study.optimize(xgb_objective1, n_trials=3000, show_progress_bar=True)\n",
    "xgb_1_best_score = xgb_1_study.best_trial.value\n",
    "xgb_1_best_params = xgb_1_study.best_trial.params\n",
    "print(f\"Best scores for XGBClassifier from Optuna:{xgb_1_best_score}\")\n",
    "print(f\"Best parameters for XGBClassifier from Optuna:{xgb_1_best_params}\")\n"
   ]
  },
  {
   "cell_type": "code",
   "execution_count": 6,
   "id": "33091bba",
   "metadata": {
    "execution": {
     "iopub.execute_input": "2023-07-04T11:40:47.889831Z",
     "iopub.status.busy": "2023-07-04T11:40:47.889446Z",
     "iopub.status.idle": "2023-07-04T12:55:06.751507Z",
     "shell.execute_reply": "2023-07-04T12:55:06.750482Z"
    },
    "papermill": {
     "duration": 4458.871237,
     "end_time": "2023-07-04T12:55:06.754307",
     "exception": false,
     "start_time": "2023-07-04T11:40:47.883070",
     "status": "completed"
    },
    "tags": []
   },
   "outputs": [
    {
     "data": {
      "application/vnd.jupyter.widget-view+json": {
       "model_id": "9b7aee3f2aa0456290e239988c353d31",
       "version_major": 2,
       "version_minor": 0
      },
      "text/plain": [
       "  0%|          | 0/3000 [00:00<?, ?it/s]"
      ]
     },
     "metadata": {},
     "output_type": "display_data"
    },
    {
     "name": "stdout",
     "output_type": "stream",
     "text": [
      "Best scores for XGBClassifier from Optuna:0.6054295041079812\n",
      "Best parameters for XGBClassifier from Optuna:{'learning_rate': 0.042139676691021526, 'n_estimators': 50, 'max_depth': 4, 'subsample': 0.521759904880476, 'colsample_bytree': 0.7796480199699187, 'reg_alpha': 0.40460352058626287, 'reg_lambda': 0.9207043091994814, 'min_child_weight': 20}\n",
      "CPU times: user 3h 59min 35s, sys: 53.1 s, total: 4h 28s\n",
      "Wall time: 1h 14min 18s\n"
     ]
    }
   ],
   "source": [
    "%%time\n",
    "xgb_2_study = optuna.create_study(direction=\"maximize\", sampler=sampler)\n",
    "xgb_2_study.optimize(xgb_objective2, n_trials=3000, show_progress_bar=True)\n",
    "xgb_2_best_score = xgb_2_study.best_trial.value\n",
    "xgb_2_best_params = xgb_2_study.best_trial.params\n",
    "print(f\"Best scores for XGBClassifier from Optuna:{xgb_2_best_score}\")\n",
    "print(f\"Best parameters for XGBClassifier from Optuna:{xgb_2_best_params}\")\n"
   ]
  }
 ],
 "metadata": {
  "kernelspec": {
   "display_name": "Python 3",
   "language": "python",
   "name": "python3"
  },
  "language_info": {
   "codemirror_mode": {
    "name": "ipython",
    "version": 3
   },
   "file_extension": ".py",
   "mimetype": "text/x-python",
   "name": "python",
   "nbconvert_exporter": "python",
   "pygments_lexer": "ipython3",
   "version": "3.10.10"
  },
  "papermill": {
   "default_parameters": {},
   "duration": 11290.704878,
   "end_time": "2023-07-04T12:55:08.115783",
   "environment_variables": {},
   "exception": null,
   "input_path": "__notebook__.ipynb",
   "output_path": "__notebook__.ipynb",
   "parameters": {},
   "start_time": "2023-07-04T09:46:57.410905",
   "version": "2.4.0"
  },
  "widgets": {
   "application/vnd.jupyter.widget-state+json": {
    "state": {
     "0b1d2bba08db4ae7a1c793e4014b667d": {
      "model_module": "@jupyter-widgets/controls",
      "model_module_version": "1.5.0",
      "model_name": "HTMLModel",
      "state": {
       "_dom_classes": [],
       "_model_module": "@jupyter-widgets/controls",
       "_model_module_version": "1.5.0",
       "_model_name": "HTMLModel",
       "_view_count": null,
       "_view_module": "@jupyter-widgets/controls",
       "_view_module_version": "1.5.0",
       "_view_name": "HTMLView",
       "description": "",
       "description_tooltip": null,
       "layout": "IPY_MODEL_3ae89f665a0342d2869124d99c7726e5",
       "placeholder": "​",
       "style": "IPY_MODEL_7a9f88a6d4054d8f8bb56aa5b97cb462",
       "value": "Best trial: 890. Best value: 0.70801: 100%"
      }
     },
     "21a2e077309c4fdd8d7c4f8d5c46cd74": {
      "model_module": "@jupyter-widgets/controls",
      "model_module_version": "1.5.0",
      "model_name": "DescriptionStyleModel",
      "state": {
       "_model_module": "@jupyter-widgets/controls",
       "_model_module_version": "1.5.0",
       "_model_name": "DescriptionStyleModel",
       "_view_count": null,
       "_view_module": "@jupyter-widgets/base",
       "_view_module_version": "1.2.0",
       "_view_name": "StyleView",
       "description_width": ""
      }
     },
     "26b482c38de043448f756b5b56a8e978": {
      "model_module": "@jupyter-widgets/controls",
      "model_module_version": "1.5.0",
      "model_name": "DescriptionStyleModel",
      "state": {
       "_model_module": "@jupyter-widgets/controls",
       "_model_module_version": "1.5.0",
       "_model_name": "DescriptionStyleModel",
       "_view_count": null,
       "_view_module": "@jupyter-widgets/base",
       "_view_module_version": "1.2.0",
       "_view_name": "StyleView",
       "description_width": ""
      }
     },
     "2ec1683baf744090b4b82975a987e384": {
      "model_module": "@jupyter-widgets/controls",
      "model_module_version": "1.5.0",
      "model_name": "FloatProgressModel",
      "state": {
       "_dom_classes": [],
       "_model_module": "@jupyter-widgets/controls",
       "_model_module_version": "1.5.0",
       "_model_name": "FloatProgressModel",
       "_view_count": null,
       "_view_module": "@jupyter-widgets/controls",
       "_view_module_version": "1.5.0",
       "_view_name": "ProgressView",
       "bar_style": "success",
       "description": "",
       "description_tooltip": null,
       "layout": "IPY_MODEL_e092766ddd284942be1af68cc2754f44",
       "max": 3000.0,
       "min": 0.0,
       "orientation": "horizontal",
       "style": "IPY_MODEL_f459a82b944c4368a0ca46caaf3fbaeb",
       "value": 3000.0
      }
     },
     "3204a5540a664025b60917607bfff892": {
      "model_module": "@jupyter-widgets/controls",
      "model_module_version": "1.5.0",
      "model_name": "FloatProgressModel",
      "state": {
       "_dom_classes": [],
       "_model_module": "@jupyter-widgets/controls",
       "_model_module_version": "1.5.0",
       "_model_name": "FloatProgressModel",
       "_view_count": null,
       "_view_module": "@jupyter-widgets/controls",
       "_view_module_version": "1.5.0",
       "_view_name": "ProgressView",
       "bar_style": "success",
       "description": "",
       "description_tooltip": null,
       "layout": "IPY_MODEL_ee432f718067451a92c00c78264cbc04",
       "max": 3000.0,
       "min": 0.0,
       "orientation": "horizontal",
       "style": "IPY_MODEL_fddd92b4f097408182b4dee481e6b099",
       "value": 3000.0
      }
     },
     "3ae89f665a0342d2869124d99c7726e5": {
      "model_module": "@jupyter-widgets/base",
      "model_module_version": "1.2.0",
      "model_name": "LayoutModel",
      "state": {
       "_model_module": "@jupyter-widgets/base",
       "_model_module_version": "1.2.0",
       "_model_name": "LayoutModel",
       "_view_count": null,
       "_view_module": "@jupyter-widgets/base",
       "_view_module_version": "1.2.0",
       "_view_name": "LayoutView",
       "align_content": null,
       "align_items": null,
       "align_self": null,
       "border": null,
       "bottom": null,
       "display": null,
       "flex": null,
       "flex_flow": null,
       "grid_area": null,
       "grid_auto_columns": null,
       "grid_auto_flow": null,
       "grid_auto_rows": null,
       "grid_column": null,
       "grid_gap": null,
       "grid_row": null,
       "grid_template_areas": null,
       "grid_template_columns": null,
       "grid_template_rows": null,
       "height": null,
       "justify_content": null,
       "justify_items": null,
       "left": null,
       "margin": null,
       "max_height": null,
       "max_width": null,
       "min_height": null,
       "min_width": null,
       "object_fit": null,
       "object_position": null,
       "order": null,
       "overflow": null,
       "overflow_x": null,
       "overflow_y": null,
       "padding": null,
       "right": null,
       "top": null,
       "visibility": null,
       "width": null
      }
     },
     "44ba5c3201034598b3c95b8042b24eb6": {
      "model_module": "@jupyter-widgets/controls",
      "model_module_version": "1.5.0",
      "model_name": "HTMLModel",
      "state": {
       "_dom_classes": [],
       "_model_module": "@jupyter-widgets/controls",
       "_model_module_version": "1.5.0",
       "_model_name": "HTMLModel",
       "_view_count": null,
       "_view_module": "@jupyter-widgets/controls",
       "_view_module_version": "1.5.0",
       "_view_name": "HTMLView",
       "description": "",
       "description_tooltip": null,
       "layout": "IPY_MODEL_495bed308d804fc58726f5fe393975ff",
       "placeholder": "​",
       "style": "IPY_MODEL_4f0c6aa5d09b4b6dbe2d5da1d92e3ad5",
       "value": "Best trial: 1913. Best value: 0.60543: 100%"
      }
     },
     "495bed308d804fc58726f5fe393975ff": {
      "model_module": "@jupyter-widgets/base",
      "model_module_version": "1.2.0",
      "model_name": "LayoutModel",
      "state": {
       "_model_module": "@jupyter-widgets/base",
       "_model_module_version": "1.2.0",
       "_model_name": "LayoutModel",
       "_view_count": null,
       "_view_module": "@jupyter-widgets/base",
       "_view_module_version": "1.2.0",
       "_view_name": "LayoutView",
       "align_content": null,
       "align_items": null,
       "align_self": null,
       "border": null,
       "bottom": null,
       "display": null,
       "flex": null,
       "flex_flow": null,
       "grid_area": null,
       "grid_auto_columns": null,
       "grid_auto_flow": null,
       "grid_auto_rows": null,
       "grid_column": null,
       "grid_gap": null,
       "grid_row": null,
       "grid_template_areas": null,
       "grid_template_columns": null,
       "grid_template_rows": null,
       "height": null,
       "justify_content": null,
       "justify_items": null,
       "left": null,
       "margin": null,
       "max_height": null,
       "max_width": null,
       "min_height": null,
       "min_width": null,
       "object_fit": null,
       "object_position": null,
       "order": null,
       "overflow": null,
       "overflow_x": null,
       "overflow_y": null,
       "padding": null,
       "right": null,
       "top": null,
       "visibility": null,
       "width": null
      }
     },
     "4f0c6aa5d09b4b6dbe2d5da1d92e3ad5": {
      "model_module": "@jupyter-widgets/controls",
      "model_module_version": "1.5.0",
      "model_name": "DescriptionStyleModel",
      "state": {
       "_model_module": "@jupyter-widgets/controls",
       "_model_module_version": "1.5.0",
       "_model_name": "DescriptionStyleModel",
       "_view_count": null,
       "_view_module": "@jupyter-widgets/base",
       "_view_module_version": "1.2.0",
       "_view_name": "StyleView",
       "description_width": ""
      }
     },
     "4f1d90564dd944f587902c278ea7c4ae": {
      "model_module": "@jupyter-widgets/controls",
      "model_module_version": "1.5.0",
      "model_name": "HTMLModel",
      "state": {
       "_dom_classes": [],
       "_model_module": "@jupyter-widgets/controls",
       "_model_module_version": "1.5.0",
       "_model_name": "HTMLModel",
       "_view_count": null,
       "_view_module": "@jupyter-widgets/controls",
       "_view_module_version": "1.5.0",
       "_view_name": "HTMLView",
       "description": "",
       "description_tooltip": null,
       "layout": "IPY_MODEL_ec7110ca0fa1475f938fbd1233b7166e",
       "placeholder": "​",
       "style": "IPY_MODEL_26b482c38de043448f756b5b56a8e978",
       "value": " 3000/3000 [1:14:18&lt;00:00,  1.54s/it]"
      }
     },
     "7a9f88a6d4054d8f8bb56aa5b97cb462": {
      "model_module": "@jupyter-widgets/controls",
      "model_module_version": "1.5.0",
      "model_name": "DescriptionStyleModel",
      "state": {
       "_model_module": "@jupyter-widgets/controls",
       "_model_module_version": "1.5.0",
       "_model_name": "DescriptionStyleModel",
       "_view_count": null,
       "_view_module": "@jupyter-widgets/base",
       "_view_module_version": "1.2.0",
       "_view_name": "StyleView",
       "description_width": ""
      }
     },
     "9b7aee3f2aa0456290e239988c353d31": {
      "model_module": "@jupyter-widgets/controls",
      "model_module_version": "1.5.0",
      "model_name": "HBoxModel",
      "state": {
       "_dom_classes": [],
       "_model_module": "@jupyter-widgets/controls",
       "_model_module_version": "1.5.0",
       "_model_name": "HBoxModel",
       "_view_count": null,
       "_view_module": "@jupyter-widgets/controls",
       "_view_module_version": "1.5.0",
       "_view_name": "HBoxView",
       "box_style": "",
       "children": [
        "IPY_MODEL_44ba5c3201034598b3c95b8042b24eb6",
        "IPY_MODEL_2ec1683baf744090b4b82975a987e384",
        "IPY_MODEL_4f1d90564dd944f587902c278ea7c4ae"
       ],
       "layout": "IPY_MODEL_c223413387bf4e97abcdca0ce6a07512"
      }
     },
     "a657188145564b1a901701ee2526c77d": {
      "model_module": "@jupyter-widgets/controls",
      "model_module_version": "1.5.0",
      "model_name": "HBoxModel",
      "state": {
       "_dom_classes": [],
       "_model_module": "@jupyter-widgets/controls",
       "_model_module_version": "1.5.0",
       "_model_name": "HBoxModel",
       "_view_count": null,
       "_view_module": "@jupyter-widgets/controls",
       "_view_module_version": "1.5.0",
       "_view_name": "HBoxView",
       "box_style": "",
       "children": [
        "IPY_MODEL_0b1d2bba08db4ae7a1c793e4014b667d",
        "IPY_MODEL_3204a5540a664025b60917607bfff892",
        "IPY_MODEL_f49baff387c6465ab136e4952574d476"
       ],
       "layout": "IPY_MODEL_aeabfbf796864a0fa5ec3e05873fe475"
      }
     },
     "aeabfbf796864a0fa5ec3e05873fe475": {
      "model_module": "@jupyter-widgets/base",
      "model_module_version": "1.2.0",
      "model_name": "LayoutModel",
      "state": {
       "_model_module": "@jupyter-widgets/base",
       "_model_module_version": "1.2.0",
       "_model_name": "LayoutModel",
       "_view_count": null,
       "_view_module": "@jupyter-widgets/base",
       "_view_module_version": "1.2.0",
       "_view_name": "LayoutView",
       "align_content": null,
       "align_items": null,
       "align_self": null,
       "border": null,
       "bottom": null,
       "display": null,
       "flex": null,
       "flex_flow": null,
       "grid_area": null,
       "grid_auto_columns": null,
       "grid_auto_flow": null,
       "grid_auto_rows": null,
       "grid_column": null,
       "grid_gap": null,
       "grid_row": null,
       "grid_template_areas": null,
       "grid_template_columns": null,
       "grid_template_rows": null,
       "height": null,
       "justify_content": null,
       "justify_items": null,
       "left": null,
       "margin": null,
       "max_height": null,
       "max_width": null,
       "min_height": null,
       "min_width": null,
       "object_fit": null,
       "object_position": null,
       "order": null,
       "overflow": null,
       "overflow_x": null,
       "overflow_y": null,
       "padding": null,
       "right": null,
       "top": null,
       "visibility": null,
       "width": null
      }
     },
     "bd5608e722374f04ba73609c046731d8": {
      "model_module": "@jupyter-widgets/base",
      "model_module_version": "1.2.0",
      "model_name": "LayoutModel",
      "state": {
       "_model_module": "@jupyter-widgets/base",
       "_model_module_version": "1.2.0",
       "_model_name": "LayoutModel",
       "_view_count": null,
       "_view_module": "@jupyter-widgets/base",
       "_view_module_version": "1.2.0",
       "_view_name": "LayoutView",
       "align_content": null,
       "align_items": null,
       "align_self": null,
       "border": null,
       "bottom": null,
       "display": null,
       "flex": null,
       "flex_flow": null,
       "grid_area": null,
       "grid_auto_columns": null,
       "grid_auto_flow": null,
       "grid_auto_rows": null,
       "grid_column": null,
       "grid_gap": null,
       "grid_row": null,
       "grid_template_areas": null,
       "grid_template_columns": null,
       "grid_template_rows": null,
       "height": null,
       "justify_content": null,
       "justify_items": null,
       "left": null,
       "margin": null,
       "max_height": null,
       "max_width": null,
       "min_height": null,
       "min_width": null,
       "object_fit": null,
       "object_position": null,
       "order": null,
       "overflow": null,
       "overflow_x": null,
       "overflow_y": null,
       "padding": null,
       "right": null,
       "top": null,
       "visibility": null,
       "width": null
      }
     },
     "c223413387bf4e97abcdca0ce6a07512": {
      "model_module": "@jupyter-widgets/base",
      "model_module_version": "1.2.0",
      "model_name": "LayoutModel",
      "state": {
       "_model_module": "@jupyter-widgets/base",
       "_model_module_version": "1.2.0",
       "_model_name": "LayoutModel",
       "_view_count": null,
       "_view_module": "@jupyter-widgets/base",
       "_view_module_version": "1.2.0",
       "_view_name": "LayoutView",
       "align_content": null,
       "align_items": null,
       "align_self": null,
       "border": null,
       "bottom": null,
       "display": null,
       "flex": null,
       "flex_flow": null,
       "grid_area": null,
       "grid_auto_columns": null,
       "grid_auto_flow": null,
       "grid_auto_rows": null,
       "grid_column": null,
       "grid_gap": null,
       "grid_row": null,
       "grid_template_areas": null,
       "grid_template_columns": null,
       "grid_template_rows": null,
       "height": null,
       "justify_content": null,
       "justify_items": null,
       "left": null,
       "margin": null,
       "max_height": null,
       "max_width": null,
       "min_height": null,
       "min_width": null,
       "object_fit": null,
       "object_position": null,
       "order": null,
       "overflow": null,
       "overflow_x": null,
       "overflow_y": null,
       "padding": null,
       "right": null,
       "top": null,
       "visibility": null,
       "width": null
      }
     },
     "e092766ddd284942be1af68cc2754f44": {
      "model_module": "@jupyter-widgets/base",
      "model_module_version": "1.2.0",
      "model_name": "LayoutModel",
      "state": {
       "_model_module": "@jupyter-widgets/base",
       "_model_module_version": "1.2.0",
       "_model_name": "LayoutModel",
       "_view_count": null,
       "_view_module": "@jupyter-widgets/base",
       "_view_module_version": "1.2.0",
       "_view_name": "LayoutView",
       "align_content": null,
       "align_items": null,
       "align_self": null,
       "border": null,
       "bottom": null,
       "display": null,
       "flex": null,
       "flex_flow": null,
       "grid_area": null,
       "grid_auto_columns": null,
       "grid_auto_flow": null,
       "grid_auto_rows": null,
       "grid_column": null,
       "grid_gap": null,
       "grid_row": null,
       "grid_template_areas": null,
       "grid_template_columns": null,
       "grid_template_rows": null,
       "height": null,
       "justify_content": null,
       "justify_items": null,
       "left": null,
       "margin": null,
       "max_height": null,
       "max_width": null,
       "min_height": null,
       "min_width": null,
       "object_fit": null,
       "object_position": null,
       "order": null,
       "overflow": null,
       "overflow_x": null,
       "overflow_y": null,
       "padding": null,
       "right": null,
       "top": null,
       "visibility": null,
       "width": null
      }
     },
     "ec7110ca0fa1475f938fbd1233b7166e": {
      "model_module": "@jupyter-widgets/base",
      "model_module_version": "1.2.0",
      "model_name": "LayoutModel",
      "state": {
       "_model_module": "@jupyter-widgets/base",
       "_model_module_version": "1.2.0",
       "_model_name": "LayoutModel",
       "_view_count": null,
       "_view_module": "@jupyter-widgets/base",
       "_view_module_version": "1.2.0",
       "_view_name": "LayoutView",
       "align_content": null,
       "align_items": null,
       "align_self": null,
       "border": null,
       "bottom": null,
       "display": null,
       "flex": null,
       "flex_flow": null,
       "grid_area": null,
       "grid_auto_columns": null,
       "grid_auto_flow": null,
       "grid_auto_rows": null,
       "grid_column": null,
       "grid_gap": null,
       "grid_row": null,
       "grid_template_areas": null,
       "grid_template_columns": null,
       "grid_template_rows": null,
       "height": null,
       "justify_content": null,
       "justify_items": null,
       "left": null,
       "margin": null,
       "max_height": null,
       "max_width": null,
       "min_height": null,
       "min_width": null,
       "object_fit": null,
       "object_position": null,
       "order": null,
       "overflow": null,
       "overflow_x": null,
       "overflow_y": null,
       "padding": null,
       "right": null,
       "top": null,
       "visibility": null,
       "width": null
      }
     },
     "ee432f718067451a92c00c78264cbc04": {
      "model_module": "@jupyter-widgets/base",
      "model_module_version": "1.2.0",
      "model_name": "LayoutModel",
      "state": {
       "_model_module": "@jupyter-widgets/base",
       "_model_module_version": "1.2.0",
       "_model_name": "LayoutModel",
       "_view_count": null,
       "_view_module": "@jupyter-widgets/base",
       "_view_module_version": "1.2.0",
       "_view_name": "LayoutView",
       "align_content": null,
       "align_items": null,
       "align_self": null,
       "border": null,
       "bottom": null,
       "display": null,
       "flex": null,
       "flex_flow": null,
       "grid_area": null,
       "grid_auto_columns": null,
       "grid_auto_flow": null,
       "grid_auto_rows": null,
       "grid_column": null,
       "grid_gap": null,
       "grid_row": null,
       "grid_template_areas": null,
       "grid_template_columns": null,
       "grid_template_rows": null,
       "height": null,
       "justify_content": null,
       "justify_items": null,
       "left": null,
       "margin": null,
       "max_height": null,
       "max_width": null,
       "min_height": null,
       "min_width": null,
       "object_fit": null,
       "object_position": null,
       "order": null,
       "overflow": null,
       "overflow_x": null,
       "overflow_y": null,
       "padding": null,
       "right": null,
       "top": null,
       "visibility": null,
       "width": null
      }
     },
     "f459a82b944c4368a0ca46caaf3fbaeb": {
      "model_module": "@jupyter-widgets/controls",
      "model_module_version": "1.5.0",
      "model_name": "ProgressStyleModel",
      "state": {
       "_model_module": "@jupyter-widgets/controls",
       "_model_module_version": "1.5.0",
       "_model_name": "ProgressStyleModel",
       "_view_count": null,
       "_view_module": "@jupyter-widgets/base",
       "_view_module_version": "1.2.0",
       "_view_name": "StyleView",
       "bar_color": null,
       "description_width": ""
      }
     },
     "f49baff387c6465ab136e4952574d476": {
      "model_module": "@jupyter-widgets/controls",
      "model_module_version": "1.5.0",
      "model_name": "HTMLModel",
      "state": {
       "_dom_classes": [],
       "_model_module": "@jupyter-widgets/controls",
       "_model_module_version": "1.5.0",
       "_model_name": "HTMLModel",
       "_view_count": null,
       "_view_module": "@jupyter-widgets/controls",
       "_view_module_version": "1.5.0",
       "_view_name": "HTMLView",
       "description": "",
       "description_tooltip": null,
       "layout": "IPY_MODEL_bd5608e722374f04ba73609c046731d8",
       "placeholder": "​",
       "style": "IPY_MODEL_21a2e077309c4fdd8d7c4f8d5c46cd74",
       "value": " 3000/3000 [1:53:31&lt;00:00,  2.74s/it]"
      }
     },
     "fddd92b4f097408182b4dee481e6b099": {
      "model_module": "@jupyter-widgets/controls",
      "model_module_version": "1.5.0",
      "model_name": "ProgressStyleModel",
      "state": {
       "_model_module": "@jupyter-widgets/controls",
       "_model_module_version": "1.5.0",
       "_model_name": "ProgressStyleModel",
       "_view_count": null,
       "_view_module": "@jupyter-widgets/base",
       "_view_module_version": "1.2.0",
       "_view_name": "StyleView",
       "bar_color": null,
       "description_width": ""
      }
     }
    },
    "version_major": 2,
    "version_minor": 0
   }
  }
 },
 "nbformat": 4,
 "nbformat_minor": 5
}
