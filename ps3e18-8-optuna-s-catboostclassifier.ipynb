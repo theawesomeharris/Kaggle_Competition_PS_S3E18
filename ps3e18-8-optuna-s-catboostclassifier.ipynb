{
 "cells": [
  {
   "cell_type": "markdown",
   "id": "50b1a5cc",
   "metadata": {
    "papermill": {
     "duration": 0.003437,
     "end_time": "2023-07-04T10:02:09.392200",
     "exception": false,
     "start_time": "2023-07-04T10:02:09.388763",
     "status": "completed"
    },
    "tags": []
   },
   "source": [
    "### Getting started\n"
   ]
  },
  {
   "cell_type": "code",
   "execution_count": 1,
   "id": "c2beee84",
   "metadata": {
    "_cell_guid": "b1076dfc-b9ad-4769-8c92-a6c4dae69d19",
    "_uuid": "8f2839f25d086af736a60e9eeb907d3b93b6e0e5",
    "execution": {
     "iopub.execute_input": "2023-07-04T10:02:09.400256Z",
     "iopub.status.busy": "2023-07-04T10:02:09.399278Z",
     "iopub.status.idle": "2023-07-04T10:02:13.681974Z",
     "shell.execute_reply": "2023-07-04T10:02:13.680921Z"
    },
    "papermill": {
     "duration": 4.289087,
     "end_time": "2023-07-04T10:02:13.684267",
     "exception": false,
     "start_time": "2023-07-04T10:02:09.395180",
     "status": "completed"
    },
    "tags": []
   },
   "outputs": [],
   "source": [
    "import warnings\n",
    "warnings.filterwarnings('ignore')\n",
    "\n",
    "import pandas as pd\n",
    "pd.set_option('display.max_columns', None)\n",
    "import numpy as np\n",
    "import scipy\n",
    "\n",
    "import matplotlib.pyplot as plt\n",
    "%matplotlib inline\n",
    "import seaborn as sns\n",
    "sns.set()\n",
    "\n",
    "from sklearn.preprocessing import StandardScaler, FunctionTransformer, PolynomialFeatures\n",
    "from sklearn.decomposition import PCA\n",
    "from sklearn.model_selection import StratifiedKFold, RepeatedStratifiedKFold, cross_val_score, cross_val_predict, cross_validate, train_test_split\n",
    "from sklearn.ensemble import RandomForestClassifier, ExtraTreesClassifier, VotingClassifier, HistGradientBoostingClassifier, BaggingClassifier\n",
    "from sklearn.linear_model import LogisticRegression\n",
    "from sklearn.svm import SVC, LinearSVC\n",
    "from sklearn.pipeline import make_pipeline, Pipeline\n",
    "from sklearn.compose import ColumnTransformer\n",
    "from sklearn.neighbors import KNeighborsClassifier\n",
    "from sklearn.metrics import roc_auc_score\n",
    "\n",
    "from lightgbm import LGBMClassifier\n",
    "from xgboost import XGBClassifier\n",
    "from catboost import CatBoostClassifier\n",
    "\n",
    "import optuna\n",
    "from optuna.samplers import TPESampler\n",
    "# Set the log level for the optuna package to WARNING\n",
    "optuna.logging.set_verbosity(optuna.logging.WARNING)\n",
    "# Run Optuna optimization for each model\n",
    "sampler = TPESampler(seed=42)\n"
   ]
  },
  {
   "cell_type": "code",
   "execution_count": 2,
   "id": "cadaa959",
   "metadata": {
    "execution": {
     "iopub.execute_input": "2023-07-04T10:02:13.691653Z",
     "iopub.status.busy": "2023-07-04T10:02:13.691281Z",
     "iopub.status.idle": "2023-07-04T10:02:14.144312Z",
     "shell.execute_reply": "2023-07-04T10:02:14.143516Z"
    },
    "papermill": {
     "duration": 0.458755,
     "end_time": "2023-07-04T10:02:14.146181",
     "exception": false,
     "start_time": "2023-07-04T10:02:13.687426",
     "status": "completed"
    },
    "tags": []
   },
   "outputs": [
    {
     "data": {
      "text/plain": [
       "((14838, 37),\n",
       " (15859, 37),\n",
       " (15769, 31),\n",
       " (15826, 33),\n",
       " (15841, 37),\n",
       " (15769, 31),\n",
       " (15805, 33))"
      ]
     },
     "execution_count": 2,
     "metadata": {},
     "output_type": "execute_result"
    }
   ],
   "source": [
    "path1 = \"/kaggle/input/playground-series-s3e18/\"\n",
    "path2 = \"/kaggle/input/multi-label-classification-of-enzyme-substrates/\"\n",
    "\n",
    "sample = pd.read_csv(path1+\"sample_submission.csv\")\n",
    "train = pd.read_csv(path1+\"train.csv\",index_col='id')\n",
    "test = pd.read_csv(path1+\"test.csv\",index_col='id')\n",
    "original = pd.read_csv(path2+\"original.csv\",index_col='id')\n",
    "original_1 = pd.read_csv(path2+\"original_1.csv\",index_col='id')\n",
    "\n",
    "id_test = test.index # id column required for submission file\n",
    "targets = ['EC1', 'EC2']\n",
    "features = [f for f in test.columns if not f.startswith('EC')]\n",
    "features_EC1EC2 = features + ['EC1', 'EC2']\n",
    "\n",
    "# Combine playground dataset and synthetic dataset generated\n",
    "train1 = pd.concat([train,original]).drop_duplicates().reset_index(drop=True)\n",
    "train2 = pd.concat([train,original_1]).drop_duplicates().reset_index(drop=True)\n",
    "\n",
    "train1a = train1[features].drop_duplicates().reset_index(drop=True)\n",
    "train2a = train2[features].drop_duplicates().reset_index(drop=True)\n",
    "\n",
    "train1b = train1[features_EC1EC2].drop_duplicates().reset_index(drop=True)\n",
    "train2b = train2[features_EC1EC2].drop_duplicates().reset_index(drop=True)\n",
    "\n",
    "train.shape, train1.shape, train1a.shape, train1b.shape, train2.shape, train2a.shape, train2b.shape"
   ]
  },
  {
   "cell_type": "markdown",
   "id": "26e421db",
   "metadata": {
    "papermill": {
     "duration": 0.00345,
     "end_time": "2023-07-04T10:02:14.153157",
     "exception": false,
     "start_time": "2023-07-04T10:02:14.149707",
     "status": "completed"
    },
    "tags": []
   },
   "source": [
    "Notes:-  \n",
    "- The original dataset has multiple files with different target (EC1~EC6) values.\n",
    "- The original.csv has a set of target values from _ecfp file. This is combined with the trainset as train1 dataset here.\n",
    "- The original_1.csv has a set of target values from _desc file. This is combined with the trainset as train2 dataset here.\n",
    "\n",
    "Further notes:-\n",
    "- train1a and train2a are further skimmed down with dropped duplicates looking at only the features columns only.\n",
    "- The same is applied to train1b and train2b, with dropping duplicates looking at feature columns and EC1+EC2 columns.\n",
    "- This means that in the duplicated rows, same set of features results in different target values.\n"
   ]
  },
  {
   "cell_type": "markdown",
   "id": "ab35155f",
   "metadata": {
    "papermill": {
     "duration": 0.002713,
     "end_time": "2023-07-04T10:02:14.158961",
     "exception": false,
     "start_time": "2023-07-04T10:02:14.156248",
     "status": "completed"
    },
    "tags": []
   },
   "source": [
    "# Modelling the problem\n",
    "\n",
    "There are two general approaches here:\n",
    "1. To treat the two targets separately with two separate models to make the best of each models.\n",
    "2. To use a wrapper such as MultiOutputClassifer from sk.learn package to predict them together in one model.\n",
    "\n",
    "In such binary classification problem, the following are some popular modelling implementations:\n",
    "1. RandomForestClassifier\n",
    "2. KNeighborsClassifier\n",
    "3. ExtraTreesClassifier\n",
    "4. LogisticRegression\n",
    "5. BaggingClassifier with LogisticRegression\n",
    "6. LGBMClassifier\n",
    "7. XGBClassifier\n",
    "8. CatBoostClassfier\n"
   ]
  },
  {
   "cell_type": "markdown",
   "id": "69ad3a63",
   "metadata": {
    "papermill": {
     "duration": 0.002795,
     "end_time": "2023-07-04T10:02:14.164659",
     "exception": false,
     "start_time": "2023-07-04T10:02:14.161864",
     "status": "completed"
    },
    "tags": []
   },
   "source": [
    "# Perform train-test split"
   ]
  },
  {
   "cell_type": "code",
   "execution_count": 3,
   "id": "b01690fd",
   "metadata": {
    "execution": {
     "iopub.execute_input": "2023-07-04T10:02:14.173157Z",
     "iopub.status.busy": "2023-07-04T10:02:14.172542Z",
     "iopub.status.idle": "2023-07-04T10:02:14.190424Z",
     "shell.execute_reply": "2023-07-04T10:02:14.189710Z"
    },
    "papermill": {
     "duration": 0.025055,
     "end_time": "2023-07-04T10:02:14.192608",
     "exception": false,
     "start_time": "2023-07-04T10:02:14.167553",
     "status": "completed"
    },
    "tags": []
   },
   "outputs": [],
   "source": [
    "X = train[features]\n",
    "y1 = train['EC1']\n",
    "y2 = train['EC2']\n",
    "X_train1, X_valid1, y_train1, y_valid1 = train_test_split(X,y1,train_size=0.8,test_size=0.2,random_state=42)\n",
    "X_train2, X_valid2, y_train2, y_valid2 = train_test_split(X,y2,train_size=0.8,test_size=0.2,random_state=42)"
   ]
  },
  {
   "cell_type": "markdown",
   "id": "ed2ba995",
   "metadata": {
    "papermill": {
     "duration": 0.002795,
     "end_time": "2023-07-04T10:02:14.198585",
     "exception": false,
     "start_time": "2023-07-04T10:02:14.195790",
     "status": "completed"
    },
    "tags": []
   },
   "source": [
    "# Perform Optuna's Optimazation"
   ]
  },
  {
   "cell_type": "markdown",
   "id": "063b53c1",
   "metadata": {
    "execution": {
     "iopub.execute_input": "2023-07-04T08:38:17.875218Z",
     "iopub.status.busy": "2023-07-04T08:38:17.874769Z",
     "iopub.status.idle": "2023-07-04T08:38:17.880715Z",
     "shell.execute_reply": "2023-07-04T08:38:17.879675Z",
     "shell.execute_reply.started": "2023-07-04T08:38:17.875177Z"
    },
    "papermill": {
     "duration": 0.004559,
     "end_time": "2023-07-04T10:02:14.206131",
     "exception": false,
     "start_time": "2023-07-04T10:02:14.201572",
     "status": "completed"
    },
    "tags": []
   },
   "source": [
    "# 8. CatBoostClassifier"
   ]
  },
  {
   "cell_type": "code",
   "execution_count": 4,
   "id": "4211ee01",
   "metadata": {
    "execution": {
     "iopub.execute_input": "2023-07-04T10:02:14.214002Z",
     "iopub.status.busy": "2023-07-04T10:02:14.213459Z",
     "iopub.status.idle": "2023-07-04T10:02:14.223065Z",
     "shell.execute_reply": "2023-07-04T10:02:14.222399Z"
    },
    "papermill": {
     "duration": 0.015655,
     "end_time": "2023-07-04T10:02:14.224849",
     "exception": false,
     "start_time": "2023-07-04T10:02:14.209194",
     "status": "completed"
    },
    "tags": []
   },
   "outputs": [],
   "source": [
    "def cb_objective1(trial):\n",
    "    learning_rate = trial.suggest_float(\"learning_rate\",0.01,0.1)\n",
    "    n_estimators = trial.suggest_int(\"n_estimators\", 100, 1000)\n",
    "    depth = trial.suggest_int(\"depth\", 1, 10)\n",
    "    subsample = trial.suggest_float(\"subsample\", 0.5, 1) \n",
    "    colsample_bylevel = trial.suggest_float(\"colsample_bylevel\", 0.5, 1)\n",
    "    l2_leaf_reg = trial.suggest_float(\"l2_leaf_reg\", 1, 10)\n",
    "    min_data_in_leaf = trial.suggest_float(\"min_data_in_leaf\", 0.1, 10)\n",
    "    early_stopping_rounds = trial.suggest_int(\"early_stopping_rounds\",50,100)\n",
    "    \n",
    "    model = CatBoostClassifier(learning_rate=learning_rate,\n",
    "                               n_estimators=n_estimators,\n",
    "                               depth=depth,\n",
    "                               subsample=subsample,\n",
    "                               colsample_bylevel=colsample_bylevel,\n",
    "                               l2_leaf_reg=l2_leaf_reg,\n",
    "                               min_data_in_leaf=min_data_in_leaf,\n",
    "                               early_stopping_rounds=early_stopping_rounds,\n",
    "                               verbose=False,\n",
    "                               random_state=42)\n",
    "    model.fit(X_train1,y_train1)\n",
    "    y_pred = model.predict_proba(X_valid1)[:,1]\n",
    "    auc = roc_auc_score(y_valid1,y_pred)\n",
    "    return auc\n",
    "\n",
    "def cb_objective2(trial):\n",
    "    learning_rate = trial.suggest_float(\"learning_rate\",0.01,0.1)\n",
    "    n_estimators = trial.suggest_int(\"n_estimators\", 100, 1000)\n",
    "    depth = trial.suggest_int(\"depth\", 1, 10)\n",
    "    subsample = trial.suggest_float(\"subsample\", 0.5, 1) \n",
    "    colsample_bylevel = trial.suggest_float(\"colsample_bylevel\", 0.5, 1)\n",
    "    l2_leaf_reg = trial.suggest_float(\"l2_leaf_reg\", 1, 10)\n",
    "    min_data_in_leaf = trial.suggest_float(\"min_data_in_leaf\", 0.1, 10)\n",
    "    early_stopping_rounds = trial.suggest_int(\"early_stopping_rounds\",50,100)\n",
    "    \n",
    "    model = CatBoostClassifier(learning_rate=learning_rate,\n",
    "                               n_estimators=n_estimators,\n",
    "                               depth=depth,\n",
    "                               subsample=subsample,\n",
    "                               colsample_bylevel=colsample_bylevel,\n",
    "                               l2_leaf_reg=l2_leaf_reg,\n",
    "                               min_data_in_leaf=min_data_in_leaf,\n",
    "                               early_stopping_rounds=early_stopping_rounds,\n",
    "                               verbose=False,\n",
    "                               random_state=42)\n",
    "    model.fit(X_train2,y_train2)\n",
    "    y_pred = model.predict_proba(X_valid2)[:,1]\n",
    "    auc = roc_auc_score(y_valid2,y_pred)\n",
    "    return auc"
   ]
  },
  {
   "cell_type": "code",
   "execution_count": 5,
   "id": "7853520b",
   "metadata": {
    "execution": {
     "iopub.execute_input": "2023-07-04T10:02:14.232582Z",
     "iopub.status.busy": "2023-07-04T10:02:14.232072Z",
     "iopub.status.idle": "2023-07-04T11:51:20.598050Z",
     "shell.execute_reply": "2023-07-04T11:51:20.597396Z"
    },
    "papermill": {
     "duration": 6546.371846,
     "end_time": "2023-07-04T11:51:20.599833",
     "exception": false,
     "start_time": "2023-07-04T10:02:14.227987",
     "status": "completed"
    },
    "tags": []
   },
   "outputs": [
    {
     "data": {
      "application/vnd.jupyter.widget-view+json": {
       "model_id": "0381000ac2714e9dab876792681df6bd",
       "version_major": 2,
       "version_minor": 0
      },
      "text/plain": [
       "  0%|          | 0/3000 [00:00<?, ?it/s]"
      ]
     },
     "metadata": {},
     "output_type": "display_data"
    },
    {
     "name": "stdout",
     "output_type": "stream",
     "text": [
      "Best scores for CatBoostClassifier from Optuna:0.7097740346632431\n",
      "Best parameters for CatBoostClassifier from Optuna:{'learning_rate': 0.07235234437158797, 'n_estimators': 140, 'depth': 7, 'subsample': 0.705949146448928, 'colsample_bylevel': 0.7806605969690524, 'l2_leaf_reg': 6.560087418239543, 'min_data_in_leaf': 1.5470047921378567, 'early_stopping_rounds': 79}\n",
      "CPU times: user 4h 47min 49s, sys: 53min 49s, total: 5h 41min 38s\n",
      "Wall time: 1h 49min 6s\n"
     ]
    }
   ],
   "source": [
    "%%time\n",
    "cb_1_study = optuna.create_study(direction=\"maximize\", sampler=sampler)\n",
    "cb_1_study.optimize(cb_objective1, n_trials=3000, show_progress_bar=True)\n",
    "cb_1_best_score = cb_1_study.best_trial.value\n",
    "cb_1_best_params = cb_1_study.best_trial.params\n",
    "print(f\"Best scores for CatBoostClassifier from Optuna:{cb_1_best_score}\")\n",
    "print(f\"Best parameters for CatBoostClassifier from Optuna:{cb_1_best_params}\")\n"
   ]
  },
  {
   "cell_type": "code",
   "execution_count": 6,
   "id": "ea71aa27",
   "metadata": {
    "execution": {
     "iopub.execute_input": "2023-07-04T11:51:20.609214Z",
     "iopub.status.busy": "2023-07-04T11:51:20.608333Z",
     "iopub.status.idle": "2023-07-04T14:16:33.417319Z",
     "shell.execute_reply": "2023-07-04T14:16:33.416186Z"
    },
    "papermill": {
     "duration": 8712.818995,
     "end_time": "2023-07-04T14:16:33.423107",
     "exception": false,
     "start_time": "2023-07-04T11:51:20.604112",
     "status": "completed"
    },
    "tags": []
   },
   "outputs": [
    {
     "data": {
      "application/vnd.jupyter.widget-view+json": {
       "model_id": "4fb11007f08b4f0284ffa86f57ecf915",
       "version_major": 2,
       "version_minor": 0
      },
      "text/plain": [
       "  0%|          | 0/3000 [00:00<?, ?it/s]"
      ]
     },
     "metadata": {},
     "output_type": "display_data"
    },
    {
     "name": "stdout",
     "output_type": "stream",
     "text": [
      "Best scores for CatBoostClassifier from Optuna:0.6035460680751173\n",
      "Best parameters for CatBoostClassifier from Optuna:{'learning_rate': 0.019098871487790575, 'n_estimators': 145, 'depth': 6, 'subsample': 0.6008948955450693, 'colsample_bylevel': 0.7434451470986314, 'l2_leaf_reg': 6.994540881963135, 'min_data_in_leaf': 4.332098686205255, 'early_stopping_rounds': 64}\n",
      "CPU times: user 6h 4min 53s, sys: 1h 26min 30s, total: 7h 31min 24s\n",
      "Wall time: 2h 25min 12s\n"
     ]
    }
   ],
   "source": [
    "%%time\n",
    "cb_2_study = optuna.create_study(direction=\"maximize\", sampler=sampler)\n",
    "cb_2_study.optimize(cb_objective2, n_trials=3000, show_progress_bar=True)\n",
    "cb_2_best_score = cb_2_study.best_trial.value\n",
    "cb_2_best_params = cb_2_study.best_trial.params\n",
    "print(f\"Best scores for CatBoostClassifier from Optuna:{cb_2_best_score}\")\n",
    "print(f\"Best parameters for CatBoostClassifier from Optuna:{cb_2_best_params}\")\n"
   ]
  }
 ],
 "metadata": {
  "kernelspec": {
   "display_name": "Python 3",
   "language": "python",
   "name": "python3"
  },
  "language_info": {
   "codemirror_mode": {
    "name": "ipython",
    "version": 3
   },
   "file_extension": ".py",
   "mimetype": "text/x-python",
   "name": "python",
   "nbconvert_exporter": "python",
   "pygments_lexer": "ipython3",
   "version": "3.10.10"
  },
  "papermill": {
   "default_parameters": {},
   "duration": 15275.133086,
   "end_time": "2023-07-04T14:16:34.780500",
   "environment_variables": {},
   "exception": null,
   "input_path": "__notebook__.ipynb",
   "output_path": "__notebook__.ipynb",
   "parameters": {},
   "start_time": "2023-07-04T10:01:59.647414",
   "version": "2.4.0"
  },
  "widgets": {
   "application/vnd.jupyter.widget-state+json": {
    "state": {
     "0381000ac2714e9dab876792681df6bd": {
      "model_module": "@jupyter-widgets/controls",
      "model_module_version": "1.5.0",
      "model_name": "HBoxModel",
      "state": {
       "_dom_classes": [],
       "_model_module": "@jupyter-widgets/controls",
       "_model_module_version": "1.5.0",
       "_model_name": "HBoxModel",
       "_view_count": null,
       "_view_module": "@jupyter-widgets/controls",
       "_view_module_version": "1.5.0",
       "_view_name": "HBoxView",
       "box_style": "",
       "children": [
        "IPY_MODEL_dfc2399820114a6fa0ffff90498bd1b6",
        "IPY_MODEL_9318d1dc37af456880ef89924480cd05",
        "IPY_MODEL_2ad02e89d83f46e89f6cbf39f9beeb96"
       ],
       "layout": "IPY_MODEL_fa44381f8f0d4d1f82505754608cb748"
      }
     },
     "0f9a79436f474c29b43c25e88f6e35c8": {
      "model_module": "@jupyter-widgets/controls",
      "model_module_version": "1.5.0",
      "model_name": "ProgressStyleModel",
      "state": {
       "_model_module": "@jupyter-widgets/controls",
       "_model_module_version": "1.5.0",
       "_model_name": "ProgressStyleModel",
       "_view_count": null,
       "_view_module": "@jupyter-widgets/base",
       "_view_module_version": "1.2.0",
       "_view_name": "StyleView",
       "bar_color": null,
       "description_width": ""
      }
     },
     "18fa04a49652421b94592fef03f6f93f": {
      "model_module": "@jupyter-widgets/controls",
      "model_module_version": "1.5.0",
      "model_name": "HTMLModel",
      "state": {
       "_dom_classes": [],
       "_model_module": "@jupyter-widgets/controls",
       "_model_module_version": "1.5.0",
       "_model_name": "HTMLModel",
       "_view_count": null,
       "_view_module": "@jupyter-widgets/controls",
       "_view_module_version": "1.5.0",
       "_view_name": "HTMLView",
       "description": "",
       "description_tooltip": null,
       "layout": "IPY_MODEL_aaf3006bcf4441d8a874051913db37b3",
       "placeholder": "​",
       "style": "IPY_MODEL_834b1aabf216459db191e8bd262913a2",
       "value": " 3000/3000 [2:25:12&lt;00:00,  2.37s/it]"
      }
     },
     "1df0b279723b4e8ba4a30e43c22e8533": {
      "model_module": "@jupyter-widgets/base",
      "model_module_version": "1.2.0",
      "model_name": "LayoutModel",
      "state": {
       "_model_module": "@jupyter-widgets/base",
       "_model_module_version": "1.2.0",
       "_model_name": "LayoutModel",
       "_view_count": null,
       "_view_module": "@jupyter-widgets/base",
       "_view_module_version": "1.2.0",
       "_view_name": "LayoutView",
       "align_content": null,
       "align_items": null,
       "align_self": null,
       "border": null,
       "bottom": null,
       "display": null,
       "flex": null,
       "flex_flow": null,
       "grid_area": null,
       "grid_auto_columns": null,
       "grid_auto_flow": null,
       "grid_auto_rows": null,
       "grid_column": null,
       "grid_gap": null,
       "grid_row": null,
       "grid_template_areas": null,
       "grid_template_columns": null,
       "grid_template_rows": null,
       "height": null,
       "justify_content": null,
       "justify_items": null,
       "left": null,
       "margin": null,
       "max_height": null,
       "max_width": null,
       "min_height": null,
       "min_width": null,
       "object_fit": null,
       "object_position": null,
       "order": null,
       "overflow": null,
       "overflow_x": null,
       "overflow_y": null,
       "padding": null,
       "right": null,
       "top": null,
       "visibility": null,
       "width": null
      }
     },
     "1ff1e44d8c8a4f4382aac0e1b9355326": {
      "model_module": "@jupyter-widgets/controls",
      "model_module_version": "1.5.0",
      "model_name": "FloatProgressModel",
      "state": {
       "_dom_classes": [],
       "_model_module": "@jupyter-widgets/controls",
       "_model_module_version": "1.5.0",
       "_model_name": "FloatProgressModel",
       "_view_count": null,
       "_view_module": "@jupyter-widgets/controls",
       "_view_module_version": "1.5.0",
       "_view_name": "ProgressView",
       "bar_style": "success",
       "description": "",
       "description_tooltip": null,
       "layout": "IPY_MODEL_70ee80e820624c01a55e304060912d40",
       "max": 3000.0,
       "min": 0.0,
       "orientation": "horizontal",
       "style": "IPY_MODEL_2bad5f3125094f10ab31df4d8265bca9",
       "value": 3000.0
      }
     },
     "2ad02e89d83f46e89f6cbf39f9beeb96": {
      "model_module": "@jupyter-widgets/controls",
      "model_module_version": "1.5.0",
      "model_name": "HTMLModel",
      "state": {
       "_dom_classes": [],
       "_model_module": "@jupyter-widgets/controls",
       "_model_module_version": "1.5.0",
       "_model_name": "HTMLModel",
       "_view_count": null,
       "_view_module": "@jupyter-widgets/controls",
       "_view_module_version": "1.5.0",
       "_view_name": "HTMLView",
       "description": "",
       "description_tooltip": null,
       "layout": "IPY_MODEL_676c8e8e7a9249768cfcfa2e2e0426ba",
       "placeholder": "​",
       "style": "IPY_MODEL_a6aea2a852e84224b28f6d60707f6106",
       "value": " 3000/3000 [1:49:06&lt;00:00,  3.40s/it]"
      }
     },
     "2bad5f3125094f10ab31df4d8265bca9": {
      "model_module": "@jupyter-widgets/controls",
      "model_module_version": "1.5.0",
      "model_name": "ProgressStyleModel",
      "state": {
       "_model_module": "@jupyter-widgets/controls",
       "_model_module_version": "1.5.0",
       "_model_name": "ProgressStyleModel",
       "_view_count": null,
       "_view_module": "@jupyter-widgets/base",
       "_view_module_version": "1.2.0",
       "_view_name": "StyleView",
       "bar_color": null,
       "description_width": ""
      }
     },
     "412f36ef3d284c9b82f141f9cdee937d": {
      "model_module": "@jupyter-widgets/controls",
      "model_module_version": "1.5.0",
      "model_name": "DescriptionStyleModel",
      "state": {
       "_model_module": "@jupyter-widgets/controls",
       "_model_module_version": "1.5.0",
       "_model_name": "DescriptionStyleModel",
       "_view_count": null,
       "_view_module": "@jupyter-widgets/base",
       "_view_module_version": "1.2.0",
       "_view_name": "StyleView",
       "description_width": ""
      }
     },
     "4fb11007f08b4f0284ffa86f57ecf915": {
      "model_module": "@jupyter-widgets/controls",
      "model_module_version": "1.5.0",
      "model_name": "HBoxModel",
      "state": {
       "_dom_classes": [],
       "_model_module": "@jupyter-widgets/controls",
       "_model_module_version": "1.5.0",
       "_model_name": "HBoxModel",
       "_view_count": null,
       "_view_module": "@jupyter-widgets/controls",
       "_view_module_version": "1.5.0",
       "_view_name": "HBoxView",
       "box_style": "",
       "children": [
        "IPY_MODEL_b8accbb14ff343339a0f379e69913597",
        "IPY_MODEL_1ff1e44d8c8a4f4382aac0e1b9355326",
        "IPY_MODEL_18fa04a49652421b94592fef03f6f93f"
       ],
       "layout": "IPY_MODEL_7aae81a79a794a66b2bb9c1cd0aa0710"
      }
     },
     "676c8e8e7a9249768cfcfa2e2e0426ba": {
      "model_module": "@jupyter-widgets/base",
      "model_module_version": "1.2.0",
      "model_name": "LayoutModel",
      "state": {
       "_model_module": "@jupyter-widgets/base",
       "_model_module_version": "1.2.0",
       "_model_name": "LayoutModel",
       "_view_count": null,
       "_view_module": "@jupyter-widgets/base",
       "_view_module_version": "1.2.0",
       "_view_name": "LayoutView",
       "align_content": null,
       "align_items": null,
       "align_self": null,
       "border": null,
       "bottom": null,
       "display": null,
       "flex": null,
       "flex_flow": null,
       "grid_area": null,
       "grid_auto_columns": null,
       "grid_auto_flow": null,
       "grid_auto_rows": null,
       "grid_column": null,
       "grid_gap": null,
       "grid_row": null,
       "grid_template_areas": null,
       "grid_template_columns": null,
       "grid_template_rows": null,
       "height": null,
       "justify_content": null,
       "justify_items": null,
       "left": null,
       "margin": null,
       "max_height": null,
       "max_width": null,
       "min_height": null,
       "min_width": null,
       "object_fit": null,
       "object_position": null,
       "order": null,
       "overflow": null,
       "overflow_x": null,
       "overflow_y": null,
       "padding": null,
       "right": null,
       "top": null,
       "visibility": null,
       "width": null
      }
     },
     "70ee80e820624c01a55e304060912d40": {
      "model_module": "@jupyter-widgets/base",
      "model_module_version": "1.2.0",
      "model_name": "LayoutModel",
      "state": {
       "_model_module": "@jupyter-widgets/base",
       "_model_module_version": "1.2.0",
       "_model_name": "LayoutModel",
       "_view_count": null,
       "_view_module": "@jupyter-widgets/base",
       "_view_module_version": "1.2.0",
       "_view_name": "LayoutView",
       "align_content": null,
       "align_items": null,
       "align_self": null,
       "border": null,
       "bottom": null,
       "display": null,
       "flex": null,
       "flex_flow": null,
       "grid_area": null,
       "grid_auto_columns": null,
       "grid_auto_flow": null,
       "grid_auto_rows": null,
       "grid_column": null,
       "grid_gap": null,
       "grid_row": null,
       "grid_template_areas": null,
       "grid_template_columns": null,
       "grid_template_rows": null,
       "height": null,
       "justify_content": null,
       "justify_items": null,
       "left": null,
       "margin": null,
       "max_height": null,
       "max_width": null,
       "min_height": null,
       "min_width": null,
       "object_fit": null,
       "object_position": null,
       "order": null,
       "overflow": null,
       "overflow_x": null,
       "overflow_y": null,
       "padding": null,
       "right": null,
       "top": null,
       "visibility": null,
       "width": null
      }
     },
     "7aae81a79a794a66b2bb9c1cd0aa0710": {
      "model_module": "@jupyter-widgets/base",
      "model_module_version": "1.2.0",
      "model_name": "LayoutModel",
      "state": {
       "_model_module": "@jupyter-widgets/base",
       "_model_module_version": "1.2.0",
       "_model_name": "LayoutModel",
       "_view_count": null,
       "_view_module": "@jupyter-widgets/base",
       "_view_module_version": "1.2.0",
       "_view_name": "LayoutView",
       "align_content": null,
       "align_items": null,
       "align_self": null,
       "border": null,
       "bottom": null,
       "display": null,
       "flex": null,
       "flex_flow": null,
       "grid_area": null,
       "grid_auto_columns": null,
       "grid_auto_flow": null,
       "grid_auto_rows": null,
       "grid_column": null,
       "grid_gap": null,
       "grid_row": null,
       "grid_template_areas": null,
       "grid_template_columns": null,
       "grid_template_rows": null,
       "height": null,
       "justify_content": null,
       "justify_items": null,
       "left": null,
       "margin": null,
       "max_height": null,
       "max_width": null,
       "min_height": null,
       "min_width": null,
       "object_fit": null,
       "object_position": null,
       "order": null,
       "overflow": null,
       "overflow_x": null,
       "overflow_y": null,
       "padding": null,
       "right": null,
       "top": null,
       "visibility": null,
       "width": null
      }
     },
     "834b1aabf216459db191e8bd262913a2": {
      "model_module": "@jupyter-widgets/controls",
      "model_module_version": "1.5.0",
      "model_name": "DescriptionStyleModel",
      "state": {
       "_model_module": "@jupyter-widgets/controls",
       "_model_module_version": "1.5.0",
       "_model_name": "DescriptionStyleModel",
       "_view_count": null,
       "_view_module": "@jupyter-widgets/base",
       "_view_module_version": "1.2.0",
       "_view_name": "StyleView",
       "description_width": ""
      }
     },
     "8dca0eb4fdcd4c7a988800bbaf50ce6e": {
      "model_module": "@jupyter-widgets/base",
      "model_module_version": "1.2.0",
      "model_name": "LayoutModel",
      "state": {
       "_model_module": "@jupyter-widgets/base",
       "_model_module_version": "1.2.0",
       "_model_name": "LayoutModel",
       "_view_count": null,
       "_view_module": "@jupyter-widgets/base",
       "_view_module_version": "1.2.0",
       "_view_name": "LayoutView",
       "align_content": null,
       "align_items": null,
       "align_self": null,
       "border": null,
       "bottom": null,
       "display": null,
       "flex": null,
       "flex_flow": null,
       "grid_area": null,
       "grid_auto_columns": null,
       "grid_auto_flow": null,
       "grid_auto_rows": null,
       "grid_column": null,
       "grid_gap": null,
       "grid_row": null,
       "grid_template_areas": null,
       "grid_template_columns": null,
       "grid_template_rows": null,
       "height": null,
       "justify_content": null,
       "justify_items": null,
       "left": null,
       "margin": null,
       "max_height": null,
       "max_width": null,
       "min_height": null,
       "min_width": null,
       "object_fit": null,
       "object_position": null,
       "order": null,
       "overflow": null,
       "overflow_x": null,
       "overflow_y": null,
       "padding": null,
       "right": null,
       "top": null,
       "visibility": null,
       "width": null
      }
     },
     "9318d1dc37af456880ef89924480cd05": {
      "model_module": "@jupyter-widgets/controls",
      "model_module_version": "1.5.0",
      "model_name": "FloatProgressModel",
      "state": {
       "_dom_classes": [],
       "_model_module": "@jupyter-widgets/controls",
       "_model_module_version": "1.5.0",
       "_model_name": "FloatProgressModel",
       "_view_count": null,
       "_view_module": "@jupyter-widgets/controls",
       "_view_module_version": "1.5.0",
       "_view_name": "ProgressView",
       "bar_style": "success",
       "description": "",
       "description_tooltip": null,
       "layout": "IPY_MODEL_1df0b279723b4e8ba4a30e43c22e8533",
       "max": 3000.0,
       "min": 0.0,
       "orientation": "horizontal",
       "style": "IPY_MODEL_0f9a79436f474c29b43c25e88f6e35c8",
       "value": 3000.0
      }
     },
     "a6aea2a852e84224b28f6d60707f6106": {
      "model_module": "@jupyter-widgets/controls",
      "model_module_version": "1.5.0",
      "model_name": "DescriptionStyleModel",
      "state": {
       "_model_module": "@jupyter-widgets/controls",
       "_model_module_version": "1.5.0",
       "_model_name": "DescriptionStyleModel",
       "_view_count": null,
       "_view_module": "@jupyter-widgets/base",
       "_view_module_version": "1.2.0",
       "_view_name": "StyleView",
       "description_width": ""
      }
     },
     "aaf3006bcf4441d8a874051913db37b3": {
      "model_module": "@jupyter-widgets/base",
      "model_module_version": "1.2.0",
      "model_name": "LayoutModel",
      "state": {
       "_model_module": "@jupyter-widgets/base",
       "_model_module_version": "1.2.0",
       "_model_name": "LayoutModel",
       "_view_count": null,
       "_view_module": "@jupyter-widgets/base",
       "_view_module_version": "1.2.0",
       "_view_name": "LayoutView",
       "align_content": null,
       "align_items": null,
       "align_self": null,
       "border": null,
       "bottom": null,
       "display": null,
       "flex": null,
       "flex_flow": null,
       "grid_area": null,
       "grid_auto_columns": null,
       "grid_auto_flow": null,
       "grid_auto_rows": null,
       "grid_column": null,
       "grid_gap": null,
       "grid_row": null,
       "grid_template_areas": null,
       "grid_template_columns": null,
       "grid_template_rows": null,
       "height": null,
       "justify_content": null,
       "justify_items": null,
       "left": null,
       "margin": null,
       "max_height": null,
       "max_width": null,
       "min_height": null,
       "min_width": null,
       "object_fit": null,
       "object_position": null,
       "order": null,
       "overflow": null,
       "overflow_x": null,
       "overflow_y": null,
       "padding": null,
       "right": null,
       "top": null,
       "visibility": null,
       "width": null
      }
     },
     "b8accbb14ff343339a0f379e69913597": {
      "model_module": "@jupyter-widgets/controls",
      "model_module_version": "1.5.0",
      "model_name": "HTMLModel",
      "state": {
       "_dom_classes": [],
       "_model_module": "@jupyter-widgets/controls",
       "_model_module_version": "1.5.0",
       "_model_name": "HTMLModel",
       "_view_count": null,
       "_view_module": "@jupyter-widgets/controls",
       "_view_module_version": "1.5.0",
       "_view_name": "HTMLView",
       "description": "",
       "description_tooltip": null,
       "layout": "IPY_MODEL_8dca0eb4fdcd4c7a988800bbaf50ce6e",
       "placeholder": "​",
       "style": "IPY_MODEL_bcddb85d33c04a3596621a9523078004",
       "value": "Best trial: 761. Best value: 0.603546: 100%"
      }
     },
     "bcddb85d33c04a3596621a9523078004": {
      "model_module": "@jupyter-widgets/controls",
      "model_module_version": "1.5.0",
      "model_name": "DescriptionStyleModel",
      "state": {
       "_model_module": "@jupyter-widgets/controls",
       "_model_module_version": "1.5.0",
       "_model_name": "DescriptionStyleModel",
       "_view_count": null,
       "_view_module": "@jupyter-widgets/base",
       "_view_module_version": "1.2.0",
       "_view_name": "StyleView",
       "description_width": ""
      }
     },
     "ccf97fa1ad724497979decad6e2682fc": {
      "model_module": "@jupyter-widgets/base",
      "model_module_version": "1.2.0",
      "model_name": "LayoutModel",
      "state": {
       "_model_module": "@jupyter-widgets/base",
       "_model_module_version": "1.2.0",
       "_model_name": "LayoutModel",
       "_view_count": null,
       "_view_module": "@jupyter-widgets/base",
       "_view_module_version": "1.2.0",
       "_view_name": "LayoutView",
       "align_content": null,
       "align_items": null,
       "align_self": null,
       "border": null,
       "bottom": null,
       "display": null,
       "flex": null,
       "flex_flow": null,
       "grid_area": null,
       "grid_auto_columns": null,
       "grid_auto_flow": null,
       "grid_auto_rows": null,
       "grid_column": null,
       "grid_gap": null,
       "grid_row": null,
       "grid_template_areas": null,
       "grid_template_columns": null,
       "grid_template_rows": null,
       "height": null,
       "justify_content": null,
       "justify_items": null,
       "left": null,
       "margin": null,
       "max_height": null,
       "max_width": null,
       "min_height": null,
       "min_width": null,
       "object_fit": null,
       "object_position": null,
       "order": null,
       "overflow": null,
       "overflow_x": null,
       "overflow_y": null,
       "padding": null,
       "right": null,
       "top": null,
       "visibility": null,
       "width": null
      }
     },
     "dfc2399820114a6fa0ffff90498bd1b6": {
      "model_module": "@jupyter-widgets/controls",
      "model_module_version": "1.5.0",
      "model_name": "HTMLModel",
      "state": {
       "_dom_classes": [],
       "_model_module": "@jupyter-widgets/controls",
       "_model_module_version": "1.5.0",
       "_model_name": "HTMLModel",
       "_view_count": null,
       "_view_module": "@jupyter-widgets/controls",
       "_view_module_version": "1.5.0",
       "_view_name": "HTMLView",
       "description": "",
       "description_tooltip": null,
       "layout": "IPY_MODEL_ccf97fa1ad724497979decad6e2682fc",
       "placeholder": "​",
       "style": "IPY_MODEL_412f36ef3d284c9b82f141f9cdee937d",
       "value": "Best trial: 1385. Best value: 0.709774: 100%"
      }
     },
     "fa44381f8f0d4d1f82505754608cb748": {
      "model_module": "@jupyter-widgets/base",
      "model_module_version": "1.2.0",
      "model_name": "LayoutModel",
      "state": {
       "_model_module": "@jupyter-widgets/base",
       "_model_module_version": "1.2.0",
       "_model_name": "LayoutModel",
       "_view_count": null,
       "_view_module": "@jupyter-widgets/base",
       "_view_module_version": "1.2.0",
       "_view_name": "LayoutView",
       "align_content": null,
       "align_items": null,
       "align_self": null,
       "border": null,
       "bottom": null,
       "display": null,
       "flex": null,
       "flex_flow": null,
       "grid_area": null,
       "grid_auto_columns": null,
       "grid_auto_flow": null,
       "grid_auto_rows": null,
       "grid_column": null,
       "grid_gap": null,
       "grid_row": null,
       "grid_template_areas": null,
       "grid_template_columns": null,
       "grid_template_rows": null,
       "height": null,
       "justify_content": null,
       "justify_items": null,
       "left": null,
       "margin": null,
       "max_height": null,
       "max_width": null,
       "min_height": null,
       "min_width": null,
       "object_fit": null,
       "object_position": null,
       "order": null,
       "overflow": null,
       "overflow_x": null,
       "overflow_y": null,
       "padding": null,
       "right": null,
       "top": null,
       "visibility": null,
       "width": null
      }
     }
    },
    "version_major": 2,
    "version_minor": 0
   }
  }
 },
 "nbformat": 4,
 "nbformat_minor": 5
}
